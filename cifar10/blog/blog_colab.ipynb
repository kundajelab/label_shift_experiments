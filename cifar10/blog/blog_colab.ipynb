{
 "cells": [
  {
   "cell_type": "code",
   "execution_count": 1,
   "metadata": {},
   "outputs": [
    {
     "name": "stdout",
     "output_type": "stream",
     "text": [
      "--2020-11-20 17:23:44--  https://zenodo.org/record/3406662/files/test_labels.txt.gz?download?=1\n",
      "Resolving zenodo.org (zenodo.org)... 137.138.76.77\n",
      "Connecting to zenodo.org (zenodo.org)|137.138.76.77|:443... connected.\n",
      "HTTP request sent, awaiting response... 200 OK\n",
      "Length: 6001 (5.9K) [application/octet-stream]\n",
      "Saving to: ‘test_labels.txt.gz’\n",
      "\n",
      "test_labels.txt.gz  100%[===================>]   5.86K  --.-KB/s    in 0s      \n",
      "\n",
      "2020-11-20 17:23:45 (498 MB/s) - ‘test_labels.txt.gz’ saved [6001/6001]\n",
      "\n",
      "--2020-11-20 17:23:45--  https://zenodo.org/record/3406662/files/valid_labels.txt.gz?download?=1\n",
      "Resolving zenodo.org (zenodo.org)... 137.138.76.77\n",
      "Connecting to zenodo.org (zenodo.org)|137.138.76.77|:443... connected.\n",
      "HTTP request sent, awaiting response... 200 OK\n",
      "Length: 5969 (5.8K) [application/octet-stream]\n",
      "Saving to: ‘valid_labels.txt.gz’\n",
      "\n",
      "valid_labels.txt.gz 100%[===================>]   5.83K  --.-KB/s    in 0s      \n",
      "\n",
      "2020-11-20 17:23:46 (531 MB/s) - ‘valid_labels.txt.gz’ saved [5969/5969]\n",
      "\n",
      "--2020-11-20 17:23:46--  https://zenodo.org/record/3406662/files/testpreacts_model_cifar10_balanced_seed-0_bestbefore-100_currentepoch-100_valacc-91_vgg.txt.gz?download=1\n",
      "Resolving zenodo.org (zenodo.org)... 137.138.76.77\n",
      "Connecting to zenodo.org (zenodo.org)|137.138.76.77|:443... connected.\n",
      "HTTP request sent, awaiting response... 200 OK\n",
      "Length: 477575 (466K) [application/octet-stream]\n",
      "Saving to: ‘testpreacts_model_cifar10_balanced_seed-0_bestbefore-100_currentepoch-100_valacc-91_vgg.txt.gz’\n",
      "\n",
      "testpreacts_model_c 100%[===================>] 466.38K   594KB/s    in 0.8s    \n",
      "\n",
      "2020-11-20 17:23:48 (594 KB/s) - ‘testpreacts_model_cifar10_balanced_seed-0_bestbefore-100_currentepoch-100_valacc-91_vgg.txt.gz’ saved [477575/477575]\n",
      "\n",
      "--2020-11-20 17:23:48--  https://zenodo.org/record/3406662/files/validpreacts_model_cifar10_balanced_seed-0_bestbefore-100_currentepoch-100_valacc-91_vgg.txt.gz?download=1\n",
      "Resolving zenodo.org (zenodo.org)... 137.138.76.77\n",
      "Connecting to zenodo.org (zenodo.org)|137.138.76.77|:443... connected.\n",
      "HTTP request sent, awaiting response... 200 OK\n",
      "Length: 477745 (467K) [application/octet-stream]\n",
      "Saving to: ‘validpreacts_model_cifar10_balanced_seed-0_bestbefore-100_currentepoch-100_valacc-91_vgg.txt.gz’\n",
      "\n",
      "validpreacts_model_ 100%[===================>] 466.55K   592KB/s    in 0.8s    \n",
      "\n",
      "2020-11-20 17:23:50 (592 KB/s) - ‘validpreacts_model_cifar10_balanced_seed-0_bestbefore-100_currentepoch-100_valacc-91_vgg.txt.gz’ saved [477745/477745]\n",
      "\n"
     ]
    }
   ],
   "source": [
    "!wget https://zenodo.org/record/3406662/files/test_labels.txt.gz?download?=1 -O test_labels.txt.gz\n",
    "!wget https://zenodo.org/record/3406662/files/valid_labels.txt.gz?download?=1 -O valid_labels.txt.gz\n",
    "!wget https://zenodo.org/record/3406662/files/testpreacts_model_cifar10_balanced_seed-0_bestbefore-100_currentepoch-100_valacc-91_vgg.txt.gz?download=1 -O testpreacts_model_cifar10_balanced_seed-0_bestbefore-100_currentepoch-100_valacc-91_vgg.txt.gz\n",
    "!wget https://zenodo.org/record/3406662/files/validpreacts_model_cifar10_balanced_seed-0_bestbefore-100_currentepoch-100_valacc-91_vgg.txt.gz?download=1 -O validpreacts_model_cifar10_balanced_seed-0_bestbefore-100_currentepoch-100_valacc-91_vgg.txt.gz"
   ]
  },
  {
   "cell_type": "code",
   "execution_count": 2,
   "metadata": {},
   "outputs": [],
   "source": [
    "import gzip\n",
    "import glob\n",
    "import numpy as np\n",
    "from collections import defaultdict\n",
    "from abstention.calibration import softmax, TempScaling\n",
    "from abstention.label_shift import EMImbalanceAdapter"
   ]
  },
  {
   "cell_type": "code",
   "execution_count": 3,
   "metadata": {},
   "outputs": [],
   "source": [
    "def read_labels(fh):\n",
    "    to_return = []\n",
    "    for line in fh:\n",
    "        the_class=int(line.rstrip())\n",
    "        to_add = np.zeros(10)\n",
    "        to_add[the_class] = 1\n",
    "        to_return.append(to_add)\n",
    "    return np.array(to_return)\n",
    "\n",
    "test_labels = read_labels(gzip.open(glob.glob(\"test_labels.txt.gz\")[0]))\n",
    "valid_labels = read_labels(gzip.open(glob.glob(\"valid_labels.txt.gz\")[0]))\n",
    "\n",
    "def read_preds(fh):\n",
    "    return np.array([[float(x) for x in y.decode(\"utf-8\").rstrip().split(\"\\t\")]\n",
    "                     for y in fh])\n",
    "\n",
    "test_preds = softmax(preact=read_preds(gzip.open(glob.glob(\"testpreacts_model_cifar10_balanced_seed-0_bestbefore-100_currentepoch-100_valacc-91_vgg.txt.gz\")[0])),\n",
    "                     temp=1, biases=None)\n",
    "valid_preds = softmax(preact=read_preds(gzip.open(glob.glob(\"validpreacts_model_cifar10_balanced_seed-0_bestbefore-100_currentepoch-100_valacc-91_vgg.txt.gz\")[0])),\n",
    "                      temp=1, biases=None)"
   ]
  },
  {
   "cell_type": "code",
   "execution_count": 4,
   "metadata": {},
   "outputs": [],
   "source": [
    "def sample_from_probs_arr(arr_with_probs):\n",
    "    rand_num = np.random.random()\n",
    "    cdf_so_far = 0\n",
    "    for (idx, prob) in enumerate(arr_with_probs):\n",
    "        cdf_so_far += prob\n",
    "        if (cdf_so_far >= rand_num\n",
    "            or idx == (len(arr_with_probs) - 1)):  # need the\n",
    "            # letterIdx==(len(row)-1) clause because of potential floating point errors\n",
    "            # that mean arrWithProbs doesn't sum to 1\n",
    "            return idx\n",
    "        \n",
    "test_class_to_indices = defaultdict(list)\n",
    "for index,row in enumerate(test_labels):\n",
    "    row_label = np.argmax(row)\n",
    "    test_class_to_indices[row_label].append(index)\n",
    "\n",
    "def draw_test_indices(total_to_return, label_proportions):\n",
    "    indices_to_use = []\n",
    "    for class_index, class_proportion in enumerate(label_proportions):\n",
    "        indices_to_use.extend(np.random.choice(\n",
    "                test_class_to_indices[class_index],\n",
    "                int(total_to_return*class_proportion),\n",
    "                replace=True))\n",
    "    for i in range(total_to_return-len(indices_to_use)):\n",
    "        class_index = sample_from_probs_arr(label_proportions)\n",
    "        indices_to_use.append(\n",
    "            np.random.choice(test_class_to_indices[class_index]))\n",
    "    return indices_to_use\n",
    "\n",
    "dirichlet_alpha = 0.1\n",
    "samplesize = 1000\n",
    "dirichlet_dist = np.random.dirichlet([dirichlet_alpha for x in range(10)])\n",
    "test_indices = draw_test_indices(total_to_return=samplesize,\n",
    "                                 label_proportions=dirichlet_dist)\n",
    "shifted_test_labels = test_labels[test_indices]\n",
    "shifted_test_preds = test_preds[test_indices]"
   ]
  },
  {
   "cell_type": "code",
   "execution_count": 5,
   "metadata": {},
   "outputs": [],
   "source": [
    "imbalance_adapter = EMImbalanceAdapter(calibrator_factory =\n",
    "        TempScaling(verbose=False, bias_positions='all'))\n",
    "\n",
    "imbalance_adapter_func = imbalance_adapter(valid_labels=valid_labels,\n",
    "                      tofit_initial_posterior_probs=shifted_test_preds,\n",
    "                      valid_posterior_probs=valid_preds)\n",
    "\n",
    "adapted_shifted_test_preds = imbalance_adapter_func(shifted_test_preds)"
   ]
  },
  {
   "cell_type": "code",
   "execution_count": 6,
   "metadata": {},
   "outputs": [
    {
     "name": "stdout",
     "output_type": "stream",
     "text": [
      "0.903 0.961\n"
     ]
    }
   ],
   "source": [
    "test_accuracy = np.mean(np.argmax(shifted_test_labels,axis=-1)==np.argmax(shifted_test_preds,axis=-1))\n",
    "adapted_test_accuracy = np.mean(np.argmax(shifted_test_labels,axis=-1)==np.argmax(adapted_shifted_test_preds,axis=-1))\n",
    "print(test_accuracy, adapted_test_accuracy)"
   ]
  }
 ],
 "metadata": {
  "kernelspec": {
   "display_name": "Python [conda env:basepair]",
   "language": "python",
   "name": "conda-env-basepair-py"
  },
  "language_info": {
   "codemirror_mode": {
    "name": "ipython",
    "version": 3
   },
   "file_extension": ".py",
   "mimetype": "text/x-python",
   "name": "python",
   "nbconvert_exporter": "python",
   "pygments_lexer": "ipython3",
   "version": "3.6.8"
  }
 },
 "nbformat": 4,
 "nbformat_minor": 4
}
