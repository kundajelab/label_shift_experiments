{
 "cells": [
  {
   "cell_type": "code",
   "execution_count": 1,
   "metadata": {},
   "outputs": [],
   "source": [
    "from __future__ import division, print_function\n",
    "from importlib import reload"
   ]
  },
  {
   "cell_type": "code",
   "execution_count": 2,
   "metadata": {},
   "outputs": [],
   "source": [
    "import abstention\n",
    "reload(abstention)\n",
    "reload(abstention.calibration)\n",
    "reload(abstention.label_shift)\n",
    "from abstention.calibration import TempScaling, ConfusionMatrix, softmax\n",
    "from abstention.label_shift import EMImbalanceAdapter, BBSEImbalanceAdapter, ShiftWeightFromImbalanceAdapter\n",
    "import glob\n",
    "import gzip\n",
    "import numpy as np\n",
    "from scipy.spatial import distance\n",
    "from collections import defaultdict\n",
    "import matplotlib.pyplot as plt\n",
    "%matplotlib inline\n",
    "\n",
    "def read_labels(fh):\n",
    "    to_return = []\n",
    "    for line in fh:\n",
    "        the_class=int(line.rstrip())\n",
    "        to_add = np.zeros(10)\n",
    "        to_add[the_class] = 1\n",
    "        to_return.append(to_add)\n",
    "    return np.array(to_return)\n",
    "\n",
    "def read_preds(fh):\n",
    "    return np.array([[float(x) for x in y.decode(\"utf-8\").rstrip().split(\"\\t\")]\n",
    "                     for y in fh])"
   ]
  },
  {
   "cell_type": "code",
   "execution_count": 3,
   "metadata": {},
   "outputs": [],
   "source": [
    "valid_labels = read_labels(gzip.open(glob.glob(\"valid_labels.txt.gz\")[0]))\n",
    "test_labels = read_labels(gzip.open(glob.glob(\"test_labels.txt.gz\")[0]))\n",
    "calibrator_factory=TempScaling(verbose=False)\n",
    "bc_calibrator_factory=TempScaling(verbose=False, bias_positions=[0,1,2,3,4,5,6,7,8,9])\n",
    "softmax_diffs = []\n",
    "ts_diffs = []\n",
    "bcts_diffs = []\n",
    "softmax_js = []\n",
    "ts_js = []\n",
    "bcts_js = []"
   ]
  },
  {
   "cell_type": "code",
   "execution_count": 4,
   "metadata": {},
   "outputs": [],
   "source": [
    "for seed in [0, 10, 20, 30, 40, 50, 60, 70, 80, 90]: \n",
    "    valid_preacts = read_preds(gzip.open(glob.glob(\"cifar10_balanced_seed-\"+str(seed)+\"_*validpreds.txt.gz\")[0]))\n",
    "    test_preacts = read_preds(gzip.open(glob.glob(\"cifar10_balanced_seed-\"+str(seed)+\"_*testpreds.txt.gz\")[0]))\n",
    "    test_preds = softmax(preact=test_preacts,temp=1, biases=None)\n",
    "    func = calibrator_factory(valid_preacts, valid_labels)\n",
    "    temp_scaled_preds = func(test_preacts)\n",
    "    bcfunc = bc_calibrator_factory(valid_preacts, valid_labels)\n",
    "    bcts_preds = bcfunc(test_preacts)\n",
    "    softmax_diffs.append(np.max(np.abs(np.mean(test_preds, axis = 0)-np.mean(test_labels, axis = 0))))\n",
    "    ts_diffs.append(np.max(np.abs(np.mean(temp_scaled_preds, axis = 0)-np.mean(test_labels, axis = 0))))\n",
    "    bcts_diffs.append(np.max(np.abs(np.mean(bcts_preds, axis = 0)-np.mean(test_labels, axis = 0))))\n",
    "    softmax_js.append(distance.jensenshannon(np.mean(test_preds, axis = 0),np.mean(test_labels, axis = 0)))\n",
    "    ts_js.append(distance.jensenshannon(np.mean(temp_scaled_preds, axis = 0),np.mean(test_labels, axis = 0)))\n",
    "    bcts_js.append(distance.jensenshannon(np.mean(bcts_preds, axis = 0),np.mean(test_labels, axis = 0)))"
   ]
  },
  {
   "cell_type": "code",
   "execution_count": 5,
   "metadata": {},
   "outputs": [
    {
     "data": {
      "image/png": "[encoded data removed]",
      "text/plain": [
       "<Figure size 432x288 with 1 Axes>"
      ]
     },
     "metadata": {},
     "output_type": "display_data"
    }
   ],
   "source": [
    "x = np.arange(3)\n",
    "methods = ['softmax', 'TS', 'BCTS']\n",
    "y = [np.mean(np.array(softmax_diffs)), np.mean(np.array(ts_diffs)), np.mean(np.array(bcts_diffs))]\n",
    "error = [np.std(np.array(softmax_diffs)), np.std(np.array(ts_diffs)), np.std(np.array(bcts_diffs))]\n",
    "fig, ax = plt.subplots()\n",
    "\n",
    "ax.bar(x, y, yerr=error, align='center', alpha=0.5, ecolor='black', capsize=10)\n",
    "ax.set_ylabel('Largest Absolute Difference Between Averages')\n",
    "ax.set_xticks(x)\n",
    "ax.set_xticklabels(methods)\n",
    "ax.set_title('CIFAR10')\n",
    "ax.yaxis.grid(True)\n",
    "plt.tight_layout()\n",
    "plt.show()"
   ]
  },
  {
   "cell_type": "code",
   "execution_count": 6,
   "metadata": {},
   "outputs": [
    {
     "data": {
      "image/png": "[encoded data removed]",
      "text/plain": [
       "<Figure size 432x288 with 1 Axes>"
      ]
     },
     "metadata": {},
     "output_type": "display_data"
    }
   ],
   "source": [
    "x = np.arange(3)\n",
    "methods = ['softmax', 'TS', 'BCTS']\n",
    "y = [np.mean(np.array(softmax_js)), np.mean(np.array(ts_js)), np.mean(np.array(bcts_js))]\n",
    "error = [np.std(np.array(softmax_js)), np.std(np.array(ts_js)), np.std(np.array(bcts_js))]\n",
    "fig, ax = plt.subplots()\n",
    "\n",
    "ax.bar(x, y, yerr=error, align='center', alpha=0.5, ecolor='black', capsize=10)\n",
    "ax.set_ylabel('Average Jensen Shannon Difference')\n",
    "ax.set_xticks(x)\n",
    "ax.set_xticklabels(methods)\n",
    "ax.set_title('CIFAR10')\n",
    "ax.yaxis.grid(True)\n",
    "plt.tight_layout()\n",
    "plt.show()"
   ]
  }
 ],
 "metadata": {
  "kernelspec": {
   "display_name": "Python [conda env:basepair]",
   "language": "python",
   "name": "conda-env-basepair-py"
  },
  "language_info": {
   "codemirror_mode": {
    "name": "ipython",
    "version": 3
   },
   "file_extension": ".py",
   "mimetype": "text/x-python",
   "name": "python",
   "nbconvert_exporter": "python",
   "pygments_lexer": "ipython3",
   "version": "3.6.8"
  }
 },
 "nbformat": 4,
 "nbformat_minor": 2
}
