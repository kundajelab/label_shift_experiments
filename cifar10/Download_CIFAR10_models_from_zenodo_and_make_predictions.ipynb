{
 "cells": [
  {
   "cell_type": "markdown",
   "metadata": {
    "colab_type": "text",
    "id": "view-in-github"
   },
   "source": [
    "<a href=\"https://colab.research.google.com/github/kundajelab/label_shift_experiments/blob/master/cifar10/Download_CIFAR10_models_from_zenodo_and_make_predictions.ipynb\" target=\"_parent\"><img src=\"https://colab.research.google.com/assets/colab-badge.svg\" alt=\"Open In Colab\"/></a>"
   ]
  },
  {
   "cell_type": "code",
   "execution_count": 1,
   "metadata": {
    "colab": {
     "base_uri": "https://localhost:8080/",
     "height": 173
    },
    "colab_type": "code",
    "id": "mI8d9Ba259nS",
    "outputId": "c68357ef-f6e7-4b13-9ad5-e718d85f7a69"
   },
   "outputs": [
    {
     "name": "stdout",
     "output_type": "stream",
     "text": [
      "Collecting wget\n",
      "  Downloading https://files.pythonhosted.org/packages/47/6a/62e288da7bcda82b935ff0c6cfe542970f04e29c756b0e147251b2fb251f/wget-3.2.zip\n",
      "Building wheels for collected packages: wget\n",
      "  Building wheel for wget (setup.py) ... \u001b[?25ldone\n",
      "\u001b[?25h  Stored in directory: /root/.cache/pip/wheels/40/15/30/7d8f7cea2902b4db79e3fea550d7d7b85ecb27ef992b618f3f\n",
      "Successfully built wget\n",
      "Installing collected packages: wget\n",
      "Successfully installed wget-3.2\n"
     ]
    }
   ],
   "source": [
    "!pip install wget"
   ]
  },
  {
   "cell_type": "code",
   "execution_count": 2,
   "metadata": {
    "colab": {
     "base_uri": "https://localhost:8080/",
     "height": 1975
    },
    "colab_type": "code",
    "id": "Fv31piT55-7K",
    "outputId": "7c531c2f-fefe-4ff8-c9c8-b39e4693d2ca"
   },
   "outputs": [
    {
     "name": "stderr",
     "output_type": "stream",
     "text": [
      "Using TensorFlow backend.\n"
     ]
    },
    {
     "name": "stdout",
     "output_type": "stream",
     "text": [
      "keras version: 2.2.4\n",
      "tensorflow version: 1.13.1\n",
      "Downloading data from https://www.cs.toronto.edu/~kriz/cifar-10-python.tar.gz\n",
      "170500096/170498071 [==============================] - 18s 0us/step\n",
      "On model model_cifar10_balanced_seed-0_bestbefore-100_currentepoch-100_valacc-91_vgg.h5\n",
      "Downloading model_cifar10_balanced_seed-0_bestbefore-100_currentepoch-100_valacc-91_vgg.h5\n",
      "WARNING:tensorflow:From /usr/local/lib/python3.6/dist-packages/tensorflow/python/framework/op_def_library.py:263: colocate_with (from tensorflow.python.framework.ops) is deprecated and will be removed in a future version.\n",
      "Instructions for updating:\n",
      "Colocations handled automatically by placer.\n",
      "WARNING:tensorflow:From /usr/local/lib/python3.6/dist-packages/keras/backend/tensorflow_backend.py:3445: calling dropout (from tensorflow.python.ops.nn_ops) with keep_prob is deprecated and will be removed in a future version.\n",
      "Instructions for updating:\n",
      "Please use `rate` instead of `keep_prob`. Rate should be set to `rate = 1 - keep_prob`.\n"
     ]
    },
    {
     "name": "stderr",
     "output_type": "stream",
     "text": [
      "/usr/local/lib/python3.6/dist-packages/keras/engine/saving.py:292: UserWarning: No training configuration found in save file: the model was *not* compiled. Compile it manually.\n",
      "  warnings.warn('No training configuration found in save file: '\n",
      "/usr/local/lib/python3.6/dist-packages/ipykernel_launcher.py:43: UserWarning: Update your `Model` call to the Keras 2 API: `Model(inputs=Tensor(\"co..., outputs=Tensor(\"de...)`\n"
     ]
    },
    {
     "name": "stdout",
     "output_type": "stream",
     "text": [
      "Making predictions on validation set\n",
      "Making predictions on test set\n",
      "Test accuracy 0.8967\n",
      "Valid accuracy 0.9054\n",
      "Saving testpreacts_model_cifar10_balanced_seed-0_bestbefore-100_currentepoch-100_valacc-91_vgg.txt\n",
      "a1e7f2dfef7be74264a695d50b47bad7  testpreacts_model_cifar10_balanced_seed-0_bestbefore-100_currentepoch-100_valacc-91_vgg.txt\n",
      "Saving validpreacts_model_cifar10_balanced_seed-0_bestbefore-100_currentepoch-100_valacc-91_vgg.txt\n",
      "78946084522fda04a0c1207caf8186b9  validpreacts_model_cifar10_balanced_seed-0_bestbefore-100_currentepoch-100_valacc-91_vgg.txt\n",
      "On model model_cifar10_balanced_seed-10_bestbefore-100_currentepoch-100_valacc-91_vgg.h5\n",
      "Downloading model_cifar10_balanced_seed-10_bestbefore-100_currentepoch-100_valacc-91_vgg.h5\n",
      "Making predictions on validation set\n",
      "Making predictions on test set\n",
      "Test accuracy 0.9029\n",
      "Valid accuracy 0.9073\n",
      "Saving testpreacts_model_cifar10_balanced_seed-10_bestbefore-100_currentepoch-100_valacc-91_vgg.txt\n",
      "55c13ffa492ecb6bd0492b031a338352  testpreacts_model_cifar10_balanced_seed-10_bestbefore-100_currentepoch-100_valacc-91_vgg.txt\n",
      "Saving validpreacts_model_cifar10_balanced_seed-10_bestbefore-100_currentepoch-100_valacc-91_vgg.txt\n",
      "594aa548712bcef8fbcdc1427a947f3f  validpreacts_model_cifar10_balanced_seed-10_bestbefore-100_currentepoch-100_valacc-91_vgg.txt\n",
      "On model model_cifar10_balanced_seed-20_bestbefore-100_currentepoch-100_valacc-91_vgg.h5\n",
      "Downloading model_cifar10_balanced_seed-20_bestbefore-100_currentepoch-100_valacc-91_vgg.h5\n",
      "Making predictions on validation set\n",
      "Making predictions on test set\n",
      "Test accuracy 0.9025\n",
      "Valid accuracy 0.9078\n",
      "Saving testpreacts_model_cifar10_balanced_seed-20_bestbefore-100_currentepoch-100_valacc-91_vgg.txt\n",
      "2ca636af80d18f04237acc4c848e1ed0  testpreacts_model_cifar10_balanced_seed-20_bestbefore-100_currentepoch-100_valacc-91_vgg.txt\n",
      "Saving validpreacts_model_cifar10_balanced_seed-20_bestbefore-100_currentepoch-100_valacc-91_vgg.txt\n",
      "607fc7d6242556dae2b036e8fa7277f7  validpreacts_model_cifar10_balanced_seed-20_bestbefore-100_currentepoch-100_valacc-91_vgg.txt\n",
      "On model model_cifar10_balanced_seed-30_bestbefore-100_currentepoch-100_valacc-91_vgg.h5\n",
      "Downloading model_cifar10_balanced_seed-30_bestbefore-100_currentepoch-100_valacc-91_vgg.h5\n",
      "Making predictions on validation set\n",
      "Making predictions on test set\n",
      "Test accuracy 0.9014\n",
      "Valid accuracy 0.9115\n",
      "Saving testpreacts_model_cifar10_balanced_seed-30_bestbefore-100_currentepoch-100_valacc-91_vgg.txt\n",
      "485e99b4b70ee68290c8be231537c359  testpreacts_model_cifar10_balanced_seed-30_bestbefore-100_currentepoch-100_valacc-91_vgg.txt\n",
      "Saving validpreacts_model_cifar10_balanced_seed-30_bestbefore-100_currentepoch-100_valacc-91_vgg.txt\n",
      "e3cf0e20fd38ca6581f71094d949eec5  validpreacts_model_cifar10_balanced_seed-30_bestbefore-100_currentepoch-100_valacc-91_vgg.txt\n",
      "On model model_cifar10_balanced_seed-40_bestbefore-100_currentepoch-100_valacc-91_vgg.h5\n",
      "Downloading model_cifar10_balanced_seed-40_bestbefore-100_currentepoch-100_valacc-91_vgg.h5\n",
      "Making predictions on validation set\n",
      "Making predictions on test set\n",
      "Test accuracy 0.9055\n",
      "Valid accuracy 0.9102\n",
      "Saving testpreacts_model_cifar10_balanced_seed-40_bestbefore-100_currentepoch-100_valacc-91_vgg.txt\n",
      "3516263f2cd1c1ec6b46ca4734cd3317  testpreacts_model_cifar10_balanced_seed-40_bestbefore-100_currentepoch-100_valacc-91_vgg.txt\n",
      "Saving validpreacts_model_cifar10_balanced_seed-40_bestbefore-100_currentepoch-100_valacc-91_vgg.txt\n",
      "5c8bef1ea1170444859de1dec12f94a8  validpreacts_model_cifar10_balanced_seed-40_bestbefore-100_currentepoch-100_valacc-91_vgg.txt\n",
      "On model model_cifar10_balanced_seed-50_bestbefore-100_currentepoch-100_valacc-91_vgg.h5\n",
      "Downloading model_cifar10_balanced_seed-50_bestbefore-100_currentepoch-100_valacc-91_vgg.h5\n",
      "Making predictions on validation set\n",
      "Making predictions on test set\n",
      "Test accuracy 0.9039\n",
      "Valid accuracy 0.9115\n",
      "Saving testpreacts_model_cifar10_balanced_seed-50_bestbefore-100_currentepoch-100_valacc-91_vgg.txt\n",
      "7aeed6c0690d35f209eadd0ecd7bab93  testpreacts_model_cifar10_balanced_seed-50_bestbefore-100_currentepoch-100_valacc-91_vgg.txt\n",
      "Saving validpreacts_model_cifar10_balanced_seed-50_bestbefore-100_currentepoch-100_valacc-91_vgg.txt\n",
      "e2b98916f42df71bad93f0954e060944  validpreacts_model_cifar10_balanced_seed-50_bestbefore-100_currentepoch-100_valacc-91_vgg.txt\n",
      "On model model_cifar10_balanced_seed-60_bestbefore-100_currentepoch-100_valacc-91_vgg.h5\n",
      "Downloading model_cifar10_balanced_seed-60_bestbefore-100_currentepoch-100_valacc-91_vgg.h5\n",
      "Making predictions on validation set\n",
      "Making predictions on test set\n",
      "Test accuracy 0.9013\n",
      "Valid accuracy 0.9096\n",
      "Saving testpreacts_model_cifar10_balanced_seed-60_bestbefore-100_currentepoch-100_valacc-91_vgg.txt\n",
      "123364a7f734b6a37c75f38300f042db  testpreacts_model_cifar10_balanced_seed-60_bestbefore-100_currentepoch-100_valacc-91_vgg.txt\n",
      "Saving validpreacts_model_cifar10_balanced_seed-60_bestbefore-100_currentepoch-100_valacc-91_vgg.txt\n",
      "e28edce2aa583ae93db363f88724900f  validpreacts_model_cifar10_balanced_seed-60_bestbefore-100_currentepoch-100_valacc-91_vgg.txt\n",
      "On model model_cifar10_balanced_seed-70_bestbefore-100_currentepoch-100_valacc-91_vgg.h5\n",
      "Downloading model_cifar10_balanced_seed-70_bestbefore-100_currentepoch-100_valacc-91_vgg.h5\n",
      "Making predictions on validation set\n",
      "Making predictions on test set\n",
      "Test accuracy 0.9011\n",
      "Valid accuracy 0.9061\n",
      "Saving testpreacts_model_cifar10_balanced_seed-70_bestbefore-100_currentepoch-100_valacc-91_vgg.txt\n",
      "33f8d2f3ea8bed29dfa70f0175cb51f1  testpreacts_model_cifar10_balanced_seed-70_bestbefore-100_currentepoch-100_valacc-91_vgg.txt\n",
      "Saving validpreacts_model_cifar10_balanced_seed-70_bestbefore-100_currentepoch-100_valacc-91_vgg.txt\n",
      "941c58d0572f170be3a044e10e38a679  validpreacts_model_cifar10_balanced_seed-70_bestbefore-100_currentepoch-100_valacc-91_vgg.txt\n",
      "On model model_cifar10_balanced_seed-80_bestbefore-100_currentepoch-100_valacc-90_vgg.h5\n",
      "Downloading model_cifar10_balanced_seed-80_bestbefore-100_currentepoch-100_valacc-90_vgg.h5\n",
      "Making predictions on validation set\n",
      "Making predictions on test set\n",
      "Test accuracy 0.9003\n",
      "Valid accuracy 0.903\n",
      "Saving testpreacts_model_cifar10_balanced_seed-80_bestbefore-100_currentepoch-100_valacc-90_vgg.txt\n",
      "825080050787b804bfc53dcceb892f67  testpreacts_model_cifar10_balanced_seed-80_bestbefore-100_currentepoch-100_valacc-90_vgg.txt\n",
      "Saving validpreacts_model_cifar10_balanced_seed-80_bestbefore-100_currentepoch-100_valacc-90_vgg.txt\n",
      "be9481578bf4f53df6a5fc07c8951485  validpreacts_model_cifar10_balanced_seed-80_bestbefore-100_currentepoch-100_valacc-90_vgg.txt\n",
      "On model model_cifar10_balanced_seed-90_bestbefore-100_currentepoch-100_valacc-91_vgg.h5\n",
      "Downloading model_cifar10_balanced_seed-90_bestbefore-100_currentepoch-100_valacc-91_vgg.h5\n",
      "Making predictions on validation set\n",
      "Making predictions on test set\n",
      "Test accuracy 0.9068\n",
      "Valid accuracy 0.9119\n",
      "Saving testpreacts_model_cifar10_balanced_seed-90_bestbefore-100_currentepoch-100_valacc-91_vgg.txt\n",
      "a9472bf70d0e78a53fb1969e8f0422a8  testpreacts_model_cifar10_balanced_seed-90_bestbefore-100_currentepoch-100_valacc-91_vgg.txt\n",
      "Saving validpreacts_model_cifar10_balanced_seed-90_bestbefore-100_currentepoch-100_valacc-91_vgg.txt\n",
      "5484e8bf745771966f8b5e01225de701  validpreacts_model_cifar10_balanced_seed-90_bestbefore-100_currentepoch-100_valacc-91_vgg.txt\n"
     ]
    }
   ],
   "source": [
    "import keras\n",
    "from keras.models import load_model\n",
    "from keras.models import Model\n",
    "print(\"keras version:\", keras.__version__)\n",
    "import tensorflow as tf\n",
    "print(\"tensorflow version:\", tf.__version__)\n",
    "import wget\n",
    "import os\n",
    "import sys\n",
    "from keras.datasets import cifar10\n",
    "import numpy as np\n",
    "(x_train, y_train), (x_test, y_test) = cifar10.load_data()\n",
    "\n",
    "mean = np.mean(x_train,axis=(0,1,2,3))\n",
    "std = np.std(x_train, axis=(0, 1, 2, 3))\n",
    "x_train = (x_train-mean)/(std+1e-7)\n",
    "x_test = (x_test-mean)/(std+1e-7)\n",
    "x_valid = x_train[:10000]\n",
    "y_valid = y_train[:10000]\n",
    "\n",
    "model_files = [\n",
    "    \"model_cifar10_balanced_seed-0_bestbefore-100_currentepoch-100_valacc-91_vgg.h5\",\n",
    "    \"model_cifar10_balanced_seed-10_bestbefore-100_currentepoch-100_valacc-91_vgg.h5\",\n",
    "    \"model_cifar10_balanced_seed-20_bestbefore-100_currentepoch-100_valacc-91_vgg.h5\",\n",
    "    \"model_cifar10_balanced_seed-30_bestbefore-100_currentepoch-100_valacc-91_vgg.h5\",\n",
    "    \"model_cifar10_balanced_seed-40_bestbefore-100_currentepoch-100_valacc-91_vgg.h5\",\n",
    "    \"model_cifar10_balanced_seed-50_bestbefore-100_currentepoch-100_valacc-91_vgg.h5\",\n",
    "    \"model_cifar10_balanced_seed-60_bestbefore-100_currentepoch-100_valacc-91_vgg.h5\",\n",
    "    \"model_cifar10_balanced_seed-70_bestbefore-100_currentepoch-100_valacc-91_vgg.h5\",\n",
    "    \"model_cifar10_balanced_seed-80_bestbefore-100_currentepoch-100_valacc-90_vgg.h5\",\n",
    "    \"model_cifar10_balanced_seed-90_bestbefore-100_currentepoch-100_valacc-91_vgg.h5\"\n",
    "]\n",
    "\n",
    "for model_file in model_files:\n",
    "  print(\"On model\", model_file)\n",
    "  if (os.path.isfile(model_file)==False):\n",
    "    print(\"Downloading\", model_file)\n",
    "    wget.download(\"https://zenodo.org/record/2648107/files/\"\n",
    "                  +model_file+\"?download=1\", out=model_file)\n",
    "  model = load_model(model_file)\n",
    "  \n",
    "  pre_softmax_model = Model(input=model.input,\n",
    "                            output=model.layers[-2].output)\n",
    "  print(\"Making predictions on validation set\")\n",
    "  valid_preacts = pre_softmax_model.predict(x_valid)\n",
    "  print(\"Making predictions on test set\")\n",
    "  test_preacts = pre_softmax_model.predict(x_test)\n",
    "  \n",
    "  print(\"Test accuracy\",np.mean(np.argmax(test_preacts,axis=1)\n",
    "                                == np.squeeze(y_test)))\n",
    "  print(\"Valid accuracy\",np.mean(np.argmax(valid_preacts,axis=1)\n",
    "                                 == np.squeeze(y_valid)))\n",
    "  sys.stdout.flush()\n",
    "  test_predictions_file = (\"testpreacts_\"+model_file.split(\".\")[0])+\".txt\"\n",
    "  print(\"Saving\", test_predictions_file)\n",
    "  f = open(test_predictions_file,'w')\n",
    "  for test_preact in test_preacts:\n",
    "     f.write(\"\\t\".join([str(x) for x in test_preact])+\"\\n\") \n",
    "  f.close()\n",
    "  !md5sum $test_predictions_file\n",
    "  !gzip $test_predictions_file\n",
    "\n",
    "  valid_predictions_file = (\"validpreacts_\"+model_file.split(\".\")[0])+\".txt\"\n",
    "  print(\"Saving\", valid_predictions_file)\n",
    "  f = open(valid_predictions_file,'w')\n",
    "  for valid_preact in valid_preacts:\n",
    "     f.write(\"\\t\".join([str(x) for x in valid_preact])+\"\\n\") \n",
    "  f.close()\n",
    "  !md5sum $valid_predictions_file\n",
    "  !gzip $valid_predictions_file\n",
    "  "
   ]
  }
 ],
 "metadata": {
  "accelerator": "GPU",
  "colab": {
   "collapsed_sections": [],
   "include_colab_link": true,
   "name": "gist - Download CIFAR10 models from zenodo and make predictions.ipynb",
   "provenance": [],
   "version": "0.3.2"
  },
  "kernelspec": {
   "display_name": "Python [default]",
   "language": "python",
   "name": "python3"
  },
  "language_info": {
   "codemirror_mode": {
    "name": "ipython",
    "version": 3
   },
   "file_extension": ".py",
   "mimetype": "text/x-python",
   "name": "python",
   "nbconvert_exporter": "python",
   "pygments_lexer": "ipython3",
   "version": "3.6.8"
  }
 },
 "nbformat": 4,
 "nbformat_minor": 4
}
