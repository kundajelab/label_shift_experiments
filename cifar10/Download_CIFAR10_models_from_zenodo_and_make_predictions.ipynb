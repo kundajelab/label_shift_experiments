{
  "nbformat": 4,
  "nbformat_minor": 0,
  "metadata": {
    "colab": {
      "name": "gist - Download CIFAR10 models from zenodo and make predictions.ipynb",
      "version": "0.3.2",
      "provenance": [],
      "collapsed_sections": [],
      "include_colab_link": true
    },
    "kernelspec": {
      "name": "python3",
      "display_name": "Python 3"
    },
    "accelerator": "GPU"
  },
  "cells": [
    {
      "cell_type": "markdown",
      "metadata": {
        "id": "view-in-github",
        "colab_type": "text"
      },
      "source": [
        "<a href=\"https://colab.research.google.com/github/kundajelab/label_shift_experiments/blob/master/Download_CIFAR10_models_from_zenodo_and_make_predictions.ipynb\" target=\"_parent\"><img src=\"https://colab.research.google.com/assets/colab-badge.svg\" alt=\"Open In Colab\"/></a>"
      ]
    },
    {
      "metadata": {
        "id": "mI8d9Ba259nS",
        "colab_type": "code",
        "outputId": "570f3c36-f46e-4d12-e8d6-92ae052ad5e7",
        "colab": {
          "base_uri": "https://localhost:8080/",
          "height": 34
        }
      },
      "cell_type": "code",
      "source": [
        "!pip install wget"
      ],
      "execution_count": 1,
      "outputs": [
        {
          "output_type": "stream",
          "text": [
            "Requirement already satisfied: wget in /usr/local/lib/python3.6/dist-packages (3.2)\n"
          ],
          "name": "stdout"
        }
      ]
    },
    {
      "metadata": {
        "id": "Fv31piT55-7K",
        "colab_type": "code",
        "outputId": "5f6c7477-4997-4e8e-97a2-23d7561a0632",
        "colab": {
          "base_uri": "https://localhost:8080/",
          "height": 1686
        }
      },
      "cell_type": "code",
      "source": [
        "import keras\n",
        "from keras.models import load_model\n",
        "from keras.models import Model\n",
        "import wget\n",
        "import os\n",
        "import sys\n",
        "from keras.datasets import cifar10\n",
        "import numpy as np\n",
        "(x_train, y_train), (x_test, y_test) = cifar10.load_data()\n",
        "\n",
        "mean = np.mean(x_train,axis=(0,1,2,3))\n",
        "std = np.std(x_train, axis=(0, 1, 2, 3))\n",
        "x_train = (x_train-mean)/(std+1e-7)\n",
        "x_test = (x_test-mean)/(std+1e-7)\n",
        "x_valid = x_train[:10000]\n",
        "y_valid = y_train[:10000]\n",
        "\n",
        "model_files = [\n",
        "    \"model_cifar10_balanced_seed-0_bestbefore-100_currentepoch-100_valacc-91_vgg.h5\",\n",
        "    \"model_cifar10_balanced_seed-10_bestbefore-100_currentepoch-100_valacc-91_vgg.h5\",\n",
        "    \"model_cifar10_balanced_seed-20_bestbefore-100_currentepoch-100_valacc-91_vgg.h5\",\n",
        "    \"model_cifar10_balanced_seed-30_bestbefore-100_currentepoch-100_valacc-91_vgg.h5\",\n",
        "    \"model_cifar10_balanced_seed-40_bestbefore-100_currentepoch-100_valacc-91_vgg.h5\",\n",
        "    \"model_cifar10_balanced_seed-50_bestbefore-100_currentepoch-100_valacc-91_vgg.h5\",\n",
        "    \"model_cifar10_balanced_seed-60_bestbefore-100_currentepoch-100_valacc-91_vgg.h5\",\n",
        "    \"model_cifar10_balanced_seed-70_bestbefore-100_currentepoch-100_valacc-91_vgg.h5\",\n",
        "    \"model_cifar10_balanced_seed-80_bestbefore-100_currentepoch-100_valacc-90_vgg.h5\",\n",
        "    \"model_cifar10_balanced_seed-90_bestbefore-100_currentepoch-100_valacc-91_vgg.h5\"\n",
        "]\n",
        "\n",
        "for model_file in model_files:\n",
        "  print(\"On model\", model_file)\n",
        "  if (os.path.isfile(model_file)==False):\n",
        "    print(\"Downloading\", model_file)\n",
        "    wget.download(\"https://sandbox.zenodo.org/record/274839/files/\"\n",
        "                  +model_file+\"?download=1\", out=model_file)\n",
        "  model = load_model(model_file)\n",
        "  \n",
        "  pre_softmax_model = Model(input=model.input,\n",
        "                            output=model.layers[-2].output)\n",
        "  print(\"Making predictions on validation set\")\n",
        "  valid_preacts = pre_softmax_model.predict(x_valid)\n",
        "  print(\"Making predictions on test set\")\n",
        "  test_preacts = pre_softmax_model.predict(x_test)\n",
        "  \n",
        "  print(\"Test accuracy\",np.mean(np.argmax(test_preacts,axis=1)\n",
        "                                == np.squeeze(y_test)))\n",
        "  print(\"Valid accuracy\",np.mean(np.argmax(valid_preacts,axis=1)\n",
        "                                 == np.squeeze(y_valid)))\n",
        "  sys.stdout.flush()\n",
        "  test_predictions_file = (\"testpreacts_\"+model_file.split(\".\")[0])+\".txt\"\n",
        "  print(\"Saving\", test_predictions_file)\n",
        "  f = open(test_predictions_file,'w')\n",
        "  for test_preact in test_preacts:\n",
        "     f.write(\"\\t\".join([str(x) for x in test_preact])+\"\\n\") \n",
        "  f.close()\n",
        "  !gzip $test_predictions_file\n",
        "\n",
        "  valid_predictions_file = (\"validpreacts_\"+model_file.split(\".\")[0])+\".txt\"\n",
        "  print(\"Saving\", valid_predictions_file)\n",
        "  f = open(valid_predictions_file,'w')\n",
        "  for valid_preact in valid_preacts:\n",
        "     f.write(\"\\t\".join([str(x) for x in valid_preact])+\"\\n\") \n",
        "  f.close()\n",
        "  !gzip $valid_predictions_file\n",
        "  "
      ],
      "execution_count": 2,
      "outputs": [
        {
          "output_type": "stream",
          "text": [
            "Using TensorFlow backend.\n"
          ],
          "name": "stderr"
        },
        {
          "output_type": "stream",
          "text": [
            "On model model_cifar10_balanced_seed-0_bestbefore-100_currentepoch-100_valacc-91_vgg.h5\n",
            "WARNING:tensorflow:From /usr/local/lib/python3.6/dist-packages/tensorflow/python/framework/op_def_library.py:263: colocate_with (from tensorflow.python.framework.ops) is deprecated and will be removed in a future version.\n",
            "Instructions for updating:\n",
            "Colocations handled automatically by placer.\n",
            "WARNING:tensorflow:From /usr/local/lib/python3.6/dist-packages/keras/backend/tensorflow_backend.py:3445: calling dropout (from tensorflow.python.ops.nn_ops) with keep_prob is deprecated and will be removed in a future version.\n",
            "Instructions for updating:\n",
            "Please use `rate` instead of `keep_prob`. Rate should be set to `rate = 1 - keep_prob`.\n"
          ],
          "name": "stdout"
        },
        {
          "output_type": "stream",
          "text": [
            "/usr/local/lib/python3.6/dist-packages/keras/engine/saving.py:292: UserWarning: No training configuration found in save file: the model was *not* compiled. Compile it manually.\n",
            "  warnings.warn('No training configuration found in save file: '\n",
            "/usr/local/lib/python3.6/dist-packages/ipykernel_launcher.py:41: UserWarning: Update your `Model` call to the Keras 2 API: `Model(inputs=Tensor(\"co..., outputs=Tensor(\"de...)`\n"
          ],
          "name": "stderr"
        },
        {
          "output_type": "stream",
          "text": [
            "Making predictions on validation set\n",
            "Making predictions on test set\n",
            "Test accuracy 0.8967\n",
            "Valid accuracy 0.9054\n",
            "Saving testpreacts_model_cifar10_balanced_seed-0_bestbefore-100_currentepoch-100_valacc-91_vgg.txt\n",
            "Saving validpreacts_model_cifar10_balanced_seed-0_bestbefore-100_currentepoch-100_valacc-91_vgg.txt\n",
            "On model model_cifar10_balanced_seed-100_bestbefore-100_currentepoch-100_valacc-91_vgg.h5\n",
            "Downloading model_cifar10_balanced_seed-100_bestbefore-100_currentepoch-100_valacc-91_vgg.h5\n",
            "Making predictions on validation set\n",
            "Making predictions on test set\n",
            "Test accuracy 0.9007\n",
            "Valid accuracy 0.91\n",
            "Saving testpreacts_model_cifar10_balanced_seed-100_bestbefore-100_currentepoch-100_valacc-91_vgg.txt\n",
            "Saving validpreacts_model_cifar10_balanced_seed-100_bestbefore-100_currentepoch-100_valacc-91_vgg.txt\n",
            "On model model_cifar10_balanced_seed-10_bestbefore-100_currentepoch-100_valacc-91_vgg.h5\n",
            "Downloading model_cifar10_balanced_seed-10_bestbefore-100_currentepoch-100_valacc-91_vgg.h5\n",
            "Making predictions on validation set\n",
            "Making predictions on test set\n",
            "Test accuracy 0.9029\n",
            "Valid accuracy 0.9073\n",
            "Saving testpreacts_model_cifar10_balanced_seed-10_bestbefore-100_currentepoch-100_valacc-91_vgg.txt\n",
            "Saving validpreacts_model_cifar10_balanced_seed-10_bestbefore-100_currentepoch-100_valacc-91_vgg.txt\n",
            "On model model_cifar10_balanced_seed-20_bestbefore-100_currentepoch-100_valacc-91_vgg.h5\n",
            "Downloading model_cifar10_balanced_seed-20_bestbefore-100_currentepoch-100_valacc-91_vgg.h5\n",
            "Making predictions on validation set\n",
            "Making predictions on test set\n",
            "Test accuracy 0.9025\n",
            "Valid accuracy 0.9078\n",
            "Saving testpreacts_model_cifar10_balanced_seed-20_bestbefore-100_currentepoch-100_valacc-91_vgg.txt\n",
            "Saving validpreacts_model_cifar10_balanced_seed-20_bestbefore-100_currentepoch-100_valacc-91_vgg.txt\n",
            "On model model_cifar10_balanced_seed-30_bestbefore-100_currentepoch-100_valacc-91_vgg.h5\n",
            "Downloading model_cifar10_balanced_seed-30_bestbefore-100_currentepoch-100_valacc-91_vgg.h5\n",
            "Making predictions on validation set\n",
            "Making predictions on test set\n",
            "Test accuracy 0.9014\n",
            "Valid accuracy 0.9115\n",
            "Saving testpreacts_model_cifar10_balanced_seed-30_bestbefore-100_currentepoch-100_valacc-91_vgg.txt\n",
            "Saving validpreacts_model_cifar10_balanced_seed-30_bestbefore-100_currentepoch-100_valacc-91_vgg.txt\n",
            "On model model_cifar10_balanced_seed-40_bestbefore-100_currentepoch-100_valacc-91_vgg.h5\n",
            "Downloading model_cifar10_balanced_seed-40_bestbefore-100_currentepoch-100_valacc-91_vgg.h5\n",
            "Making predictions on validation set\n",
            "Making predictions on test set\n",
            "Test accuracy 0.9055\n",
            "Valid accuracy 0.9102\n",
            "Saving testpreacts_model_cifar10_balanced_seed-40_bestbefore-100_currentepoch-100_valacc-91_vgg.txt\n",
            "Saving validpreacts_model_cifar10_balanced_seed-40_bestbefore-100_currentepoch-100_valacc-91_vgg.txt\n",
            "On model model_cifar10_balanced_seed-50_bestbefore-100_currentepoch-100_valacc-91_vgg.h5\n",
            "Downloading model_cifar10_balanced_seed-50_bestbefore-100_currentepoch-100_valacc-91_vgg.h5\n",
            "Making predictions on validation set\n",
            "Making predictions on test set\n",
            "Test accuracy 0.9039\n",
            "Valid accuracy 0.9115\n",
            "Saving testpreacts_model_cifar10_balanced_seed-50_bestbefore-100_currentepoch-100_valacc-91_vgg.txt\n",
            "Saving validpreacts_model_cifar10_balanced_seed-50_bestbefore-100_currentepoch-100_valacc-91_vgg.txt\n",
            "On model model_cifar10_balanced_seed-60_bestbefore-100_currentepoch-100_valacc-91_vgg.h5\n",
            "Downloading model_cifar10_balanced_seed-60_bestbefore-100_currentepoch-100_valacc-91_vgg.h5\n",
            "Making predictions on validation set\n",
            "Making predictions on test set\n",
            "Test accuracy 0.9013\n",
            "Valid accuracy 0.9096\n",
            "Saving testpreacts_model_cifar10_balanced_seed-60_bestbefore-100_currentepoch-100_valacc-91_vgg.txt\n",
            "Saving validpreacts_model_cifar10_balanced_seed-60_bestbefore-100_currentepoch-100_valacc-91_vgg.txt\n",
            "On model model_cifar10_balanced_seed-70_bestbefore-100_currentepoch-100_valacc-91_vgg.h5\n",
            "Downloading model_cifar10_balanced_seed-70_bestbefore-100_currentepoch-100_valacc-91_vgg.h5\n",
            "Making predictions on validation set\n",
            "Making predictions on test set\n",
            "Test accuracy 0.9011\n",
            "Valid accuracy 0.9061\n",
            "Saving testpreacts_model_cifar10_balanced_seed-70_bestbefore-100_currentepoch-100_valacc-91_vgg.txt\n",
            "Saving validpreacts_model_cifar10_balanced_seed-70_bestbefore-100_currentepoch-100_valacc-91_vgg.txt\n",
            "On model model_cifar10_balanced_seed-80_bestbefore-100_currentepoch-100_valacc-90_vgg.h5\n",
            "Downloading model_cifar10_balanced_seed-80_bestbefore-100_currentepoch-100_valacc-90_vgg.h5\n",
            "Making predictions on validation set\n",
            "Making predictions on test set\n",
            "Test accuracy 0.9003\n",
            "Valid accuracy 0.903\n",
            "Saving testpreacts_model_cifar10_balanced_seed-80_bestbefore-100_currentepoch-100_valacc-90_vgg.txt\n",
            "Saving validpreacts_model_cifar10_balanced_seed-80_bestbefore-100_currentepoch-100_valacc-90_vgg.txt\n",
            "On model model_cifar10_balanced_seed-90_bestbefore-100_currentepoch-100_valacc-91_vgg.h5\n",
            "Downloading model_cifar10_balanced_seed-90_bestbefore-100_currentepoch-100_valacc-91_vgg.h5\n",
            "Making predictions on validation set\n",
            "Making predictions on test set\n",
            "Test accuracy 0.9068\n",
            "Valid accuracy 0.9119\n",
            "Saving testpreacts_model_cifar10_balanced_seed-90_bestbefore-100_currentepoch-100_valacc-91_vgg.txt\n",
            "Saving validpreacts_model_cifar10_balanced_seed-90_bestbefore-100_currentepoch-100_valacc-91_vgg.txt\n"
          ],
          "name": "stdout"
        }
      ]
    },
    {
      "metadata": {
        "id": "n4FKLvbH6Mc3",
        "colab_type": "code",
        "outputId": "244ec1da-5c2c-487a-e5c1-45c8c0bb5990",
        "colab": {
          "base_uri": "https://localhost:8080/",
          "height": 411
        }
      },
      "cell_type": "code",
      "source": [
        "!md5sum *.gz"
      ],
      "execution_count": 3,
      "outputs": [
        {
          "output_type": "stream",
          "text": [
            "19909f2352b9b642c2c53eda6be99c6e  testpreacts_model_cifar10_balanced_seed-0_bestbefore-100_currentepoch-100_valacc-91_vgg.txt.gz\n",
            "944c099b71af05c5cae874d406a40434  testpreacts_model_cifar10_balanced_seed-100_bestbefore-100_currentepoch-100_valacc-91_vgg.txt.gz\n",
            "a16528de6a4cf028f896f5fe97ba4ca4  testpreacts_model_cifar10_balanced_seed-10_bestbefore-100_currentepoch-100_valacc-91_vgg.txt.gz\n",
            "2756fc2454c6f04bd43a70a7beb09771  testpreacts_model_cifar10_balanced_seed-20_bestbefore-100_currentepoch-100_valacc-91_vgg.txt.gz\n",
            "c801f07ae28b225e867f46d69e61caa2  testpreacts_model_cifar10_balanced_seed-30_bestbefore-100_currentepoch-100_valacc-91_vgg.txt.gz\n",
            "67550d5f91cb446e3cea13906e3c2311  testpreacts_model_cifar10_balanced_seed-40_bestbefore-100_currentepoch-100_valacc-91_vgg.txt.gz\n",
            "a4ab01e8159c0d7a641a889840639f89  testpreacts_model_cifar10_balanced_seed-50_bestbefore-100_currentepoch-100_valacc-91_vgg.txt.gz\n",
            "6d4d78bc3c65797e1c8d888c80da81d0  testpreacts_model_cifar10_balanced_seed-60_bestbefore-100_currentepoch-100_valacc-91_vgg.txt.gz\n",
            "83d1e81f4d751c83ef99fe0a189df9e1  testpreacts_model_cifar10_balanced_seed-70_bestbefore-100_currentepoch-100_valacc-91_vgg.txt.gz\n",
            "ce95fc98c0edc00a9c12fb7b086f061a  testpreacts_model_cifar10_balanced_seed-80_bestbefore-100_currentepoch-100_valacc-90_vgg.txt.gz\n",
            "92046b23d3a45fc93198d9d381e84acb  testpreacts_model_cifar10_balanced_seed-90_bestbefore-100_currentepoch-100_valacc-91_vgg.txt.gz\n",
            "c566e43e1a0f1e19beaf2d2804a30de7  validpreacts_model_cifar10_balanced_seed-0_bestbefore-100_currentepoch-100_valacc-91_vgg.txt.gz\n",
            "dc89841d5af2381d9ac854e9c68758a6  validpreacts_model_cifar10_balanced_seed-100_bestbefore-100_currentepoch-100_valacc-91_vgg.txt.gz\n",
            "329b2a90e49625f030dd9fc96bf67741  validpreacts_model_cifar10_balanced_seed-10_bestbefore-100_currentepoch-100_valacc-91_vgg.txt.gz\n",
            "af1a96817edaacce9f62631f67f6e265  validpreacts_model_cifar10_balanced_seed-20_bestbefore-100_currentepoch-100_valacc-91_vgg.txt.gz\n",
            "48a23a575e3a5dbb541f06bdb3a52720  validpreacts_model_cifar10_balanced_seed-30_bestbefore-100_currentepoch-100_valacc-91_vgg.txt.gz\n",
            "3cc28b7b0ebcb9e4d85e6b3a8942790e  validpreacts_model_cifar10_balanced_seed-40_bestbefore-100_currentepoch-100_valacc-91_vgg.txt.gz\n",
            "cc04196f7d348f803b9f2dd8c2e6147f  validpreacts_model_cifar10_balanced_seed-50_bestbefore-100_currentepoch-100_valacc-91_vgg.txt.gz\n",
            "f1beed4a458eac0d69820f07e190703b  validpreacts_model_cifar10_balanced_seed-60_bestbefore-100_currentepoch-100_valacc-91_vgg.txt.gz\n",
            "32d10eb8a320456d92689ea1dd0c54cc  validpreacts_model_cifar10_balanced_seed-70_bestbefore-100_currentepoch-100_valacc-91_vgg.txt.gz\n",
            "59997a9b7e55e9d6134db90f11e397bb  validpreacts_model_cifar10_balanced_seed-80_bestbefore-100_currentepoch-100_valacc-90_vgg.txt.gz\n",
            "56b1e75295570c37c0ed37d831def383  validpreacts_model_cifar10_balanced_seed-90_bestbefore-100_currentepoch-100_valacc-91_vgg.txt.gz\n"
          ],
          "name": "stdout"
        }
      ]
    },
    {
      "metadata": {
        "id": "zhdOKTBpki6n",
        "colab_type": "code",
        "colab": {}
      },
      "cell_type": "code",
      "source": [
        "from google.colab import files\n",
        "import glob\n",
        "\n",
        "for file in glob.glob(\"*.gz\"):\n",
        "  files.download(file)"
      ],
      "execution_count": 0,
      "outputs": []
    }
  ]
}