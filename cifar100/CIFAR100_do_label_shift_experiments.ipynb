{
  "nbformat": 4,
  "nbformat_minor": 0,
  "metadata": {
    "colab": {
      "name": "CIFAR100 do label shift experiments.ipynb",
      "provenance": [],
      "collapsed_sections": [],
      "include_colab_link": true
    },
    "kernelspec": {
      "name": "python3",
      "display_name": "Python 3"
    }
  },
  "cells": [
    {
      "cell_type": "markdown",
      "metadata": {
        "id": "view-in-github",
        "colab_type": "text"
      },
      "source": [
        "<a href=\"https://colab.research.google.com/github/kundajelab/label_shift_experiments/blob/master/cifar100/CIFAR100_do_label_shift_experiments.ipynb\" target=\"_parent\"><img src=\"https://colab.research.google.com/assets/colab-badge.svg\" alt=\"Open In Colab\"/></a>"
      ]
    },
    {
      "cell_type": "code",
      "metadata": {
        "id": "4HoNMk_PkjYs",
        "colab_type": "code",
        "colab": {
          "base_uri": "https://localhost:8080/",
          "height": 391
        },
        "outputId": "c6c556a3-9cfe-4750-b292-669a8654d177"
      },
      "source": [
        "!wget https://zenodo.org/record/3458525/files/cifar100_pred_logits.txt.gz?download=1 -O cifar100_pred_logits.txt.gz\n",
        "!wget https://zenodo.org/record/3458525/files/cifar100_ys_test.txt.gz?download=1 -O cifar100_ys_test.txt.gz\n"
      ],
      "execution_count": 1,
      "outputs": [
        {
          "output_type": "stream",
          "text": [
            "--2019-09-23 19:22:37--  https://zenodo.org/record/3458525/files/cifar100_pred_logits.txt.gz?download=1\n",
            "Resolving zenodo.org (zenodo.org)... 188.184.65.20\n",
            "Connecting to zenodo.org (zenodo.org)|188.184.65.20|:443... connected.\n",
            "HTTP request sent, awaiting response... 200 OK\n",
            "Length: 4717007 (4.5M) [application/octet-stream]\n",
            "Saving to: ‘cifar100_pred_logits.txt.gz’\n",
            "\n",
            "cifar100_pred_logit 100%[===================>]   4.50M  3.67MB/s    in 1.2s    \n",
            "\n",
            "2019-09-23 19:22:39 (3.67 MB/s) - ‘cifar100_pred_logits.txt.gz’ saved [4717007/4717007]\n",
            "\n",
            "--2019-09-23 19:22:40--  https://zenodo.org/record/3458525/files/cifar100_ys_test.txt.gz?download=1\n",
            "Resolving zenodo.org (zenodo.org)... 188.184.65.20\n",
            "Connecting to zenodo.org (zenodo.org)|188.184.65.20|:443... connected.\n",
            "HTTP request sent, awaiting response... 200 OK\n",
            "Length: 46058 (45K) [application/octet-stream]\n",
            "Saving to: ‘cifar100_ys_test.txt.gz’\n",
            "\n",
            "cifar100_ys_test.tx 100%[===================>]  44.98K   147KB/s    in 0.3s    \n",
            "\n",
            "2019-09-23 19:22:41 (147 KB/s) - ‘cifar100_ys_test.txt.gz’ saved [46058/46058]\n",
            "\n"
          ],
          "name": "stdout"
        }
      ]
    },
    {
      "cell_type": "code",
      "metadata": {
        "id": "3AzwUvQGk1AG",
        "colab_type": "code",
        "colab": {
          "base_uri": "https://localhost:8080/",
          "height": 428
        },
        "outputId": "246904cc-4b93-4867-bd70-c69b769b995d"
      },
      "source": [
        "![[ -e abstention ]] || git clone https://github.com/blindauth/abstention\n",
        "%cd /content/abstention\n",
        "!git pull\n",
        "!pip uninstall abstention\n",
        "!pip install .\n",
        "%cd .."
      ],
      "execution_count": 2,
      "outputs": [
        {
          "output_type": "stream",
          "text": [
            "Cloning into 'abstention'...\n",
            "remote: Enumerating objects: 108, done.\u001b[K\n",
            "remote: Counting objects: 100% (108/108), done.\u001b[K\n",
            "remote: Compressing objects: 100% (72/72), done.\u001b[K\n",
            "remote: Total 330 (delta 72), reused 64 (delta 36), pack-reused 222\u001b[K\n",
            "Receiving objects: 100% (330/330), 94.11 KiB | 9.41 MiB/s, done.\n",
            "Resolving deltas: 100% (214/214), done.\n",
            "/content/abstention\n",
            "Already up to date.\n",
            "\u001b[33mWARNING: Skipping abstention as it is not installed.\u001b[0m\n",
            "Processing /content/abstention\n",
            "Requirement already satisfied: numpy>=1.9 in /usr/local/lib/python3.6/dist-packages (from abstention==0.1.3.0) (1.16.5)\n",
            "Requirement already satisfied: scikit-learn>=0.20.0 in /usr/local/lib/python3.6/dist-packages (from abstention==0.1.3.0) (0.21.3)\n",
            "Requirement already satisfied: scipy>=1.1.0 in /usr/local/lib/python3.6/dist-packages (from abstention==0.1.3.0) (1.3.1)\n",
            "Requirement already satisfied: joblib>=0.11 in /usr/local/lib/python3.6/dist-packages (from scikit-learn>=0.20.0->abstention==0.1.3.0) (0.13.2)\n",
            "Building wheels for collected packages: abstention\n",
            "  Building wheel for abstention (setup.py) ... \u001b[?25l\u001b[?25hdone\n",
            "  Created wheel for abstention: filename=abstention-0.1.3.0-cp36-none-any.whl size=46220 sha256=8f52d0e38d95f01c4732642901cae2445c6db67bd445ce24307773875a9c9e54\n",
            "  Stored in directory: /tmp/pip-ephem-wheel-cache-31i3c6k6/wheels/60/8e/d2/9e9ca02e7b5f76bfda2e2daa6dcbe42c19095c502ccb653729\n",
            "Successfully built abstention\n",
            "Installing collected packages: abstention\n",
            "Successfully installed abstention-0.1.3.0\n",
            "/content\n"
          ],
          "name": "stdout"
        }
      ]
    },
    {
      "cell_type": "code",
      "metadata": {
        "id": "lfMaM2DglFSi",
        "colab_type": "code",
        "colab": {
          "base_uri": "https://localhost:8080/",
          "height": 411
        },
        "outputId": "1c9b1456-2032-4848-bccc-6a459025d722"
      },
      "source": [
        "![[ -e label_shift_experiments ]] || git clone https://github.com/blindauth/labelshiftexperiments\n",
        "%cd /content/labelshiftexperiments\n",
        "!git pull\n",
        "!pip uninstall labelshiftexperiments\n",
        "!pip install .\n",
        "%cd .."
      ],
      "execution_count": 3,
      "outputs": [
        {
          "output_type": "stream",
          "text": [
            "Cloning into 'labelshiftexperiments'...\n",
            "remote: Enumerating objects: 32, done.\u001b[K\n",
            "remote: Counting objects: 100% (32/32), done.\u001b[K\n",
            "remote: Compressing objects: 100% (23/23), done.\u001b[K\n",
            "remote: Total 32 (delta 13), reused 24 (delta 8), pack-reused 0\u001b[K\n",
            "Unpacking objects: 100% (32/32), done.\n",
            "/content/labelshiftexperiments\n",
            "Already up to date.\n",
            "\u001b[33mWARNING: Skipping labelshiftexperiments as it is not installed.\u001b[0m\n",
            "Processing /content/labelshiftexperiments\n",
            "Requirement already satisfied: numpy>=1.9 in /usr/local/lib/python3.6/dist-packages (from labelshiftexperiments==0.1.0.0) (1.16.5)\n",
            "Requirement already satisfied: scikit-learn>=0.20.0 in /usr/local/lib/python3.6/dist-packages (from labelshiftexperiments==0.1.0.0) (0.21.3)\n",
            "Requirement already satisfied: scipy>=1.1.0 in /usr/local/lib/python3.6/dist-packages (from labelshiftexperiments==0.1.0.0) (1.3.1)\n",
            "Requirement already satisfied: joblib>=0.11 in /usr/local/lib/python3.6/dist-packages (from scikit-learn>=0.20.0->labelshiftexperiments==0.1.0.0) (0.13.2)\n",
            "Building wheels for collected packages: labelshiftexperiments\n",
            "  Building wheel for labelshiftexperiments (setup.py) ... \u001b[?25l\u001b[?25hdone\n",
            "  Created wheel for labelshiftexperiments: filename=labelshiftexperiments-0.1.0.0-cp36-none-any.whl size=6273 sha256=ab7d3bbbcbb55f451f39d3c4e5b9607be045f346640ca3f42ede10b436ad0ffb\n",
            "  Stored in directory: /tmp/pip-ephem-wheel-cache-stlv3gn1/wheels/6d/56/a7/fc736645f87832f3f9af94ef6661744069f41cd66bab35ec1b\n",
            "Successfully built labelshiftexperiments\n",
            "Installing collected packages: labelshiftexperiments\n",
            "Successfully installed labelshiftexperiments-0.1.0.0\n",
            "/content\n"
          ],
          "name": "stdout"
        }
      ]
    },
    {
      "cell_type": "code",
      "metadata": {
        "id": "K57Sm50IlmAa",
        "colab_type": "code",
        "colab": {}
      },
      "source": [
        "!gunzip *.gz"
      ],
      "execution_count": 0,
      "outputs": []
    },
    {
      "cell_type": "code",
      "metadata": {
        "id": "rgxJu-ONlHlZ",
        "colab_type": "code",
        "colab": {
          "base_uri": "https://localhost:8080/",
          "height": 34
        },
        "outputId": "42c45e40-753b-4646-e1a7-553ae0d9cc6f"
      },
      "source": [
        "from importlib import reload\n",
        "import abstention\n",
        "reload(abstention)\n",
        "reload(abstention.calibration)\n",
        "reload(abstention.label_shift)\n",
        "reload(abstention.figure_making_utils)\n",
        "from abstention.calibration import (\n",
        "    TempScaling, VectorScaling, NoBiasVectorScaling, softmax)\n",
        "from abstention.label_shift import (EMImbalanceAdapter,\n",
        "     BBSEImbalanceAdapter, ShiftWeightFromImbalanceAdapter)\n",
        "import glob\n",
        "import numpy as np\n",
        "from collections import defaultdict, OrderedDict\n",
        "\n",
        "import labelshiftexperiments\n",
        "reload(labelshiftexperiments)\n",
        "reload(labelshiftexperiments.cifarandmnist)\n",
        "from labelshiftexperiments import cifarandmnist\n",
        "        \n",
        "all_labels = cifarandmnist.read_preds(open(\"cifar100_ys_test.txt\"))\n",
        "all_predlogits = cifarandmnist.read_preds(open(\"cifar100_pred_logits.txt\"))\n",
        "\n",
        "print(np.mean(np.argmax(all_labels,axis=-1)\n",
        "              ==np.argmax(all_predlogits, axis=-1)))"
      ],
      "execution_count": 8,
      "outputs": [
        {
          "output_type": "stream",
          "text": [
            "0.7048\n"
          ],
          "name": "stdout"
        }
      ]
    },
    {
      "cell_type": "code",
      "metadata": {
        "id": "9MoXQ8ofliIG",
        "colab_type": "code",
        "colab": {
          "base_uri": "https://localhost:8080/",
          "height": 34
        },
        "outputId": "33d749f0-63be-4f22-af28-001d961db2f6"
      },
      "source": [
        "len(all_labels)"
      ],
      "execution_count": 9,
      "outputs": [
        {
          "output_type": "execute_result",
          "data": {
            "text/plain": [
              "10000"
            ]
          },
          "metadata": {
            "tags": []
          },
          "execution_count": 9
        }
      ]
    },
    {
      "cell_type": "code",
      "metadata": {
        "id": "pwrByQTlwObt",
        "colab_type": "code",
        "colab": {}
      },
      "source": [
        "#do calibration and domain adaptation\n",
        "from collections import OrderedDict\n",
        "from importlib import reload\n",
        "import abstention\n",
        "reload(abstention)\n",
        "reload(abstention.calibration)\n",
        "reload(abstention.label_shift)\n",
        "from abstention.calibration import (\n",
        "    TempScaling, NoBiasVectorScaling, VectorScaling, CrossValidatedBCTS, softmax)\n",
        "from abstention.label_shift import (EMImbalanceAdapter, BBSEImbalanceAdapter)\n",
        "\n",
        "calibname_to_calibfactory = OrderedDict([\n",
        "    ('None', abstention.calibration.Softmax()),\n",
        "    ('TS', TempScaling(verbose=False)),\n",
        "    ('VS', VectorScaling(verbose=False)),\n",
        "    ('NBVS', NoBiasVectorScaling(verbose=False)),\n",
        "    ('BCTS', TempScaling(verbose=False,\n",
        "                         bias_positions=np.arange(100))),\n",
        "    #('CVBCTS', CrossValidatedBCTS(verbose=True,\n",
        "    #                              num_crossvalidation_splits=5,\n",
        "    #                              betas_to_try=[0.0, 1e-7, 1e-6, 1e-5, 1e-4, 1e-3, 1e-2, 1e-1, 1.0, 10]\n",
        "    #                             ))\n",
        "])\n",
        "\n",
        "adaptname_to_adapter = OrderedDict([\n",
        "    ('em', EMImbalanceAdapter()),\n",
        "    ('bbse-hard', BBSEImbalanceAdapter(soft=False)),\n",
        "    ('bbse-soft', BBSEImbalanceAdapter(soft=True))\n",
        "])\n",
        "    \n",
        "adaptncalib_pairs = [\n",
        "    ('bbse-hard', 'None'),\n",
        "    ('bbse-soft', 'None'),\n",
        "    ('bbse-soft', 'TS'),\n",
        "    ('bbse-soft', 'NBVS'),\n",
        "    ('bbse-soft', 'BCTS'),\n",
        "    ('bbse-soft', 'VS'),  \n",
        "    #('bbse-soft', 'CVBCTS'),\n",
        "    ('em', 'None'),\n",
        "    ('em', 'TS'),\n",
        "    ('em', 'NBVS'),\n",
        "    ('em', 'BCTS'),\n",
        "    ('em', 'VS'),\n",
        "    #('em', 'CVBCTS'),\n",
        "]"
      ],
      "execution_count": 0,
      "outputs": []
    },
    {
      "cell_type": "code",
      "metadata": {
        "id": "FoCbaVPgnNSa",
        "colab_type": "code",
        "colab": {
          "base_uri": "https://localhost:8080/",
          "height": 392
        },
        "outputId": "0db6b854-89b9-409b-b461-95e3d6e93cc7"
      },
      "source": [
        "from collections import defaultdict\n",
        "import numpy as np\n",
        "import sys\n",
        "from importlib import reload\n",
        "import abstention\n",
        "reload(abstention)\n",
        "reload(abstention.calibration)\n",
        "reload(abstention.label_shift)\n",
        "reload(abstention.figure_making_utils)\n",
        "from abstention.calibration import (\n",
        "    TempScaling, #CrossValidatedBCTS,\n",
        "    ConfusionMatrix, softmax)\n",
        "from abstention.label_shift import (EMImbalanceAdapter,\n",
        "     BBSEImbalanceAdapter, ShiftWeightFromImbalanceAdapter)\n",
        "import glob\n",
        "import numpy as np\n",
        "from collections import defaultdict, OrderedDict\n",
        "import scipy\n",
        "\n",
        "import labelshiftexperiments\n",
        "reload(labelshiftexperiments)\n",
        "reload(labelshiftexperiments.cifarandmnist)\n",
        "from labelshiftexperiments import cifarandmnist\n",
        "\n",
        "\n",
        "num_trials = 100\n",
        "alphas_and_samplesize = [(0., 5000)]\n",
        "\n",
        "metric_to_adaptname_to_perfs = defaultdict(lambda: defaultdict(list))\n",
        "alpha_to_samplesize_to_adaptername_to_metric_to_vals = (\n",
        "        defaultdict(\n",
        "            lambda: defaultdict(\n",
        "                     lambda: defaultdict(\n",
        "                              lambda: defaultdict(list)))))\n",
        "alpha_to_samplesize_to_baselineperf = defaultdict(\n",
        "    lambda: defaultdict(list))\n",
        "metric_to_samplesize_to_calibname_to_unshiftedvals = defaultdict(\n",
        "    lambda: defaultdict(lambda: defaultdict(list)))\n",
        "samplesizesseen = set()\n",
        "\n",
        "for (alpha, samplesize) in alphas_and_samplesize:\n",
        "    for trial_num in range(num_trials):\n",
        "        if (trial_num%1==0):\n",
        "            print(\"Done\",trial_num,\"trials\")\n",
        "            sys.stdout.flush()\n",
        "        rng = np.random.RandomState(trial_num*10)\n",
        "        #sample a split of pseudovalid/pseudotest indices\n",
        "        indices = rng.choice(np.arange(len(all_labels)),\n",
        "                             size=len(all_labels),\n",
        "                             replace=False)\n",
        "        pseudovalid_indices = indices[:samplesize]\n",
        "        pseudotest_indices = indices[samplesize:]\n",
        "        assert ((len(pseudovalid_indices)+len(pseudotest_indices))\n",
        "                ==len(all_labels))\n",
        "        \n",
        "        pseudovalid_preacts = all_predlogits[pseudovalid_indices]\n",
        "        pseudotest_preacts = all_predlogits[pseudotest_indices]\n",
        "        pseudovalid_labels = all_labels[pseudovalid_indices]\n",
        "        pseudotest_labels = all_labels[pseudotest_indices]\n",
        "        \n",
        "        draw_test_indices = cifarandmnist.get_func_to_draw_label_proportions(\n",
        "                              test_labels=pseudotest_labels)\n",
        "        \n",
        "        #perform calibration\n",
        "        (calibname_to_calibfunc,\n",
        "         calibname_to_calibpseudovalidpreds) = (\n",
        "                    cifarandmnist.run_calibmethods(\n",
        "                       valid_preacts=pseudovalid_preacts,\n",
        "                       valid_labels=pseudovalid_labels,\n",
        "                       test_preacts=pseudotest_preacts,\n",
        "                       test_labels=pseudotest_labels,\n",
        "                       calibname_to_calibfactory=\n",
        "                        calibname_to_calibfactory,\n",
        "                       samplesize=samplesize,\n",
        "                       samplesizesseen=samplesizesseen,\n",
        "                       metric_to_samplesize_to_calibname_to_unshiftedvals=\n",
        "                        metric_to_samplesize_to_calibname_to_unshiftedvals))\n",
        "        \n",
        "        #perform the dirichlet shift\n",
        "        altered_class_priors = rng.dirichlet([alpha for x in range(100)])        \n",
        "        pseudotest_indices = draw_test_indices(\n",
        "                          total_to_return=samplesize,                    \n",
        "                          label_proportions=altered_class_priors,\n",
        "                          rng=rng)\n",
        "        shifted_pseudotest_labels = pseudotest_labels[pseudotest_indices]\n",
        "        shifted_pseudotest_preacts = pseudotest_preacts[pseudotest_indices]\n",
        "        \n",
        "        calibname_to_calibshiftedtestpreds = {}\n",
        "        for (calibname, calibfunc) in calibname_to_calibfunc.items():\n",
        "            calibname_to_calibshiftedtestpreds[calibname] =(\n",
        "                calibfunc(shifted_pseudotest_preacts))\n",
        "        \n",
        "        shifted_pseudotest_baseline_perf = np.mean(\n",
        "            np.argmax(shifted_pseudotest_preacts, axis=-1)\n",
        "            ==np.argmax(shifted_pseudotest_labels, axis=-1))\n",
        "        alpha_to_samplesize_to_baselineperf[alpha][samplesize].append(\n",
        "            shifted_pseudotest_baseline_perf)\n",
        "        true_shifted_priors = np.mean(shifted_pseudotest_labels, axis=0)\n",
        "        \n",
        "        for adapter_name,calib_name in adaptncalib_pairs:\n",
        "            calib_shifted_pseudotest_preds =\\\n",
        "              calibname_to_calibshiftedtestpreds[calib_name]\n",
        "            calib_pseudovalid_preds =\\\n",
        "              calibname_to_calibpseudovalidpreds[calib_name]\n",
        "            imbalance_adapter = adaptname_to_adapter[adapter_name]\n",
        "            imbalance_adapter_func = imbalance_adapter(\n",
        "                valid_labels=pseudovalid_labels,                       \n",
        "                tofit_initial_posterior_probs=calib_shifted_pseudotest_preds, \n",
        "                valid_posterior_probs=calib_pseudovalid_preds)\n",
        "            adapted_shifted_pseudotest_preds = imbalance_adapter_func(        \n",
        "                        calib_shifted_pseudotest_preds)\n",
        "            estim_shifted_priors = np.mean(adapted_shifted_pseudotest_preds,  \n",
        "                                           axis=0)\n",
        "            #compute metrics for quality of shift\n",
        "            adapted_shifted_pseudotest_perf = np.mean(\n",
        "              np.argmax(adapted_shifted_pseudotest_preds, axis=-1)\n",
        "              ==np.argmax(shifted_pseudotest_labels, axis=-1))\n",
        "            delta_from_baseline = (adapted_shifted_pseudotest_perf-\n",
        "                                   shifted_pseudotest_baseline_perf)\n",
        "            \n",
        "            alpha_to_samplesize_to_adaptername_to_metric_to_vals[\n",
        "                alpha][samplesize][adapter_name+\":\"+calib_name][\n",
        "                'jsdiv'].append(\n",
        "                  scipy.spatial.distance.jensenshannon(\n",
        "                      p=true_shifted_priors, q=estim_shifted_priors))\n",
        "            alpha_to_samplesize_to_adaptername_to_metric_to_vals[\n",
        "                alpha][samplesize][adapter_name+\":\"+calib_name][\n",
        "                'delta_perf'].append(delta_from_baseline)\n",
        "        \n",
        "    if (samplesize not in samplesizesseen):\n",
        "        print(\"Calibration stats\")\n",
        "        for metric in ['ece', 'nll', 'jsdiv']:\n",
        "            print(\"Metric\",metric)\n",
        "            for calibname in calibname_to_calibfactory:\n",
        "                print(calibname, np.mean(                     \n",
        "                       metric_to_samplesize_to_calibname_to_unshiftedvals[\n",
        "                        metric][samplesize][calibname]))  \n",
        "        samplesizesseen.add(samplesize)\n",
        "\n",
        "    print(\"On alpha\",alpha,\"sample size\", samplesize)\n",
        "    for metric_name in ['delta_perf', 'jsdiv']: \n",
        "        print(\"Metric\",metric_name)\n",
        "        for adapter_name,calib_name in adaptncalib_pairs:\n",
        "            adaptncalib_name = adapter_name+\":\"+calib_name\n",
        "            n = len(alpha_to_samplesize_to_adaptername_to_metric_to_vals[\n",
        "                  alpha][samplesize][adaptncalib_name][metric_name])\n",
        "\n",
        "            print(adaptncalib_name, np.mean(\n",
        "             alpha_to_samplesize_to_adaptername_to_metric_to_vals[\n",
        "               alpha][samplesize][adaptncalib_name][metric_name]), \"+/-\",\n",
        "             (1.0/np.sqrt(n))*np.std(\n",
        "             alpha_to_samplesize_to_adaptername_to_metric_to_vals[\n",
        "               alpha][samplesize][adaptncalib_name][metric_name],\n",
        "               ddof=1))           \n",
        "            sys.stdout.flush()"
      ],
      "execution_count": 40,
      "outputs": [
        {
          "output_type": "stream",
          "text": [
            "Done 0 trials\n"
          ],
          "name": "stdout"
        },
        {
          "output_type": "error",
          "ename": "KeyboardInterrupt",
          "evalue": "ignored",
          "traceback": [
            "\u001b[0;31m---------------------------------------------------------------------------\u001b[0m",
            "\u001b[0;31mKeyboardInterrupt\u001b[0m                         Traceback (most recent call last)",
            "\u001b[0;32m<ipython-input-40-3858435a0b7b>\u001b[0m in \u001b[0;36m<module>\u001b[0;34m()\u001b[0m\n\u001b[1;32m    105\u001b[0m                 \u001b[0mvalid_labels\u001b[0m\u001b[0;34m=\u001b[0m\u001b[0mpseudovalid_labels\u001b[0m\u001b[0;34m,\u001b[0m\u001b[0;34m\u001b[0m\u001b[0;34m\u001b[0m\u001b[0m\n\u001b[1;32m    106\u001b[0m                 \u001b[0mtofit_initial_posterior_probs\u001b[0m\u001b[0;34m=\u001b[0m\u001b[0mcalib_shifted_pseudotest_preds\u001b[0m\u001b[0;34m,\u001b[0m\u001b[0;34m\u001b[0m\u001b[0;34m\u001b[0m\u001b[0m\n\u001b[0;32m--> 107\u001b[0;31m                 valid_posterior_probs=calib_pseudovalid_preds)\n\u001b[0m\u001b[1;32m    108\u001b[0m             adapted_shifted_pseudotest_preds = imbalance_adapter_func(        \n\u001b[1;32m    109\u001b[0m                         calib_shifted_pseudotest_preds)\n",
            "\u001b[0;32m/usr/local/lib/python3.6/dist-packages/abstention/label_shift.py\u001b[0m in \u001b[0;36m__call__\u001b[0;34m(self, valid_labels, tofit_initial_posterior_probs, valid_posterior_probs)\u001b[0m\n\u001b[1;32m    225\u001b[0m             confusion_matrix = np.mean((\n\u001b[1;32m    226\u001b[0m                 \u001b[0mvalid_posterior_probs\u001b[0m\u001b[0;34m[\u001b[0m\u001b[0;34m:\u001b[0m\u001b[0;34m,\u001b[0m\u001b[0;34m:\u001b[0m\u001b[0;34m,\u001b[0m\u001b[0;32mNone\u001b[0m\u001b[0;34m]\u001b[0m\u001b[0;34m*\u001b[0m\u001b[0;34m\u001b[0m\u001b[0;34m\u001b[0m\u001b[0m\n\u001b[0;32m--> 227\u001b[0;31m                 valid_labels[:,None,:]), axis=0)\n\u001b[0m\u001b[1;32m    228\u001b[0m         \u001b[0;32melse\u001b[0m\u001b[0;34m:\u001b[0m\u001b[0;34m\u001b[0m\u001b[0;34m\u001b[0m\u001b[0m\n\u001b[1;32m    229\u001b[0m             confusion_matrix = np.mean((hard_valid_preds[:,:,None]*\n",
            "\u001b[0;32m/usr/local/lib/python3.6/dist-packages/numpy/core/fromnumeric.py\u001b[0m in \u001b[0;36mmean\u001b[0;34m(a, axis, dtype, out, keepdims)\u001b[0m\n\u001b[1;32m   3116\u001b[0m \u001b[0;34m\u001b[0m\u001b[0m\n\u001b[1;32m   3117\u001b[0m     return _methods._mean(a, axis=axis, dtype=dtype,\n\u001b[0;32m-> 3118\u001b[0;31m                           out=out, **kwargs)\n\u001b[0m\u001b[1;32m   3119\u001b[0m \u001b[0;34m\u001b[0m\u001b[0m\n\u001b[1;32m   3120\u001b[0m \u001b[0;34m\u001b[0m\u001b[0m\n",
            "\u001b[0;32m/usr/local/lib/python3.6/dist-packages/numpy/core/_methods.py\u001b[0m in \u001b[0;36m_mean\u001b[0;34m(a, axis, dtype, out, keepdims)\u001b[0m\n\u001b[1;32m     73\u001b[0m             \u001b[0mis_float16_result\u001b[0m \u001b[0;34m=\u001b[0m \u001b[0;32mTrue\u001b[0m\u001b[0;34m\u001b[0m\u001b[0;34m\u001b[0m\u001b[0m\n\u001b[1;32m     74\u001b[0m \u001b[0;34m\u001b[0m\u001b[0m\n\u001b[0;32m---> 75\u001b[0;31m     \u001b[0mret\u001b[0m \u001b[0;34m=\u001b[0m \u001b[0mumr_sum\u001b[0m\u001b[0;34m(\u001b[0m\u001b[0marr\u001b[0m\u001b[0;34m,\u001b[0m \u001b[0maxis\u001b[0m\u001b[0;34m,\u001b[0m \u001b[0mdtype\u001b[0m\u001b[0;34m,\u001b[0m \u001b[0mout\u001b[0m\u001b[0;34m,\u001b[0m \u001b[0mkeepdims\u001b[0m\u001b[0;34m)\u001b[0m\u001b[0;34m\u001b[0m\u001b[0;34m\u001b[0m\u001b[0m\n\u001b[0m\u001b[1;32m     76\u001b[0m     \u001b[0;32mif\u001b[0m \u001b[0misinstance\u001b[0m\u001b[0;34m(\u001b[0m\u001b[0mret\u001b[0m\u001b[0;34m,\u001b[0m \u001b[0mmu\u001b[0m\u001b[0;34m.\u001b[0m\u001b[0mndarray\u001b[0m\u001b[0;34m)\u001b[0m\u001b[0;34m:\u001b[0m\u001b[0;34m\u001b[0m\u001b[0;34m\u001b[0m\u001b[0m\n\u001b[1;32m     77\u001b[0m         ret = um.true_divide(\n",
            "\u001b[0;31mKeyboardInterrupt\u001b[0m: "
          ]
        }
      ]
    },
    {
      "cell_type": "code",
      "metadata": {
        "id": "HDoDQrwEz8TZ",
        "colab_type": "code",
        "colab": {
          "base_uri": "https://localhost:8080/",
          "height": 34
        },
        "outputId": "4416f4df-bd03-45a3-ff36-e9f18030b79d"
      },
      "source": [
        "import json\n",
        "import os\n",
        "file_out = \"label_shift_adaptation_results.json\"\n",
        "dict_to_write = {\n",
        "    \"alpha_to_samplesize_to_adaptername_to_metric_to_vals\":\n",
        "     alpha_to_samplesize_to_adaptername_to_metric_to_vals,\n",
        "    \"alpha_to_samplesize_to_baselineperf\":\n",
        "     alpha_to_samplesize_to_baselineperf,\n",
        "    \"metric_to_samplesize_to_calibname_to_unshiftedvals\":\n",
        "     metric_to_samplesize_to_calibname_to_unshiftedvals\n",
        "}\n",
        "open(file_out, 'w').write(\n",
        "    json.dumps(dict_to_write,\n",
        "               sort_keys=True, indent=4, separators=(',', ': ')))\n",
        "os.system(\"gzip -f \"+file_out)"
      ],
      "execution_count": 34,
      "outputs": [
        {
          "output_type": "execute_result",
          "data": {
            "text/plain": [
              "0"
            ]
          },
          "metadata": {
            "tags": []
          },
          "execution_count": 34
        }
      ]
    },
    {
      "cell_type": "code",
      "metadata": {
        "id": "lxnkZg-n1hxj",
        "colab_type": "code",
        "colab": {}
      },
      "source": [
        "import gzip\n",
        "import json\n",
        "loaded_dicts = json.loads(gzip.open(\"label_shift_adaptation_results.json.gz\").read())\n",
        "alpha_to_samplesize_to_adaptername_to_metric_to_vals =\\\n",
        "    loaded_dicts['alpha_to_samplesize_to_adaptername_to_metric_to_vals']\n",
        "alpha_to_samplesize_to_baselineperf =\\\n",
        "    loaded_dicts['alpha_to_samplesize_to_baselineperf']\n",
        "metric_to_samplesize_to_calibname_to_unshiftedvals =\\\n",
        "    loaded_dicts['metric_to_samplesize_to_calibname_to_unshiftedvals']"
      ],
      "execution_count": 0,
      "outputs": []
    },
    {
      "cell_type": "code",
      "metadata": {
        "id": "DvGAAv8k1rTL",
        "colab_type": "code",
        "colab": {
          "base_uri": "https://localhost:8080/",
          "height": 360
        },
        "outputId": "d3a8e2b9-3cd0-41a0-bd72-812f8c8ba7fe"
      },
      "source": [
        "from importlib import reload\n",
        "import labelshiftexperiments\n",
        "reload(labelshiftexperiments)\n",
        "import labelshiftexperiments.maketable\n",
        "reload (labelshiftexperiments.maketable)\n",
        "from labelshiftexperiments.maketable import render_calibration_table\n",
        "\n",
        "metricname_to_nicename = {'nll': 'nll', 'jsdiv': 'jsdiv', 'ece': 'ECE'}\n",
        "calibname_to_nicename = {'None': \"None\", \"TS\": \"TS\",\n",
        "                         \"VS\":\"VS\", \"NBVS\": \"NBVS\", \"BCTS\": \"BCTS\"}\n",
        "  \n",
        "from scipy.stats import norm\n",
        "N = num_trials\n",
        "#Using the normal approximation at N=100;\n",
        "# variance from https://en.wikipedia.org/wiki/Wilcoxon_signed-rank_test\n",
        "#Note that T = ((N+1)*N/2 - W)/2            \n",
        "ustat_threshold = ((N*(N+1))/2 - norm.ppf(0.99)*np.sqrt(N*(N+1)*(2*N+1)/6.0))/2.0\n",
        "  \n",
        "print(render_calibration_table(\n",
        "        metric_to_samplesize_to_calibname_to_unshiftedvals=\n",
        "          metric_to_samplesize_to_calibname_to_unshiftedvals,\n",
        "        #threshold of 8 comes from table https://www.oreilly.com/library/view/nonparametric-statistics-a/9781118840429/bapp02.xhtml\n",
        "        #for one-tailed alpha=0.025 and n=10            \n",
        "        ustat_threshold=ustat_threshold,\n",
        "        metrics_in_table=['nll', 'jsdiv', 'ece'],\n",
        "        samplesizes_in_table=['5000'],\n",
        "        calibnames_in_table=['None', 'TS', 'NBVS', 'BCTS', 'VS'],\n",
        "        metricname_to_nicename=metricname_to_nicename,\n",
        "        calibname_to_nicename=calibname_to_nicename,\n",
        "        caption=\"KaggleDR Calibration metric differences\", label=\"kaggledrcalibrationcomparison\",\n",
        "        applyunderline=False))"
      ],
      "execution_count": 36,
      "outputs": [
        {
          "output_type": "stream",
          "text": [
            "\n",
            "\\begin{table*}\n",
            "\\adjustbox{max width=\\textwidth}{\n",
            "  \\centering\n",
            "  \\begin{tabular}{ c | c | c | c }\n",
            "    \\multirow{2}{*}{\\begin{tabular}{c}\\textbf{Calibration} \\\\ \\textbf{Method} \\end{tabular}} & \\multicolumn{1}{| c}{nll} & \\multicolumn{1}{| c}{jsdiv} & \\multicolumn{1}{| c}{ECE}\\\\\n",
            "    \\cline{2-4}\n",
            "    & $n$=5000 & $n$=5000 & $n$=5000\\\\\n",
            "    \\hline\n",
            "    None & 1.517; 4.0 & 0.055; 4.0 & 18.035; 4.0\\\\\n",
            "    TS & 1.111; 2.8 & 0.051; 3.0 & 3.632; 2.6\\\\\n",
            "    NBVS & \\textbf{1.099; 0.8} & \\textbf{0.042; 0.6} & \\textbf{2.94; 0.1}\\\\\n",
            "    BCTS & \\textbf{1.096; 0.2} & \\textbf{0.043; 1.1} & 3.46; 2.1\\\\\n",
            "    VS & 1.105; 2.2 & \\textbf{0.043; 1.3} & 3.107; 1.2\\\\\n",
            "  \\end{tabular}}\n",
            "  \\caption{KaggleDR Calibration metric differences}\n",
            "  \\label{tab:kaggledrcalibrationcomparison}\n",
            "\\end{table*}\n",
            "\n"
          ],
          "name": "stdout"
        }
      ]
    },
    {
      "cell_type": "code",
      "metadata": {
        "id": "VonA65ef1uOr",
        "colab_type": "code",
        "colab": {
          "base_uri": "https://localhost:8080/",
          "height": 989
        },
        "outputId": "dbc4b50f-bbf7-44ed-88e5-a3ca03824d2b"
      },
      "source": [
        "from labelshiftexperiments.maketable import render_adaptation_table\n",
        "    \n",
        "methodgroups = OrderedDict([\n",
        "  ('em', ['em:None', 'em:TS', 'em:NBVS', 'em:BCTS', 'em:VS']),\n",
        "  ('bbse', ['bbse-hard:None', 'bbse-soft:None',\n",
        "           'bbse-soft:TS', 'bbse-soft:NBVS', 'bbse-soft:BCTS', 'bbse-soft:VS'])])\n",
        "metric_to_largerisbetter = {'perf':True}\n",
        "samplesizes_in_table = ['5000']\n",
        "adaptname_to_nicename = {'em': 'EM',\n",
        "                           'bbse-soft': 'BBSE-soft',\n",
        "                           'bbse-hard': 'BBSE-hard'}\n",
        "calibname_to_nicename = {'None': 'None',\n",
        "                           'TS': 'TS',\n",
        "                           'NBVS': 'NBVS',\n",
        "                           'BCTS': 'BCTS',\n",
        "                           'VS': 'VS'}\n",
        "\n",
        "alphas_in_table = ['5']\n",
        "\n",
        "print(render_adaptation_table(\n",
        "    alpha_to_samplesize_to_adaptncalib_to_metric_to_vals=alpha_to_samplesize_to_adaptername_to_metric_to_vals,\n",
        "    ustat_threshold=ustat_threshold,\n",
        "    valmultiplier=1.0,\n",
        "    adaptname_to_nicename=adaptname_to_nicename,\n",
        "    calibname_to_nicename=calibname_to_nicename,\n",
        "    methodgroups=methodgroups,\n",
        "    metric='jsdiv',\n",
        "    largerisbetter=False,\n",
        "    alphas_in_table=alphas_in_table,\n",
        "    samplesizes_in_table=samplesizes_in_table,\n",
        "    caption=\"KaggleDR Metric: JS Divergence, tweakone shift\",\n",
        "    label=\"kaggledrjsdivtweakoneshift\",\n",
        "    applyunderline=False))\n",
        "\n",
        "print(render_adaptation_table(\n",
        "    alpha_to_samplesize_to_adaptncalib_to_metric_to_vals=alpha_to_samplesize_to_adaptername_to_metric_to_vals,\n",
        "    ustat_threshold=ustat_threshold,\n",
        "    valmultiplier=100,\n",
        "    adaptname_to_nicename=adaptname_to_nicename,\n",
        "    calibname_to_nicename=calibname_to_nicename,\n",
        "    methodgroups=methodgroups,\n",
        "    metric='delta_perf',\n",
        "    largerisbetter=True,\n",
        "    alphas_in_table=alphas_in_table,\n",
        "    samplesizes_in_table=samplesizes_in_table,\n",
        "    caption=\"KaggleDR Metric: $\\\\Delta$\\\\%Accuracy, tweakone shift\",\n",
        "    label=\"kaggledrdeltaacctweakoneshift\",\n",
        "    applyunderline=False))"
      ],
      "execution_count": 38,
      "outputs": [
        {
          "output_type": "stream",
          "text": [
            "\n",
            "\\begin{table*}\n",
            "\\adjustbox{max width=\\textwidth}{\n",
            "  \\centering\n",
            "  \\begin{tabular}{ c | c | c}\n",
            "    \\multirow{2}{*}{\\begin{tabular}{c}\\textbf{Shift} \\\\ \\textbf{Estimator} \\end{tabular}} & \\multirow{2}{*}{\\begin{tabular}{c}\\textbf{Calibration} \\\\ \\textbf{Method} \\end{tabular}} & \\multicolumn{1}{| c}{$\\alpha=5$}\\\\ \n",
            "    \\cline{3-3}\n",
            "    & & $n$=5000\\\\\n",
            "    \\hline\n",
            "    \\hline\n",
            "    EM & None & \\textbf{0.08; 2.4}\\\\\n",
            "    EM & TS & 0.084; 3.7\\\\\n",
            "    EM & NBVS & \\textbf{0.076; 0.9}\\\\\n",
            "    EM & BCTS & \\textbf{0.076; 1.2}\\\\\n",
            "    EM & VS & \\textbf{0.077; 1.8}\\\\\n",
            "    \\hline\n",
            "    \\hline\n",
            "    BBSE-hard & None & 0.095; 4.5\\\\\n",
            "    BBSE-soft & None & \\textbf{0.089; 2.1}\\\\\n",
            "    BBSE-soft & TS & 0.091; 3.7\\\\\n",
            "    BBSE-soft & NBVS & \\textbf{0.085; 1.4}\\\\\n",
            "    BBSE-soft & BCTS & \\textbf{0.085; 1.6}\\\\\n",
            "    BBSE-soft & VS & \\textbf{0.085; 1.7}\\\\\n",
            "  \\end{tabular}}\n",
            "  \\caption{KaggleDR Metric: JS Divergence, tweakone shift}\n",
            "  \\label{tab:kaggledrjsdivtweakoneshift}\n",
            "\\end{table*}\n",
            "\n",
            "\n",
            "\\begin{table*}\n",
            "\\adjustbox{max width=\\textwidth}{\n",
            "  \\centering\n",
            "  \\begin{tabular}{ c | c | c}\n",
            "    \\multirow{2}{*}{\\begin{tabular}{c}\\textbf{Shift} \\\\ \\textbf{Estimator} \\end{tabular}} & \\multirow{2}{*}{\\begin{tabular}{c}\\textbf{Calibration} \\\\ \\textbf{Method} \\end{tabular}} & \\multicolumn{1}{| c}{$\\alpha=5$}\\\\ \n",
            "    \\cline{3-3}\n",
            "    & & $n$=5000\\\\\n",
            "    \\hline\n",
            "    \\hline\n",
            "    EM & None & 0.318; 3.5\\\\\n",
            "    EM & TS & 0.454; 3.1\\\\\n",
            "    EM & NBVS & \\textbf{0.962; 1.1}\\\\\n",
            "    EM & BCTS & \\textbf{0.918; 1.1}\\\\\n",
            "    EM & VS & \\textbf{0.968; 1.2}\\\\\n",
            "    \\hline\n",
            "    \\hline\n",
            "    BBSE-hard & None & 0.192; 4.4\\\\\n",
            "    BBSE-soft & None & 0.326; 3.6\\\\\n",
            "    BBSE-soft & TS & 0.376; 3.7\\\\\n",
            "    BBSE-soft & NBVS & \\textbf{0.838; 1.0}\\\\\n",
            "    BBSE-soft & BCTS & \\textbf{0.776; 1.6}\\\\\n",
            "    BBSE-soft & VS & \\textbf{0.91; 0.7}\\\\\n",
            "  \\end{tabular}}\n",
            "  \\caption{KaggleDR Metric: $\\Delta$\\%Accuracy, tweakone shift}\n",
            "  \\label{tab:kaggledrdeltaacctweakoneshift}\n",
            "\\end{table*}\n",
            "\n"
          ],
          "name": "stdout"
        }
      ]
    },
    {
      "cell_type": "code",
      "metadata": {
        "id": "HkEN85En2KxK",
        "colab_type": "code",
        "colab": {}
      },
      "source": [
        ""
      ],
      "execution_count": 0,
      "outputs": []
    }
  ]
}