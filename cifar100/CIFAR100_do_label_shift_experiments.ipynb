{
  "nbformat": 4,
  "nbformat_minor": 0,
  "metadata": {
    "colab": {
      "name": "CIFAR100 do label shift experiments.ipynb",
      "provenance": [],
      "collapsed_sections": [],
      "include_colab_link": true
    },
    "kernelspec": {
      "name": "python3",
      "display_name": "Python 3"
    }
  },
  "cells": [
    {
      "cell_type": "markdown",
      "metadata": {
        "id": "view-in-github",
        "colab_type": "text"
      },
      "source": [
        "<a href=\"https://colab.research.google.com/github/kundajelab/label_shift_experiments/blob/master/cifar100/CIFAR100_do_label_shift_experiments.ipynb\" target=\"_parent\"><img src=\"https://colab.research.google.com/assets/colab-badge.svg\" alt=\"Open In Colab\"/></a>"
      ]
    },
    {
      "cell_type": "code",
      "metadata": {
        "id": "4HoNMk_PkjYs",
        "colab_type": "code",
        "colab": {
          "base_uri": "https://localhost:8080/",
          "height": 1000
        },
        "outputId": "8f99c13b-324e-483d-ab66-ca734a68e379"
      },
      "source": [
        "!wget https://zenodo.org/record/3458525/files/cifar100_pred_logits.txt.gz?download=1 -O cifar100_pred_logits.txt.gz\n",
        "!wget https://zenodo.org/record/3458525/files/cifar100_ys_test.txt.gz?download=1 -O cifar100_ys_test.txt.gz\n",
        "\n",
        "!wget https://zenodo.org/record/3458601/files/am_cirfar100_test_labels.txt.gz?download=1 -O am_cirfar100_test_labels.txt.gz\n",
        "!wget https://zenodo.org/record/3458601/files/am_cirfar100_testpreacts_seed0.txt.gz?download=1 -O am_cirfar100_testpreacts_seed0.txt.gz\n",
        "!wget https://zenodo.org/record/3458601/files/am_cirfar100_valid_labels.txt.gz?download=1 -O am_cirfar100_valid_labels.txt.gz\n",
        "!wget https://zenodo.org/record/3458601/files/am_cirfar100_validpreacts_seed0.txt.gz?download=1 -O am_cirfar100_validpreacts_seed0.txt.gz"
      ],
      "execution_count": 96,
      "outputs": [
        {
          "output_type": "stream",
          "text": [
            "--2019-09-23 23:51:43--  https://zenodo.org/record/3458525/files/cifar100_pred_logits.txt.gz?download=1\n",
            "Resolving zenodo.org (zenodo.org)... 188.184.65.20\n",
            "Connecting to zenodo.org (zenodo.org)|188.184.65.20|:443... connected.\n",
            "HTTP request sent, awaiting response... 200 OK\n",
            "Length: 4717007 (4.5M) [application/octet-stream]\n",
            "Saving to: ‘cifar100_pred_logits.txt.gz’\n",
            "\n",
            "cifar100_pred_logit 100%[===================>]   4.50M  3.45MB/s    in 1.3s    \n",
            "\n",
            "2019-09-23 23:51:45 (3.45 MB/s) - ‘cifar100_pred_logits.txt.gz’ saved [4717007/4717007]\n",
            "\n",
            "--2019-09-23 23:51:46--  https://zenodo.org/record/3458525/files/cifar100_ys_test.txt.gz?download=1\n",
            "Resolving zenodo.org (zenodo.org)... 188.184.65.20\n",
            "Connecting to zenodo.org (zenodo.org)|188.184.65.20|:443... connected.\n",
            "HTTP request sent, awaiting response... 200 OK\n",
            "Length: 46058 (45K) [application/octet-stream]\n",
            "Saving to: ‘cifar100_ys_test.txt.gz’\n",
            "\n",
            "cifar100_ys_test.tx 100%[===================>]  44.98K   145KB/s    in 0.3s    \n",
            "\n",
            "2019-09-23 23:51:47 (145 KB/s) - ‘cifar100_ys_test.txt.gz’ saved [46058/46058]\n",
            "\n",
            "--2019-09-23 23:51:48--  https://zenodo.org/record/3458601/files/am_cirfar100_test_labels.txt.gz?download=1\n",
            "Resolving zenodo.org (zenodo.org)... 188.184.65.20\n",
            "Connecting to zenodo.org (zenodo.org)|188.184.65.20|:443... connected.\n",
            "HTTP request sent, awaiting response... 200 OK\n",
            "Length: 46062 (45K) [application/octet-stream]\n",
            "Saving to: ‘am_cirfar100_test_labels.txt.gz’\n",
            "\n",
            "am_cirfar100_test_l 100%[===================>]  44.98K   145KB/s    in 0.3s    \n",
            "\n",
            "2019-09-23 23:51:49 (145 KB/s) - ‘am_cirfar100_test_labels.txt.gz’ saved [46062/46062]\n",
            "\n",
            "--2019-09-23 23:51:50--  https://zenodo.org/record/3458601/files/am_cirfar100_testpreacts_seed0.txt.gz?download=1\n",
            "Resolving zenodo.org (zenodo.org)... 188.184.65.20\n",
            "Connecting to zenodo.org (zenodo.org)|188.184.65.20|:443... connected.\n",
            "HTTP request sent, awaiting response... 200 OK\n",
            "Length: 4683825 (4.5M) [application/octet-stream]\n",
            "Saving to: ‘am_cirfar100_testpreacts_seed0.txt.gz’\n",
            "\n",
            "am_cirfar100_testpr 100%[===================>]   4.47M  3.63MB/s    in 1.2s    \n",
            "\n",
            "2019-09-23 23:51:52 (3.63 MB/s) - ‘am_cirfar100_testpreacts_seed0.txt.gz’ saved [4683825/4683825]\n",
            "\n",
            "--2019-09-23 23:51:53--  https://zenodo.org/record/3458601/files/am_cirfar100_valid_labels.txt.gz?download=1\n",
            "Resolving zenodo.org (zenodo.org)... 188.184.65.20\n",
            "Connecting to zenodo.org (zenodo.org)|188.184.65.20|:443... connected.\n",
            "HTTP request sent, awaiting response... 200 OK\n",
            "Length: 46020 (45K) [application/octet-stream]\n",
            "Saving to: ‘am_cirfar100_valid_labels.txt.gz’\n",
            "\n",
            "am_cirfar100_valid_ 100%[===================>]  44.94K   145KB/s    in 0.3s    \n",
            "\n",
            "2019-09-23 23:51:54 (145 KB/s) - ‘am_cirfar100_valid_labels.txt.gz’ saved [46020/46020]\n",
            "\n",
            "--2019-09-23 23:51:55--  https://zenodo.org/record/3458601/files/am_cirfar100_validpreacts_seed0.txt.gz?download=1\n",
            "Resolving zenodo.org (zenodo.org)... 188.184.65.20\n",
            "Connecting to zenodo.org (zenodo.org)|188.184.65.20|:443... connected.\n",
            "HTTP request sent, awaiting response... 200 OK\n",
            "Length: 4683645 (4.5M) [application/octet-stream]\n",
            "Saving to: ‘am_cirfar100_validpreacts_seed0.txt.gz’\n",
            "\n",
            "am_cirfar100_validp 100%[===================>]   4.47M  3.56MB/s    in 1.3s    \n",
            "\n",
            "2019-09-23 23:51:57 (3.56 MB/s) - ‘am_cirfar100_validpreacts_seed0.txt.gz’ saved [4683645/4683645]\n",
            "\n"
          ],
          "name": "stdout"
        }
      ]
    },
    {
      "cell_type": "code",
      "metadata": {
        "id": "3AzwUvQGk1AG",
        "colab_type": "code",
        "colab": {
          "base_uri": "https://localhost:8080/",
          "height": 650
        },
        "outputId": "a0aa8a47-567f-473c-8c37-822be04efdb0"
      },
      "source": [
        "![[ -e abstention ]] || git clone https://github.com/blindauth/abstention\n",
        "%cd /content/abstention\n",
        "!git pull\n",
        "!pip uninstall abstention\n",
        "!pip install .\n",
        "%cd .."
      ],
      "execution_count": 82,
      "outputs": [
        {
          "output_type": "stream",
          "text": [
            "/content/abstention\n",
            "remote: Enumerating objects: 19, done.\u001b[K\n",
            "remote: Counting objects: 100% (19/19), done.\u001b[K\n",
            "remote: Compressing objects: 100% (10/10), done.\u001b[K\n",
            "remote: Total 16 (delta 12), reused 10 (delta 6), pack-reused 0\n",
            "Unpacking objects: 100% (16/16), done.\n",
            "From https://github.com/blindauth/abstention\n",
            "   fcd77c0..273a2a4  master     -> origin/master\n",
            "Updating fcd77c0..273a2a4\n",
            "Fast-forward\n",
            " abstention/figure_making_utils.py | 23 \u001b[32m+++++++++++++\u001b[m\u001b[31m----------\u001b[m\n",
            " 1 file changed, 13 insertions(+), 10 deletions(-)\n",
            "Uninstalling abstention-0.1.3.0:\n",
            "  Would remove:\n",
            "    /usr/local/lib/python3.6/dist-packages/abstention-0.1.3.0.dist-info/*\n",
            "    /usr/local/lib/python3.6/dist-packages/abstention/*\n",
            "Proceed (y/n)? y\n",
            "  Successfully uninstalled abstention-0.1.3.0\n",
            "Processing /content/abstention\n",
            "Requirement already satisfied: numpy>=1.9 in /usr/local/lib/python3.6/dist-packages (from abstention==0.1.3.0) (1.16.5)\n",
            "Requirement already satisfied: scikit-learn>=0.20.0 in /usr/local/lib/python3.6/dist-packages (from abstention==0.1.3.0) (0.21.3)\n",
            "Requirement already satisfied: scipy>=1.1.0 in /usr/local/lib/python3.6/dist-packages (from abstention==0.1.3.0) (1.3.1)\n",
            "Requirement already satisfied: joblib>=0.11 in /usr/local/lib/python3.6/dist-packages (from scikit-learn>=0.20.0->abstention==0.1.3.0) (0.13.2)\n",
            "Building wheels for collected packages: abstention\n",
            "  Building wheel for abstention (setup.py) ... \u001b[?25l\u001b[?25hdone\n",
            "  Created wheel for abstention: filename=abstention-0.1.3.0-cp36-none-any.whl size=46295 sha256=a4b920120f4e37bd956472fd534e520069ff1dfd8ac9c9e0946204ffb69c4d19\n",
            "  Stored in directory: /tmp/pip-ephem-wheel-cache-v2swrwe1/wheels/60/8e/d2/9e9ca02e7b5f76bfda2e2daa6dcbe42c19095c502ccb653729\n",
            "Successfully built abstention\n",
            "Installing collected packages: abstention\n",
            "Successfully installed abstention-0.1.3.0\n"
          ],
          "name": "stdout"
        },
        {
          "output_type": "display_data",
          "data": {
            "application/vnd.colab-display-data+json": {
              "pip_warning": {
                "packages": [
                  "abstention"
                ]
              }
            }
          },
          "metadata": {
            "tags": []
          }
        },
        {
          "output_type": "stream",
          "text": [
            "/content\n"
          ],
          "name": "stdout"
        }
      ]
    },
    {
      "cell_type": "code",
      "metadata": {
        "id": "lfMaM2DglFSi",
        "colab_type": "code",
        "colab": {
          "base_uri": "https://localhost:8080/",
          "height": 497
        },
        "outputId": "52ea3da7-0b63-4f01-8069-e0cdf4806d64"
      },
      "source": [
        "![[ -e label_shift_experiments ]] || git clone https://github.com/blindauth/labelshiftexperiments\n",
        "%cd /content/labelshiftexperiments\n",
        "!git pull\n",
        "!pip uninstall labelshiftexperiments\n",
        "!pip install .\n",
        "%cd .."
      ],
      "execution_count": 83,
      "outputs": [
        {
          "output_type": "stream",
          "text": [
            "fatal: destination path 'labelshiftexperiments' already exists and is not an empty directory.\n",
            "/content/labelshiftexperiments\n",
            "Already up to date.\n",
            "Uninstalling labelshiftexperiments-0.1.0.0:\n",
            "  Would remove:\n",
            "    /usr/local/lib/python3.6/dist-packages/labelshiftexperiments-0.1.0.0.dist-info/*\n",
            "    /usr/local/lib/python3.6/dist-packages/labelshiftexperiments/*\n",
            "Proceed (y/n)? y\n",
            "  Successfully uninstalled labelshiftexperiments-0.1.0.0\n",
            "Processing /content/labelshiftexperiments\n",
            "Requirement already satisfied: numpy>=1.9 in /usr/local/lib/python3.6/dist-packages (from labelshiftexperiments==0.1.0.0) (1.16.5)\n",
            "Requirement already satisfied: scikit-learn>=0.20.0 in /usr/local/lib/python3.6/dist-packages (from labelshiftexperiments==0.1.0.0) (0.21.3)\n",
            "Requirement already satisfied: scipy>=1.1.0 in /usr/local/lib/python3.6/dist-packages (from labelshiftexperiments==0.1.0.0) (1.3.1)\n",
            "Requirement already satisfied: joblib>=0.11 in /usr/local/lib/python3.6/dist-packages (from scikit-learn>=0.20.0->labelshiftexperiments==0.1.0.0) (0.13.2)\n",
            "Building wheels for collected packages: labelshiftexperiments\n",
            "  Building wheel for labelshiftexperiments (setup.py) ... \u001b[?25l\u001b[?25hdone\n",
            "  Created wheel for labelshiftexperiments: filename=labelshiftexperiments-0.1.0.0-cp36-none-any.whl size=6273 sha256=8c247ccbcbae5d254e3dd1e59dff8626e2543316839e0361413a17d5de5889cd\n",
            "  Stored in directory: /tmp/pip-ephem-wheel-cache-y6dz4z65/wheels/6d/56/a7/fc736645f87832f3f9af94ef6661744069f41cd66bab35ec1b\n",
            "Successfully built labelshiftexperiments\n",
            "Installing collected packages: labelshiftexperiments\n",
            "Successfully installed labelshiftexperiments-0.1.0.0\n"
          ],
          "name": "stdout"
        },
        {
          "output_type": "display_data",
          "data": {
            "application/vnd.colab-display-data+json": {
              "pip_warning": {
                "packages": [
                  "labelshiftexperiments"
                ]
              }
            }
          },
          "metadata": {
            "tags": []
          }
        },
        {
          "output_type": "stream",
          "text": [
            "/content\n"
          ],
          "name": "stdout"
        }
      ]
    },
    {
      "cell_type": "code",
      "metadata": {
        "id": "K57Sm50IlmAa",
        "colab_type": "code",
        "colab": {
          "base_uri": "https://localhost:8080/",
          "height": 34
        },
        "outputId": "9352d9af-abd1-4859-bdd4-e7f01548f7b9"
      },
      "source": [
        "!rm *.txt\n",
        "!gunzip *.gz"
      ],
      "execution_count": 97,
      "outputs": [
        {
          "output_type": "stream",
          "text": [
            "rm: cannot remove '*.txt': No such file or directory\n"
          ],
          "name": "stdout"
        }
      ]
    },
    {
      "cell_type": "code",
      "metadata": {
        "id": "HIN9-59nhLDs",
        "colab_type": "code",
        "colab": {
          "base_uri": "https://localhost:8080/",
          "height": 102
        },
        "outputId": "e070ad0f-574f-42d0-f00a-9cf9b26d2e8d"
      },
      "source": [
        "!ls"
      ],
      "execution_count": 98,
      "outputs": [
        {
          "output_type": "stream",
          "text": [
            "abstention\t\t\t     cifar100_pred_logits.txt\n",
            "am_cirfar100_test_labels.txt\t     cifar100_ys_test.txt\n",
            "am_cirfar100_testpreacts_seed0.txt   label_shift_adaptation_results.json\n",
            "am_cirfar100_valid_labels.txt\t     labelshiftexperiments\n",
            "am_cirfar100_validpreacts_seed0.txt  sample_data\n"
          ],
          "name": "stdout"
        }
      ]
    },
    {
      "cell_type": "code",
      "metadata": {
        "id": "c_8wRvy_ildE",
        "colab_type": "code",
        "colab": {
          "base_uri": "https://localhost:8080/",
          "height": 255
        },
        "outputId": "fb7b64a6-c464-4dd8-e8af-5c9f8a2b3c11"
      },
      "source": [
        "!wc -l *"
      ],
      "execution_count": 106,
      "outputs": [
        {
          "output_type": "stream",
          "text": [
            "wc: abstention: Is a directory\n",
            "       0 abstention\n",
            "    9999 am_cirfar100_test_labels.txt\n",
            "   10000 am_cirfar100_testpreacts_seed0.txt\n",
            "    9999 am_cirfar100_valid_labels.txt\n",
            "   10000 am_cirfar100_validpreacts_seed0.txt\n",
            "    9999 cifar100_pred_logits.txt\n",
            "    9999 cifar100_ys_test.txt\n",
            "     503 label_shift_adaptation_results.json\n",
            "wc: labelshiftexperiments: Is a directory\n",
            "       0 labelshiftexperiments\n",
            "wc: sample_data: Is a directory\n",
            "       0 sample_data\n",
            "   60499 total\n"
          ],
          "name": "stdout"
        }
      ]
    },
    {
      "cell_type": "code",
      "metadata": {
        "id": "rgxJu-ONlHlZ",
        "colab_type": "code",
        "colab": {
          "base_uri": "https://localhost:8080/",
          "height": 68
        },
        "outputId": "ad46804d-dde7-482c-a6b0-b0537f6c0f9f"
      },
      "source": [
        "from importlib import reload\n",
        "import abstention\n",
        "reload(abstention)\n",
        "reload(abstention.calibration)\n",
        "reload(abstention.label_shift)\n",
        "reload(abstention.figure_making_utils)\n",
        "from abstention.calibration import (\n",
        "    TempScaling, VectorScaling, NoBiasVectorScaling, softmax)\n",
        "from abstention.label_shift import (EMImbalanceAdapter,\n",
        "     BBSEImbalanceAdapter, ShiftWeightFromImbalanceAdapter)\n",
        "import glob\n",
        "import numpy as np\n",
        "from collections import defaultdict, OrderedDict\n",
        "\n",
        "import labelshiftexperiments\n",
        "reload(labelshiftexperiments)\n",
        "reload(labelshiftexperiments.cifarandmnist)\n",
        "from labelshiftexperiments import cifarandmnist\n",
        "        \n",
        "#all_labels = cifarandmnist.read_preds(open(\"cifar100_ys_test.txt\"))\n",
        "#all_predlogits = cifarandmnist.read_preds(open(\"cifar100_pred_logits.txt\"))\n",
        "\n",
        "#all_labels = np.concatenate([cifarandmnist.read_preds(open(\"am_cirfar100_test_labels.txt\")),\n",
        "#                             cifarandmnist.read_preds(open(\"am_cirfar100_valid_labels.txt\"))],\n",
        "#                            axis=0)\n",
        "#all_predlogits = np.concatenate([cifarandmnist.read_preds(open(\"am_cirfar100_testpreacts_seed0.txt\")),\n",
        "#                                 cifarandmnist.read_preds(open(\"am_cirfar100_validpreacts_seed0.txt\"))],\n",
        "#                                 axis=0)\n",
        "\n",
        "all_labels = cifarandmnist.read_preds(open(\"am_cirfar100_test_labels.txt\"))\n",
        "print(len(all_labels))\n",
        "all_predlogits = cifarandmnist.read_preds(open(\"am_cirfar100_testpreacts_seed0.txt\"))\n",
        "print(len(all_predlogits))\n",
        "\n",
        "print(np.mean(np.argmax(all_labels,axis=-1)\n",
        "              ==np.argmax(all_predlogits, axis=-1)))"
      ],
      "execution_count": 115,
      "outputs": [
        {
          "output_type": "stream",
          "text": [
            "10000\n",
            "10000\n",
            "0.0105\n"
          ],
          "name": "stdout"
        }
      ]
    },
    {
      "cell_type": "code",
      "metadata": {
        "id": "1zTP3barjaF2",
        "colab_type": "code",
        "colab": {
          "base_uri": "https://localhost:8080/",
          "height": 34
        },
        "outputId": "2bfebdbf-4a2c-4319-fc68-68936cfd4e35"
      },
      "source": [
        "len(all_predlogits)"
      ],
      "execution_count": 108,
      "outputs": [
        {
          "output_type": "execute_result",
          "data": {
            "text/plain": [
              "10000"
            ]
          },
          "metadata": {
            "tags": []
          },
          "execution_count": 108
        }
      ]
    },
    {
      "cell_type": "code",
      "metadata": {
        "id": "67DnGv7Xh4CR",
        "colab_type": "code",
        "colab": {
          "base_uri": "https://localhost:8080/",
          "height": 207
        },
        "outputId": "ec43bf2a-4dc7-42c6-af8e-c3495a8aa2dc"
      },
      "source": [
        "!head am_cirfar100_validpreacts_seed0.txt"
      ],
      "execution_count": 88,
      "outputs": [
        {
          "output_type": "stream",
          "text": [
            "0.0\t0.0\t0.0\t0.0\t0.0\t0.0\t0.0\t0.0\t0.0\t0.0\t0.0\t0.0\t0.0\t0.0\t0.0\t0.0\t0.0\t0.0\t0.0\t0.0\t0.0\t0.0\t0.0\t0.0\t0.0\t0.0\t0.0\t0.0\t0.0\t0.0\t0.0\t0.0\t0.0\t0.0\t0.0\t0.0\t0.0\t0.0\t0.0\t0.0\t0.0\t0.0\t0.0\t0.0\t0.0\t0.0\t0.0\t0.0\t0.0\t0.0\t0.0\t0.0\t0.0\t0.0\t0.0\t0.0\t0.0\t0.0\t0.0\t0.0\t0.0\t0.0\t0.0\t0.0\t0.0\t0.0\t0.0\t0.0\t0.0\t0.0\t0.0\t0.0\t0.0\t0.0\t0.0\t0.0\t1.0\t0.0\t0.0\t0.0\t0.0\t0.0\t0.0\t0.0\t0.0\t0.0\t0.0\t0.0\t0.0\t0.0\t0.0\t0.0\t0.0\t0.0\t0.0\t0.0\t0.0\t0.0\t0.0\t0.0\n",
            "0.0\t0.0\t1.0\t0.0\t0.0\t0.0\t0.0\t0.0\t0.0\t0.0\t0.0\t0.0\t0.0\t0.0\t0.0\t0.0\t0.0\t0.0\t0.0\t0.0\t0.0\t0.0\t0.0\t0.0\t0.0\t0.0\t0.0\t0.0\t0.0\t0.0\t0.0\t0.0\t0.0\t0.0\t0.0\t0.0\t0.0\t0.0\t0.0\t0.0\t0.0\t0.0\t0.0\t0.0\t0.0\t0.0\t0.0\t0.0\t0.0\t0.0\t0.0\t0.0\t0.0\t0.0\t0.0\t0.0\t0.0\t0.0\t0.0\t0.0\t0.0\t0.0\t0.0\t0.0\t0.0\t0.0\t0.0\t0.0\t0.0\t0.0\t0.0\t0.0\t0.0\t0.0\t0.0\t0.0\t0.0\t0.0\t0.0\t0.0\t0.0\t0.0\t0.0\t0.0\t0.0\t0.0\t0.0\t0.0\t0.0\t0.0\t0.0\t0.0\t0.0\t0.0\t0.0\t0.0\t0.0\t0.0\t0.0\t0.0\n",
            "0.0\t0.0\t0.0\t0.0\t0.0\t0.0\t0.0\t0.0\t0.0\t0.0\t0.0\t0.0\t0.0\t0.0\t0.0\t0.0\t0.0\t0.0\t0.0\t0.0\t0.0\t0.0\t0.0\t0.0\t0.0\t0.0\t0.0\t0.0\t0.0\t0.0\t0.0\t0.0\t0.0\t0.0\t0.0\t0.0\t0.0\t0.0\t0.0\t0.0\t0.0\t0.0\t0.0\t0.0\t0.0\t0.0\t0.0\t0.0\t0.0\t0.0\t0.0\t0.0\t0.0\t0.0\t0.0\t0.0\t0.0\t0.0\t0.0\t0.0\t0.0\t0.0\t0.0\t0.0\t0.0\t0.0\t0.0\t0.0\t0.0\t0.0\t0.0\t0.0\t0.0\t0.0\t0.0\t0.0\t0.0\t0.0\t0.0\t0.0\t0.0\t0.0\t0.0\t0.0\t0.0\t0.0\t0.0\t0.0\t0.0\t0.0\t0.0\t0.0\t0.0\t0.0\t0.0\t0.0\t0.0\t0.0\t1.0\t0.0\n",
            "0.0\t0.0\t0.0\t0.0\t0.0\t0.0\t0.0\t0.0\t0.0\t0.0\t0.0\t0.0\t0.0\t0.0\t0.0\t0.0\t0.0\t0.0\t0.0\t0.0\t0.0\t0.0\t0.0\t0.0\t0.0\t0.0\t0.0\t0.0\t0.0\t0.0\t0.0\t0.0\t0.0\t0.0\t0.0\t0.0\t0.0\t0.0\t0.0\t0.0\t0.0\t0.0\t0.0\t0.0\t0.0\t0.0\t0.0\t0.0\t0.0\t0.0\t0.0\t0.0\t0.0\t0.0\t0.0\t0.0\t1.0\t0.0\t0.0\t0.0\t0.0\t0.0\t0.0\t0.0\t0.0\t0.0\t0.0\t0.0\t0.0\t0.0\t0.0\t0.0\t0.0\t0.0\t0.0\t0.0\t0.0\t0.0\t0.0\t0.0\t0.0\t0.0\t0.0\t0.0\t0.0\t0.0\t0.0\t0.0\t0.0\t0.0\t0.0\t0.0\t0.0\t0.0\t0.0\t0.0\t0.0\t0.0\t0.0\t0.0\n",
            "0.0\t0.0\t0.0\t0.0\t0.0\t0.0\t0.0\t0.0\t0.0\t0.0\t0.0\t0.0\t0.0\t0.0\t0.0\t0.0\t0.0\t0.0\t0.0\t0.0\t0.0\t0.0\t0.0\t0.0\t0.0\t0.0\t0.0\t0.0\t0.0\t0.0\t0.0\t0.0\t0.0\t0.0\t1.0\t0.0\t0.0\t0.0\t0.0\t0.0\t0.0\t0.0\t0.0\t0.0\t0.0\t0.0\t0.0\t0.0\t0.0\t0.0\t0.0\t0.0\t0.0\t0.0\t0.0\t0.0\t0.0\t0.0\t0.0\t0.0\t0.0\t0.0\t0.0\t0.0\t0.0\t0.0\t0.0\t0.0\t0.0\t0.0\t0.0\t0.0\t0.0\t0.0\t0.0\t0.0\t0.0\t0.0\t0.0\t0.0\t0.0\t0.0\t0.0\t0.0\t0.0\t0.0\t0.0\t0.0\t0.0\t0.0\t0.0\t0.0\t0.0\t0.0\t0.0\t0.0\t0.0\t0.0\t0.0\t0.0\n",
            "0.0\t0.0\t0.0\t0.0\t0.0\t0.0\t0.0\t0.0\t0.0\t0.0\t0.0\t0.0\t0.0\t0.0\t0.0\t0.0\t0.0\t0.0\t0.0\t0.0\t0.0\t0.0\t0.0\t0.0\t0.0\t0.0\t0.0\t0.0\t0.0\t0.0\t0.0\t0.0\t0.0\t0.0\t0.0\t0.0\t0.0\t0.0\t0.0\t0.0\t0.0\t0.0\t0.0\t0.0\t1.0\t0.0\t0.0\t0.0\t0.0\t0.0\t0.0\t0.0\t0.0\t0.0\t0.0\t0.0\t0.0\t0.0\t0.0\t0.0\t0.0\t0.0\t0.0\t0.0\t0.0\t0.0\t0.0\t0.0\t0.0\t0.0\t0.0\t0.0\t0.0\t0.0\t0.0\t0.0\t0.0\t0.0\t0.0\t0.0\t0.0\t0.0\t0.0\t0.0\t0.0\t0.0\t0.0\t0.0\t0.0\t0.0\t0.0\t0.0\t0.0\t0.0\t0.0\t0.0\t0.0\t0.0\t0.0\t0.0\n",
            "0.0\t0.0\t0.0\t0.0\t0.0\t0.0\t0.0\t1.0\t0.0\t0.0\t0.0\t0.0\t0.0\t0.0\t0.0\t0.0\t0.0\t0.0\t0.0\t0.0\t0.0\t0.0\t0.0\t0.0\t0.0\t0.0\t0.0\t0.0\t0.0\t0.0\t0.0\t0.0\t0.0\t0.0\t0.0\t0.0\t0.0\t0.0\t0.0\t0.0\t0.0\t0.0\t0.0\t0.0\t0.0\t0.0\t0.0\t0.0\t0.0\t0.0\t0.0\t0.0\t0.0\t0.0\t0.0\t0.0\t0.0\t0.0\t0.0\t0.0\t0.0\t0.0\t0.0\t0.0\t0.0\t0.0\t0.0\t0.0\t0.0\t0.0\t0.0\t0.0\t0.0\t0.0\t0.0\t0.0\t0.0\t0.0\t0.0\t0.0\t0.0\t0.0\t0.0\t0.0\t0.0\t0.0\t0.0\t0.0\t0.0\t0.0\t0.0\t0.0\t0.0\t0.0\t0.0\t0.0\t0.0\t0.0\t0.0\t0.0\n",
            "0.0\t0.0\t0.0\t0.0\t0.0\t0.0\t0.0\t0.0\t0.0\t0.0\t0.0\t0.0\t0.0\t0.0\t0.0\t0.0\t0.0\t0.0\t0.0\t0.0\t0.0\t0.0\t0.0\t0.0\t0.0\t0.0\t0.0\t0.0\t0.0\t0.0\t0.0\t0.0\t0.0\t0.0\t0.0\t0.0\t0.0\t0.0\t0.0\t0.0\t0.0\t0.0\t0.0\t0.0\t0.0\t0.0\t0.0\t0.0\t0.0\t0.0\t0.0\t0.0\t0.0\t0.0\t0.0\t0.0\t0.0\t0.0\t0.0\t1.0\t0.0\t0.0\t0.0\t0.0\t0.0\t0.0\t0.0\t0.0\t0.0\t0.0\t0.0\t0.0\t0.0\t0.0\t0.0\t0.0\t0.0\t0.0\t0.0\t0.0\t0.0\t0.0\t0.0\t0.0\t0.0\t0.0\t0.0\t0.0\t0.0\t0.0\t0.0\t0.0\t0.0\t0.0\t0.0\t0.0\t0.0\t0.0\t0.0\t0.0\n",
            "0.0\t0.0\t0.0\t0.0\t0.0\t0.0\t1.0\t0.0\t0.0\t0.0\t0.0\t0.0\t0.0\t0.0\t0.0\t0.0\t0.0\t0.0\t0.0\t0.0\t0.0\t0.0\t0.0\t0.0\t0.0\t0.0\t0.0\t0.0\t0.0\t0.0\t0.0\t0.0\t0.0\t0.0\t0.0\t0.0\t0.0\t0.0\t0.0\t0.0\t0.0\t0.0\t0.0\t0.0\t0.0\t0.0\t0.0\t0.0\t0.0\t0.0\t0.0\t0.0\t0.0\t0.0\t0.0\t0.0\t0.0\t0.0\t0.0\t0.0\t0.0\t0.0\t0.0\t0.0\t0.0\t0.0\t0.0\t0.0\t0.0\t0.0\t0.0\t0.0\t0.0\t0.0\t0.0\t0.0\t0.0\t0.0\t0.0\t0.0\t0.0\t0.0\t0.0\t0.0\t0.0\t0.0\t0.0\t0.0\t0.0\t0.0\t0.0\t0.0\t0.0\t0.0\t0.0\t0.0\t0.0\t0.0\t0.0\t0.0\n",
            "0.0\t0.0\t0.0\t0.0\t1.0\t0.0\t0.0\t0.0\t0.0\t0.0\t0.0\t0.0\t0.0\t0.0\t0.0\t0.0\t0.0\t0.0\t0.0\t0.0\t0.0\t0.0\t0.0\t0.0\t0.0\t0.0\t0.0\t0.0\t0.0\t0.0\t0.0\t0.0\t0.0\t0.0\t0.0\t0.0\t0.0\t0.0\t0.0\t0.0\t0.0\t0.0\t0.0\t0.0\t0.0\t0.0\t0.0\t0.0\t0.0\t0.0\t0.0\t0.0\t0.0\t0.0\t0.0\t0.0\t0.0\t0.0\t0.0\t0.0\t0.0\t0.0\t0.0\t0.0\t0.0\t0.0\t0.0\t0.0\t0.0\t0.0\t0.0\t0.0\t0.0\t0.0\t0.0\t0.0\t0.0\t0.0\t0.0\t0.0\t0.0\t0.0\t0.0\t0.0\t0.0\t0.0\t0.0\t0.0\t0.0\t0.0\t0.0\t0.0\t0.0\t0.0\t0.0\t0.0\t0.0\t0.0\t0.0\t0.0\n"
          ],
          "name": "stdout"
        }
      ]
    },
    {
      "cell_type": "code",
      "metadata": {
        "id": "9MoXQ8ofliIG",
        "colab_type": "code",
        "colab": {
          "base_uri": "https://localhost:8080/",
          "height": 34
        },
        "outputId": "33d749f0-63be-4f22-af28-001d961db2f6"
      },
      "source": [
        "len(all_labels)"
      ],
      "execution_count": 9,
      "outputs": [
        {
          "output_type": "execute_result",
          "data": {
            "text/plain": [
              "10000"
            ]
          },
          "metadata": {
            "tags": []
          },
          "execution_count": 9
        }
      ]
    },
    {
      "cell_type": "code",
      "metadata": {
        "id": "pwrByQTlwObt",
        "colab_type": "code",
        "colab": {}
      },
      "source": [
        "#do calibration and domain adaptation\n",
        "from collections import OrderedDict\n",
        "from importlib import reload\n",
        "import abstention\n",
        "reload(abstention)\n",
        "reload(abstention.calibration)\n",
        "reload(abstention.label_shift)\n",
        "from abstention.calibration import (\n",
        "    TempScaling, NoBiasVectorScaling, VectorScaling, CrossValidatedBCTS, softmax)\n",
        "from abstention.label_shift import (EMImbalanceAdapter, BBSEImbalanceAdapter)\n",
        "\n",
        "calibname_to_calibfactory = OrderedDict([\n",
        "    ('None', abstention.calibration.Softmax()),\n",
        "    ('TS', TempScaling(verbose=False)),\n",
        "    ('VS', VectorScaling(verbose=False)),\n",
        "    ('NBVS', NoBiasVectorScaling(verbose=False)),\n",
        "    ('BCTS', TempScaling(verbose=False,\n",
        "                         bias_positions='all')),\n",
        "    #('CVBCTS', CrossValidatedBCTS(verbose=True,\n",
        "    #                              num_crossvalidation_splits=5,\n",
        "    #                              betas_to_try=[0.0, 1e-7, 1e-6, 1e-5, 1e-4, 1e-3, 1e-2, 1e-1, 1.0, 10]\n",
        "    #                             ))\n",
        "])\n",
        "\n",
        "adaptname_to_adapter = OrderedDict([\n",
        "    ('em', EMImbalanceAdapter()),\n",
        "    ('bbse-hard', BBSEImbalanceAdapter(soft=False)),\n",
        "    ('bbse-soft', BBSEImbalanceAdapter(soft=True))\n",
        "])\n",
        "    \n",
        "adaptncalib_pairs = [\n",
        "    ('bbse-hard', 'None'),\n",
        "    ('bbse-soft', 'None'),\n",
        "    ('bbse-soft', 'TS'),\n",
        "    ('bbse-soft', 'NBVS'),\n",
        "    ('bbse-soft', 'BCTS'),\n",
        "    ('bbse-soft', 'VS'),  \n",
        "    #('bbse-soft', 'CVBCTS'),\n",
        "    ('em', 'None'),\n",
        "    ('em', 'TS'),\n",
        "    ('em', 'NBVS'),\n",
        "    ('em', 'BCTS'),\n",
        "    ('em', 'VS'),\n",
        "    #('em', 'CVBCTS'),\n",
        "]"
      ],
      "execution_count": 0,
      "outputs": []
    },
    {
      "cell_type": "code",
      "metadata": {
        "id": "FoCbaVPgnNSa",
        "colab_type": "code",
        "colab": {
          "base_uri": "https://localhost:8080/",
          "height": 935
        },
        "outputId": "1126c748-db09-44eb-c351-bd9c544c8b30"
      },
      "source": [
        "from collections import defaultdict\n",
        "import numpy as np\n",
        "import sys\n",
        "from importlib import reload\n",
        "import abstention\n",
        "reload(abstention)\n",
        "reload(abstention.calibration)\n",
        "reload(abstention.label_shift)\n",
        "reload(abstention.figure_making_utils)\n",
        "from abstention.calibration import (\n",
        "    TempScaling, #CrossValidatedBCTS,\n",
        "    ConfusionMatrix, softmax)\n",
        "from abstention.label_shift import (EMImbalanceAdapter,\n",
        "     BBSEImbalanceAdapter, ShiftWeightFromImbalanceAdapter)\n",
        "import glob\n",
        "import numpy as np\n",
        "from collections import defaultdict, OrderedDict\n",
        "import scipy\n",
        "\n",
        "import labelshiftexperiments\n",
        "reload(labelshiftexperiments)\n",
        "reload(labelshiftexperiments.cifarandmnist)\n",
        "from labelshiftexperiments import cifarandmnist\n",
        "\n",
        "\n",
        "num_trials = 100\n",
        "numclasses = [10]\n",
        "\n",
        "metric_to_adaptname_to_perfs = defaultdict(lambda: defaultdict(list))\n",
        "alpha_to_samplesize_to_adaptername_to_metric_to_vals = (\n",
        "        defaultdict(\n",
        "            lambda: defaultdict(\n",
        "                     lambda: defaultdict(\n",
        "                              lambda: defaultdict(list)))))\n",
        "alpha_to_samplesize_to_baselineperf = defaultdict(\n",
        "    lambda: defaultdict(list))\n",
        "metric_to_samplesize_to_calibname_to_unshiftedvals = defaultdict(\n",
        "    lambda: defaultdict(lambda: defaultdict(list)))\n",
        "samplesizesseen = set()\n",
        "\n",
        "for alpha in numclasses:\n",
        "    samplesize = 50*alpha\n",
        "    class_subset_indices = np.arange(100)[::int(100/alpha)]\n",
        "    samplesmask = np.max(all_labels[:,class_subset_indices], axis=1)==1\n",
        "    subset_labels = all_labels[samplesmask]\n",
        "    subset_predlogits = all_predlogits[samplesmask]\n",
        "    #for numerical stability?\n",
        "    subset_predlogits = subset_predlogits - np.mean(subset_predlogits, axis=-1)[:,None]\n",
        "    \n",
        "    for trial_num in range(num_trials):\n",
        "        if (trial_num%10==0):\n",
        "            print(\"Done\",trial_num,\"trials\")\n",
        "            sys.stdout.flush()\n",
        "        rng = np.random.RandomState(trial_num*10)\n",
        "        \n",
        "        #sample a split of pseudovalid/pseudotest indices\n",
        "        indices = rng.choice(np.arange(len(subset_labels)),\n",
        "                             size=len(subset_labels),\n",
        "                             replace=False)\n",
        "        pseudovalid_indices = indices[:samplesize]\n",
        "        pseudotest_indices = indices[samplesize:]\n",
        "        assert ((len(pseudovalid_indices)+len(pseudotest_indices))\n",
        "                ==len(subset_labels))\n",
        "        \n",
        "        pseudovalid_preacts = subset_predlogits[pseudovalid_indices][:,class_subset_indices]\n",
        "        pseudotest_preacts = subset_predlogits[pseudotest_indices][:,class_subset_indices]\n",
        "        pseudovalid_labels = subset_labels[pseudovalid_indices][:,class_subset_indices]\n",
        "        pseudotest_labels = subset_labels[pseudotest_indices][:,class_subset_indices]\n",
        "                \n",
        "        draw_test_indices = cifarandmnist.get_func_to_draw_label_proportions(\n",
        "                              test_labels=pseudotest_labels)\n",
        "        \n",
        "        #perform calibration\n",
        "        (calibname_to_calibfunc,\n",
        "         calibname_to_calibpseudovalidpreds) = (\n",
        "                    cifarandmnist.run_calibmethods(\n",
        "                       valid_preacts=pseudovalid_preacts,\n",
        "                       valid_labels=pseudovalid_labels,\n",
        "                       test_preacts=pseudotest_preacts,\n",
        "                       test_labels=pseudotest_labels,\n",
        "                       calibname_to_calibfactory=\n",
        "                        calibname_to_calibfactory,\n",
        "                       samplesize=samplesize,\n",
        "                       samplesizesseen=samplesizesseen,\n",
        "                       metric_to_samplesize_to_calibname_to_unshiftedvals=\n",
        "                        metric_to_samplesize_to_calibname_to_unshiftedvals))\n",
        "        \n",
        "        #perform the dirichlet shift\n",
        "        altered_class_priors = rng.dirichlet([1.0 for x in range(alpha)])\n",
        "        \n",
        "        \n",
        "        pseudotest_indices = draw_test_indices(\n",
        "                          total_to_return=samplesize,                    \n",
        "                          label_proportions=altered_class_priors,\n",
        "                          rng=rng)\n",
        "        shifted_pseudotest_labels = pseudotest_labels[pseudotest_indices]\n",
        "        shifted_pseudotest_preacts = pseudotest_preacts[pseudotest_indices]\n",
        "        \n",
        "        calibname_to_calibshiftedtestpreds = {}\n",
        "        for (calibname, calibfunc) in calibname_to_calibfunc.items():\n",
        "            calibname_to_calibshiftedtestpreds[calibname] =(\n",
        "                calibfunc(shifted_pseudotest_preacts))\n",
        "        \n",
        "        shifted_pseudotest_baseline_perf = np.mean(\n",
        "            np.argmax(shifted_pseudotest_preacts, axis=-1)\n",
        "            ==np.argmax(shifted_pseudotest_labels, axis=-1))\n",
        "        alpha_to_samplesize_to_baselineperf[alpha][samplesize].append(\n",
        "            shifted_pseudotest_baseline_perf)\n",
        "        true_shifted_priors = np.mean(shifted_pseudotest_labels, axis=0)\n",
        "        \n",
        "        for adapter_name,calib_name in adaptncalib_pairs:\n",
        "            calib_shifted_pseudotest_preds =\\\n",
        "              calibname_to_calibshiftedtestpreds[calib_name]\n",
        "            calib_pseudovalid_preds =\\\n",
        "              calibname_to_calibpseudovalidpreds[calib_name]\n",
        "            imbalance_adapter = adaptname_to_adapter[adapter_name]\n",
        "            imbalance_adapter_func = imbalance_adapter(\n",
        "                valid_labels=pseudovalid_labels,                       \n",
        "                tofit_initial_posterior_probs=calib_shifted_pseudotest_preds, \n",
        "                valid_posterior_probs=calib_pseudovalid_preds)\n",
        "            adapted_shifted_pseudotest_preds = imbalance_adapter_func(        \n",
        "                        calib_shifted_pseudotest_preds)\n",
        "            estim_shifted_priors = np.mean(adapted_shifted_pseudotest_preds,  \n",
        "                                           axis=0)\n",
        "            #compute metrics for quality of shift\n",
        "            adapted_shifted_pseudotest_perf = np.mean(\n",
        "              np.argmax(adapted_shifted_pseudotest_preds, axis=-1)\n",
        "              ==np.argmax(shifted_pseudotest_labels, axis=-1))\n",
        "            delta_from_baseline = (adapted_shifted_pseudotest_perf-\n",
        "                                   shifted_pseudotest_baseline_perf)\n",
        "            \n",
        "            alpha_to_samplesize_to_adaptername_to_metric_to_vals[\n",
        "                alpha][samplesize][adapter_name+\":\"+calib_name][\n",
        "                'jsdiv'].append(\n",
        "                  scipy.spatial.distance.jensenshannon(\n",
        "                      p=true_shifted_priors, q=estim_shifted_priors))\n",
        "            alpha_to_samplesize_to_adaptername_to_metric_to_vals[\n",
        "                alpha][samplesize][adapter_name+\":\"+calib_name][\n",
        "                'delta_perf'].append(delta_from_baseline)\n",
        "        \n",
        "    if (samplesize not in samplesizesseen):\n",
        "        print(\"Calibration stats\")\n",
        "        for metric in ['ece', 'nll', 'jsdiv']:\n",
        "            print(\"Metric\",metric)\n",
        "            for calibname in calibname_to_calibfactory:\n",
        "                print(calibname, np.mean(                     \n",
        "                       metric_to_samplesize_to_calibname_to_unshiftedvals[\n",
        "                        metric][samplesize][calibname]))  \n",
        "        samplesizesseen.add(samplesize)\n",
        "\n",
        "    print(\"On alpha\",alpha,\"sample size\", samplesize)\n",
        "    for metric_name in ['delta_perf', 'jsdiv']: \n",
        "        print(\"Metric\",metric_name)\n",
        "        for adapter_name,calib_name in adaptncalib_pairs:\n",
        "            adaptncalib_name = adapter_name+\":\"+calib_name\n",
        "            n = len(alpha_to_samplesize_to_adaptername_to_metric_to_vals[\n",
        "                  alpha][samplesize][adaptncalib_name][metric_name])\n",
        "\n",
        "            print(adaptncalib_name, np.mean(\n",
        "             alpha_to_samplesize_to_adaptername_to_metric_to_vals[\n",
        "               alpha][samplesize][adaptncalib_name][metric_name]), \"+/-\",\n",
        "             (1.0/np.sqrt(n))*np.std(\n",
        "             alpha_to_samplesize_to_adaptername_to_metric_to_vals[\n",
        "               alpha][samplesize][adaptncalib_name][metric_name],\n",
        "               ddof=1))           \n",
        "            sys.stdout.flush()"
      ],
      "execution_count": 80,
      "outputs": [
        {
          "output_type": "stream",
          "text": [
            "Done 0 trials\n",
            "Done 10 trials\n",
            "Done 20 trials\n",
            "Done 30 trials\n",
            "Done 40 trials\n",
            "Done 50 trials\n",
            "Done 60 trials\n",
            "Done 70 trials\n",
            "Done 80 trials\n",
            "Done 90 trials\n",
            "Calibration stats\n",
            "Metric ece\n",
            "None 5.0839943137380486\n",
            "TS 2.9092844692270527\n",
            "VS 2.90207245863617\n",
            "NBVS 2.788908225565314\n",
            "BCTS 2.7235937287572427\n",
            "Metric nll\n",
            "None 0.3245518987434243\n",
            "TS 0.25892436107776484\n",
            "VS 0.2882067320489178\n",
            "NBVS 0.2682439297585506\n",
            "BCTS 0.26249346994635386\n",
            "Metric jsdiv\n",
            "None 0.02215020125567636\n",
            "TS 0.021858238866416187\n",
            "VS 0.02449678028127781\n",
            "NBVS 0.024725910442326922\n",
            "BCTS 0.02432160942768443\n",
            "On alpha 10 sample size 500\n",
            "Metric delta_perf\n",
            "bbse-hard:None 0.013259999999999996 +/- 0.0011493186387305017\n",
            "bbse-soft:None 0.013959999999999997 +/- 0.0012063736459892406\n",
            "bbse-soft:TS 0.017059999999999992 +/- 0.0015359542817270165\n",
            "bbse-soft:NBVS 0.017799999999999993 +/- 0.0016763355899404528\n",
            "bbse-soft:BCTS 0.01787999999999999 +/- 0.001662375080747695\n",
            "bbse-soft:VS 0.016859999999999993 +/- 0.0017403714917490825\n",
            "em:None 0.014619999999999996 +/- 0.0011458118730772726\n",
            "em:TS 0.01893999999999999 +/- 0.0016214359516966877\n",
            "em:NBVS 0.018399999999999986 +/- 0.0016165807537309514\n",
            "em:BCTS 0.018639999999999993 +/- 0.0015455063568261041\n",
            "em:VS 0.017599999999999994 +/- 0.0017152907107024801\n",
            "Metric jsdiv\n",
            "bbse-hard:None 0.047235689502104855 +/- 0.002170683218950321\n",
            "bbse-soft:None 0.044953325789070415 +/- 0.0019386049694416034\n",
            "bbse-soft:TS 0.040828242262299135 +/- 0.0016675141591288311\n",
            "bbse-soft:NBVS 0.04346742558197031 +/- 0.0019805176186161798\n",
            "bbse-soft:BCTS 0.04229821905885421 +/- 0.0018543728464781196\n",
            "bbse-soft:VS 0.04337479312435907 +/- 0.0019349807821371662\n",
            "em:None 0.04104245238727655 +/- 0.001818089543293507\n",
            "em:TS 0.035339282409636075 +/- 0.0014347823488716047\n",
            "em:NBVS 0.03839059912122165 +/- 0.001789521699430374\n",
            "em:BCTS 0.03766234244913559 +/- 0.0017385783524104326\n",
            "em:VS 0.03890572905873063 +/- 0.001698711730061332\n"
          ],
          "name": "stdout"
        }
      ]
    },
    {
      "cell_type": "code",
      "metadata": {
        "id": "HDoDQrwEz8TZ",
        "colab_type": "code",
        "colab": {
          "base_uri": "https://localhost:8080/",
          "height": 34
        },
        "outputId": "494759cd-9594-4d69-edb6-ea9fa438361e"
      },
      "source": [
        "import json\n",
        "import os\n",
        "file_out = \"label_shift_adaptation_results.json\"\n",
        "dict_to_write = {\n",
        "    \"alpha_to_samplesize_to_adaptername_to_metric_to_vals\":\n",
        "     alpha_to_samplesize_to_adaptername_to_metric_to_vals,\n",
        "    \"alpha_to_samplesize_to_baselineperf\":\n",
        "     alpha_to_samplesize_to_baselineperf,\n",
        "    \"metric_to_samplesize_to_calibname_to_unshiftedvals\":\n",
        "     metric_to_samplesize_to_calibname_to_unshiftedvals\n",
        "}\n",
        "open(file_out, 'w').write(\n",
        "    json.dumps(dict_to_write,\n",
        "               sort_keys=True, indent=4, separators=(',', ': ')))\n",
        "os.system(\"gzip -f \"+file_out)"
      ],
      "execution_count": 71,
      "outputs": [
        {
          "output_type": "execute_result",
          "data": {
            "text/plain": [
              "0"
            ]
          },
          "metadata": {
            "tags": []
          },
          "execution_count": 71
        }
      ]
    },
    {
      "cell_type": "code",
      "metadata": {
        "id": "lxnkZg-n1hxj",
        "colab_type": "code",
        "colab": {}
      },
      "source": [
        "import gzip\n",
        "import json\n",
        "loaded_dicts = json.loads(gzip.open(\"label_shift_adaptation_results.json.gz\").read())\n",
        "alpha_to_samplesize_to_adaptername_to_metric_to_vals =\\\n",
        "    loaded_dicts['alpha_to_samplesize_to_adaptername_to_metric_to_vals']\n",
        "alpha_to_samplesize_to_baselineperf =\\\n",
        "    loaded_dicts['alpha_to_samplesize_to_baselineperf']\n",
        "metric_to_samplesize_to_calibname_to_unshiftedvals =\\\n",
        "    loaded_dicts['metric_to_samplesize_to_calibname_to_unshiftedvals']"
      ],
      "execution_count": 0,
      "outputs": []
    },
    {
      "cell_type": "code",
      "metadata": {
        "id": "DvGAAv8k1rTL",
        "colab_type": "code",
        "colab": {
          "base_uri": "https://localhost:8080/",
          "height": 360
        },
        "outputId": "8d08b2e7-2ef6-488f-f21e-5ec76540738f"
      },
      "source": [
        "from importlib import reload\n",
        "import labelshiftexperiments\n",
        "reload(labelshiftexperiments)\n",
        "import labelshiftexperiments.maketable\n",
        "reload (labelshiftexperiments.maketable)\n",
        "from labelshiftexperiments.maketable import render_calibration_table\n",
        "\n",
        "metricname_to_nicename = {'nll': 'nll', 'jsdiv': 'jsdiv', 'ece': 'ECE'}\n",
        "calibname_to_nicename = {'None': \"None\", \"TS\": \"TS\",\n",
        "                         \"VS\":\"VS\", \"NBVS\": \"NBVS\", \"BCTS\": \"BCTS\"}\n",
        "  \n",
        "from scipy.stats import norm\n",
        "N = num_trials\n",
        "#Using the normal approximation at N=100;\n",
        "# variance from https://en.wikipedia.org/wiki/Wilcoxon_signed-rank_test\n",
        "#Note that T = ((N+1)*N/2 - W)/2            \n",
        "ustat_threshold = ((N*(N+1))/2 - norm.ppf(0.99)*np.sqrt(N*(N+1)*(2*N+1)/6.0))/2.0\n",
        "  \n",
        "print(render_calibration_table(\n",
        "        metric_to_samplesize_to_calibname_to_unshiftedvals=\n",
        "          metric_to_samplesize_to_calibname_to_unshiftedvals,\n",
        "        #threshold of 8 comes from table https://www.oreilly.com/library/view/nonparametric-statistics-a/9781118840429/bapp02.xhtml\n",
        "        #for one-tailed alpha=0.025 and n=10            \n",
        "        ustat_threshold=ustat_threshold,\n",
        "        metrics_in_table=['nll', 'jsdiv', 'ece'],\n",
        "        samplesizes_in_table=['5000'],\n",
        "        calibnames_in_table=['None', 'TS', 'NBVS', 'BCTS', 'VS'],\n",
        "        metricname_to_nicename=metricname_to_nicename,\n",
        "        calibname_to_nicename=calibname_to_nicename,\n",
        "        caption=\"KaggleDR Calibration metric differences\", label=\"kaggledrcalibrationcomparison\",\n",
        "        applyunderline=False))"
      ],
      "execution_count": 74,
      "outputs": [
        {
          "output_type": "stream",
          "text": [
            "\n",
            "\\begin{table*}\n",
            "\\adjustbox{max width=\\textwidth}{\n",
            "  \\centering\n",
            "  \\begin{tabular}{ c | c | c | c }\n",
            "    \\multirow{2}{*}{\\begin{tabular}{c}\\textbf{Calibration} \\\\ \\textbf{Method} \\end{tabular}} & \\multicolumn{1}{| c}{nll} & \\multicolumn{1}{| c}{jsdiv} & \\multicolumn{1}{| c}{ECE}\\\\\n",
            "    \\cline{2-4}\n",
            "    & $n$=5000 & $n$=5000 & $n$=5000\\\\\n",
            "    \\hline\n",
            "    None & 1.517; 4.0 & 0.055; 4.0 & 18.035; 4.0\\\\\n",
            "    TS & 1.111; 2.8 & 0.051; 3.0 & 3.632; 2.6\\\\\n",
            "    NBVS & \\textbf{1.099; 0.8} & \\textbf{0.042; 0.6} & \\textbf{2.936; 0.1}\\\\\n",
            "    BCTS & \\textbf{1.096; 0.2} & \\textbf{0.043; 1.1} & 3.46; 2.1\\\\\n",
            "    VS & 1.105; 2.2 & \\textbf{0.043; 1.3} & 3.082; 1.2\\\\\n",
            "  \\end{tabular}}\n",
            "  \\caption{KaggleDR Calibration metric differences}\n",
            "  \\label{tab:kaggledrcalibrationcomparison}\n",
            "\\end{table*}\n",
            "\n"
          ],
          "name": "stdout"
        }
      ]
    },
    {
      "cell_type": "code",
      "metadata": {
        "id": "VonA65ef1uOr",
        "colab_type": "code",
        "colab": {
          "base_uri": "https://localhost:8080/",
          "height": 989
        },
        "outputId": "b5fb7d03-9abe-4050-f5b0-7815ce29cb21"
      },
      "source": [
        "from labelshiftexperiments.maketable import render_adaptation_table\n",
        "    \n",
        "methodgroups = OrderedDict([\n",
        "  ('em', ['em:None', 'em:TS', 'em:NBVS', 'em:BCTS', 'em:VS']),\n",
        "  ('bbse', ['bbse-hard:None', 'bbse-soft:None',\n",
        "           'bbse-soft:TS', 'bbse-soft:NBVS', 'bbse-soft:BCTS', 'bbse-soft:VS'])])\n",
        "metric_to_largerisbetter = {'perf':True}\n",
        "samplesizes_in_table = ['5000']\n",
        "adaptname_to_nicename = {'em': 'EM',\n",
        "                           'bbse-soft': 'BBSE-soft',\n",
        "                           'bbse-hard': 'BBSE-hard'}\n",
        "calibname_to_nicename = {'None': 'None',\n",
        "                           'TS': 'TS',\n",
        "                           'NBVS': 'NBVS',\n",
        "                           'BCTS': 'BCTS',\n",
        "                           'VS': 'VS'}\n",
        "\n",
        "alphas_in_table = ['100']\n",
        "\n",
        "print(render_adaptation_table(\n",
        "    alpha_to_samplesize_to_adaptncalib_to_metric_to_vals=alpha_to_samplesize_to_adaptername_to_metric_to_vals,\n",
        "    ustat_threshold=ustat_threshold,\n",
        "    valmultiplier=1.0,\n",
        "    adaptname_to_nicename=adaptname_to_nicename,\n",
        "    calibname_to_nicename=calibname_to_nicename,\n",
        "    methodgroups=methodgroups,\n",
        "    metric='jsdiv',\n",
        "    largerisbetter=False,\n",
        "    alphas_in_table=alphas_in_table,\n",
        "    samplesizes_in_table=samplesizes_in_table,\n",
        "    caption=\"KaggleDR Metric: JS Divergence, tweakone shift\",\n",
        "    label=\"kaggledrjsdivtweakoneshift\",\n",
        "    applyunderline=False))\n",
        "\n",
        "print(render_adaptation_table(\n",
        "    alpha_to_samplesize_to_adaptncalib_to_metric_to_vals=alpha_to_samplesize_to_adaptername_to_metric_to_vals,\n",
        "    ustat_threshold=ustat_threshold,\n",
        "    valmultiplier=100,\n",
        "    adaptname_to_nicename=adaptname_to_nicename,\n",
        "    calibname_to_nicename=calibname_to_nicename,\n",
        "    methodgroups=methodgroups,\n",
        "    metric='delta_perf',\n",
        "    largerisbetter=True,\n",
        "    alphas_in_table=alphas_in_table,\n",
        "    samplesizes_in_table=samplesizes_in_table,\n",
        "    caption=\"KaggleDR Metric: $\\\\Delta$\\\\%Accuracy, tweakone shift\",\n",
        "    label=\"kaggledrdeltaacctweakoneshift\",\n",
        "    applyunderline=False))"
      ],
      "execution_count": 76,
      "outputs": [
        {
          "output_type": "stream",
          "text": [
            "\n",
            "\\begin{table*}\n",
            "\\adjustbox{max width=\\textwidth}{\n",
            "  \\centering\n",
            "  \\begin{tabular}{ c | c | c}\n",
            "    \\multirow{2}{*}{\\begin{tabular}{c}\\textbf{Shift} \\\\ \\textbf{Estimator} \\end{tabular}} & \\multirow{2}{*}{\\begin{tabular}{c}\\textbf{Calibration} \\\\ \\textbf{Method} \\end{tabular}} & \\multicolumn{1}{| c}{$\\alpha=100$}\\\\ \n",
            "    \\cline{3-3}\n",
            "    & & $n$=5000\\\\\n",
            "    \\hline\n",
            "    \\hline\n",
            "    EM & None & 0.119; 4.0\\\\\n",
            "    EM & TS & 0.097; 2.8\\\\\n",
            "    EM & NBVS & \\textbf{0.091; 0.9}\\\\\n",
            "    EM & BCTS & \\textbf{0.09; 0.8}\\\\\n",
            "    EM & VS & \\textbf{0.092; 1.5}\\\\\n",
            "    \\hline\n",
            "    \\hline\n",
            "    BBSE-hard & None & 0.135; 4.9\\\\\n",
            "    BBSE-soft & None & 0.126; 4.1\\\\\n",
            "    BBSE-soft & TS & \\textbf{0.111; 2.3}\\\\\n",
            "    BBSE-soft & NBVS & \\textbf{0.105; 0.9}\\\\\n",
            "    BBSE-soft & BCTS & \\textbf{0.106; 1.2}\\\\\n",
            "    BBSE-soft & VS & \\textbf{0.106; 1.6}\\\\\n",
            "  \\end{tabular}}\n",
            "  \\caption{KaggleDR Metric: JS Divergence, tweakone shift}\n",
            "  \\label{tab:kaggledrjsdivtweakoneshift}\n",
            "\\end{table*}\n",
            "\n",
            "\n",
            "\\begin{table*}\n",
            "\\adjustbox{max width=\\textwidth}{\n",
            "  \\centering\n",
            "  \\begin{tabular}{ c | c | c}\n",
            "    \\multirow{2}{*}{\\begin{tabular}{c}\\textbf{Shift} \\\\ \\textbf{Estimator} \\end{tabular}} & \\multirow{2}{*}{\\begin{tabular}{c}\\textbf{Calibration} \\\\ \\textbf{Method} \\end{tabular}} & \\multicolumn{1}{| c}{$\\alpha=100$}\\\\ \n",
            "    \\cline{3-3}\n",
            "    & & $n$=5000\\\\\n",
            "    \\hline\n",
            "    \\hline\n",
            "    EM & None & 1.752; 3.9\\\\\n",
            "    EM & TS & 2.828; 3.1\\\\\n",
            "    EM & NBVS & \\textbf{3.526; 0.7}\\\\\n",
            "    EM & BCTS & \\textbf{3.488; 1.1}\\\\\n",
            "    EM & VS & \\textbf{3.478; 1.2}\\\\\n",
            "    \\hline\n",
            "    \\hline\n",
            "    BBSE-hard & None & 1.574; 4.6\\\\\n",
            "    BBSE-soft & None & 1.862; 4.2\\\\\n",
            "    BBSE-soft & TS & 2.548; 2.9\\\\\n",
            "    BBSE-soft & NBVS & \\textbf{3.158; 1.4}\\\\\n",
            "    BBSE-soft & BCTS & \\textbf{3.266; 1.0}\\\\\n",
            "    BBSE-soft & VS & \\textbf{3.248; 0.9}\\\\\n",
            "  \\end{tabular}}\n",
            "  \\caption{KaggleDR Metric: $\\Delta$\\%Accuracy, tweakone shift}\n",
            "  \\label{tab:kaggledrdeltaacctweakoneshift}\n",
            "\\end{table*}\n",
            "\n"
          ],
          "name": "stdout"
        }
      ]
    },
    {
      "cell_type": "code",
      "metadata": {
        "id": "HkEN85En2KxK",
        "colab_type": "code",
        "colab": {}
      },
      "source": [
        ""
      ],
      "execution_count": 0,
      "outputs": []
    }
  ]
}