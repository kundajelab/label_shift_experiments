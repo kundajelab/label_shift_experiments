{
  "nbformat": 4,
  "nbformat_minor": 0,
  "metadata": {
    "colab": {
      "name": "KaggleOnlyDiabeticRetinopathyDomainAdaptation.ipynb",
      "provenance": [],
      "collapsed_sections": [],
      "include_colab_link": true
    },
    "kernelspec": {
      "name": "python3",
      "display_name": "Python 3"
    }
  },
  "cells": [
    {
      "cell_type": "markdown",
      "metadata": {
        "id": "view-in-github",
        "colab_type": "text"
      },
      "source": [
        "<a href=\"https://colab.research.google.com/github/kundajelab/label_shift_experiments/blob/master/diabetic_retinopathy/KaggleOnlyDiabeticRetinopathyDomainAdaptation.ipynb\" target=\"_parent\"><img src=\"https://colab.research.google.com/assets/colab-badge.svg\" alt=\"Open In Colab\"/></a>"
      ]
    },
    {
      "cell_type": "code",
      "metadata": {
        "id": "E_HP7qGd0xEM",
        "colab_type": "code",
        "outputId": "4bd3150d-1adf-4f25-bd61-cfb7f0427c97",
        "colab": {
          "base_uri": "https://localhost:8080/",
          "height": 204
        }
      },
      "source": [
        "!wget https://zenodo.org/record/3412990/files/kaggle_dr.txt.gz?download=1 -O kaggle_dr.txt.gz"
      ],
      "execution_count": 0,
      "outputs": [
        {
          "output_type": "stream",
          "text": [
            "--2019-09-22 03:34:49--  https://zenodo.org/record/3412990/files/kaggle_dr.txt.gz?download=1\n",
            "Resolving zenodo.org (zenodo.org)... 188.184.65.20\n",
            "Connecting to zenodo.org (zenodo.org)|188.184.65.20|:443... connected.\n",
            "HTTP request sent, awaiting response... 200 OK\n",
            "Length: 106643 (104K) [application/octet-stream]\n",
            "Saving to: ‘kaggle_dr.txt.gz’\n",
            "\n",
            "\rkaggle_dr.txt.gz      0%[                    ]       0  --.-KB/s               \rkaggle_dr.txt.gz    100%[===================>] 104.14K  --.-KB/s    in 0.06s   \n",
            "\n",
            "2019-09-22 03:34:50 (1.70 MB/s) - ‘kaggle_dr.txt.gz’ saved [106643/106643]\n",
            "\n"
          ],
          "name": "stdout"
        }
      ]
    },
    {
      "cell_type": "code",
      "metadata": {
        "id": "MJQTCzqU1sjV",
        "colab_type": "code",
        "colab": {}
      },
      "source": [
        "import gzip\n",
        "import numpy as np\n",
        "\n",
        "orig_kaggle_onehot_labels = [] #5 classes\n",
        "orig_kaggle_predlogits = []\n",
        "for row in gzip.open(\"kaggle_dr.txt.gz\"):\n",
        "    _, kaggle_label, logits = row.decode(\"utf-8\").rstrip().split(\"\\t\")\n",
        "    kaggle_label = int(kaggle_label)\n",
        "    logits = [float(x) for x in logits.split(\",\")]\n",
        "    labelsvec = np.zeros(5)\n",
        "    labelsvec[kaggle_label] = 1.0\n",
        "    orig_kaggle_onehot_labels.append(labelsvec)\n",
        "    orig_kaggle_predlogits.append(logits)\n",
        "orig_kaggle_onehot_labels = np.array(orig_kaggle_onehot_labels)\n",
        "orig_kaggle_predlogits = np.array(orig_kaggle_predlogits)"
      ],
      "execution_count": 0,
      "outputs": []
    },
    {
      "cell_type": "code",
      "metadata": {
        "id": "NXIVSR4V1u7p",
        "colab_type": "code",
        "outputId": "8744fc53-ef96-4709-ee68-f943c50094f1",
        "colab": {
          "base_uri": "https://localhost:8080/",
          "height": 34
        }
      },
      "source": [
        "from sklearn.metrics import roc_auc_score\n",
        "from scipy.special import softmax\n",
        "\n",
        "print(roc_auc_score(y_true=1-orig_kaggle_onehot_labels[:,0],\n",
        "                    y_score=1-softmax(orig_kaggle_predlogits, axis=-1)[:,0]))"
      ],
      "execution_count": 0,
      "outputs": [
        {
          "output_type": "stream",
          "text": [
            "0.8945151902722942\n"
          ],
          "name": "stdout"
        }
      ]
    },
    {
      "cell_type": "code",
      "metadata": {
        "id": "y9yE4dRYPaYV",
        "colab_type": "code",
        "outputId": "1a015d35-38e0-496a-9796-decf41b6a087",
        "colab": {
          "base_uri": "https://localhost:8080/",
          "height": 394
        }
      },
      "source": [
        "![[ -e abstention ]] || git clone https://github.com/blindauth/abstention\n",
        "%cd /content/abstention\n",
        "!git pull\n",
        "!pip uninstall abstention\n",
        "!pip install .\n",
        "%cd .."
      ],
      "execution_count": 0,
      "outputs": [
        {
          "output_type": "stream",
          "text": [
            "/content/abstention\n",
            "Already up to date.\n",
            "Uninstalling abstention-0.1.3.0:\n",
            "  Would remove:\n",
            "    /usr/local/lib/python3.6/dist-packages/abstention-0.1.3.0.dist-info/*\n",
            "    /usr/local/lib/python3.6/dist-packages/abstention/*\n",
            "Proceed (y/n)? y\n",
            "  Successfully uninstalled abstention-0.1.3.0\n",
            "Processing /content/abstention\n",
            "Requirement already satisfied: numpy>=1.9 in /usr/local/lib/python3.6/dist-packages (from abstention==0.1.3.0) (1.16.5)\n",
            "Requirement already satisfied: scikit-learn>=0.20.0 in /usr/local/lib/python3.6/dist-packages (from abstention==0.1.3.0) (0.21.3)\n",
            "Requirement already satisfied: scipy>=1.1.0 in /usr/local/lib/python3.6/dist-packages (from abstention==0.1.3.0) (1.3.1)\n",
            "Requirement already satisfied: joblib>=0.11 in /usr/local/lib/python3.6/dist-packages (from scikit-learn>=0.20.0->abstention==0.1.3.0) (0.13.2)\n",
            "Building wheels for collected packages: abstention\n",
            "  Building wheel for abstention (setup.py) ... \u001b[?25l\u001b[?25hdone\n",
            "  Created wheel for abstention: filename=abstention-0.1.3.0-cp36-none-any.whl size=45713 sha256=bd982733f1307b42afcf218546d07bf8c72da0d755d29f6d69cbefe0be41be84\n",
            "  Stored in directory: /tmp/pip-ephem-wheel-cache-9e4zkkqk/wheels/60/8e/d2/9e9ca02e7b5f76bfda2e2daa6dcbe42c19095c502ccb653729\n",
            "Successfully built abstention\n",
            "Installing collected packages: abstention\n",
            "Successfully installed abstention-0.1.3.0\n",
            "/content\n"
          ],
          "name": "stdout"
        }
      ]
    },
    {
      "cell_type": "code",
      "metadata": {
        "id": "7RwqE6punH5B",
        "colab_type": "code",
        "outputId": "53da1be9-5842-47fc-fce4-e57d6f5d9d1e",
        "colab": {
          "base_uri": "https://localhost:8080/",
          "height": 581
        }
      },
      "source": [
        "![[ -e label_shift_experiments ]] || git clone https://github.com/blindauth/labelshiftexperiments\n",
        "%cd /content/labelshiftexperiments\n",
        "!git pull\n",
        "!pip uninstall labelshiftexperiments\n",
        "!pip install .\n",
        "%cd .."
      ],
      "execution_count": 0,
      "outputs": [
        {
          "output_type": "stream",
          "text": [
            "fatal: destination path 'labelshiftexperiments' already exists and is not an empty directory.\n",
            "/content/labelshiftexperiments\n",
            "remote: Enumerating objects: 7, done.\u001b[K\n",
            "remote: Counting objects: 100% (7/7), done.\u001b[K\n",
            "remote: Compressing objects: 100% (2/2), done.\u001b[K\n",
            "remote: Total 4 (delta 2), reused 4 (delta 2), pack-reused 0\u001b[K\n",
            "Unpacking objects: 100% (4/4), done.\n",
            "From https://github.com/blindauth/labelshiftexperiments\n",
            "   22144b7..a437953  master     -> origin/master\n",
            "Updating 22144b7..a437953\n",
            "Fast-forward\n",
            " labelshiftexperiments/cifarandmnist.py | 4 \u001b[32m++\u001b[m\u001b[31m--\u001b[m\n",
            " 1 file changed, 2 insertions(+), 2 deletions(-)\n",
            "Uninstalling labelshiftexperiments-0.1.0.0:\n",
            "  Would remove:\n",
            "    /usr/local/lib/python3.6/dist-packages/labelshiftexperiments-0.1.0.0.dist-info/*\n",
            "    /usr/local/lib/python3.6/dist-packages/labelshiftexperiments/*\n",
            "Proceed (y/n)? y\n",
            "  Successfully uninstalled labelshiftexperiments-0.1.0.0\n",
            "Processing /content/labelshiftexperiments\n",
            "Requirement already satisfied: numpy>=1.9 in /usr/local/lib/python3.6/dist-packages (from labelshiftexperiments==0.1.0.0) (1.16.5)\n",
            "Requirement already satisfied: scikit-learn>=0.20.0 in /usr/local/lib/python3.6/dist-packages (from labelshiftexperiments==0.1.0.0) (0.21.3)\n",
            "Requirement already satisfied: scipy>=1.1.0 in /usr/local/lib/python3.6/dist-packages (from labelshiftexperiments==0.1.0.0) (1.3.1)\n",
            "Requirement already satisfied: joblib>=0.11 in /usr/local/lib/python3.6/dist-packages (from scikit-learn>=0.20.0->labelshiftexperiments==0.1.0.0) (0.13.2)\n",
            "Building wheels for collected packages: labelshiftexperiments\n",
            "  Building wheel for labelshiftexperiments (setup.py) ... \u001b[?25l\u001b[?25hdone\n",
            "  Created wheel for labelshiftexperiments: filename=labelshiftexperiments-0.1.0.0-cp36-none-any.whl size=6302 sha256=b83ea0af16730147275a83589bbf6413f64e0234227ed8e78bf1cbca5f266ef9\n",
            "  Stored in directory: /tmp/pip-ephem-wheel-cache-uj5ek2ab/wheels/6d/56/a7/fc736645f87832f3f9af94ef6661744069f41cd66bab35ec1b\n",
            "Successfully built labelshiftexperiments\n",
            "Installing collected packages: labelshiftexperiments\n",
            "Successfully installed labelshiftexperiments-0.1.0.0\n",
            "/content\n"
          ],
          "name": "stdout"
        }
      ]
    },
    {
      "cell_type": "code",
      "metadata": {
        "id": "0wfr8G-HOEN4",
        "colab_type": "code",
        "colab": {}
      },
      "source": [
        "#do calibration and domain adaptation\n",
        "from collections import OrderedDict\n",
        "from importlib import reload\n",
        "import abstention\n",
        "reload(abstention)\n",
        "reload(abstention.calibration)\n",
        "reload(abstention.label_shift)\n",
        "from abstention.calibration import (\n",
        "    TempScaling, CrossValidatedBCTS, softmax)\n",
        "from abstention.label_shift import (EMImbalanceAdapter, BBSEImbalanceAdapter)\n",
        "\n",
        "calibname_to_calibfactory = OrderedDict([\n",
        "    ('None', abstention.calibration.Softmax()),\n",
        "    ('TS', TempScaling(verbose=False)),\n",
        "    ('BCTS', TempScaling(verbose=False,\n",
        "                         bias_positions=[0,1,2,3,4])),\n",
        "    #('CVBCTS', CrossValidatedBCTS(verbose=True,\n",
        "    #                              num_crossvalidation_splits=5,\n",
        "    #                              betas_to_try=[0.0, 1e-7, 1e-6, 1e-5, 1e-4, 1e-3, 1e-2, 1e-1, 1.0, 10]\n",
        "    #                             ))\n",
        "])\n",
        "\n",
        "adaptname_to_adapter = OrderedDict([\n",
        "    ('em', EMImbalanceAdapter()),\n",
        "    ('bbse-hard', BBSEImbalanceAdapter(soft=False)),\n",
        "    ('bbse-soft', BBSEImbalanceAdapter(soft=True))\n",
        "])\n",
        "    \n",
        "adaptncalib_pairs = [\n",
        "    ('bbse-hard', 'None'),\n",
        "    ('bbse-soft', 'None'),\n",
        "    ('bbse-soft', 'TS'),\n",
        "    ('bbse-soft', 'BCTS'),\n",
        "    #('bbse-soft', 'CVBCTS'),\n",
        "    ('em', 'None'),\n",
        "    ('em', 'TS'),\n",
        "    ('em', 'BCTS'),\n",
        "    #('em', 'CVBCTS'),\n",
        "]\n",
        "    "
      ],
      "execution_count": 0,
      "outputs": []
    },
    {
      "cell_type": "code",
      "metadata": {
        "id": "EN5A0SaqGpXb",
        "colab_type": "code",
        "outputId": "8292ed10-e295-4298-8846-26aad59b8b12",
        "colab": {
          "base_uri": "https://localhost:8080/",
          "height": 34
        }
      },
      "source": [
        "len(orig_kaggle_onehot_labels)"
      ],
      "execution_count": 0,
      "outputs": [
        {
          "output_type": "execute_result",
          "data": {
            "text/plain": [
              "3514"
            ]
          },
          "metadata": {
            "tags": []
          },
          "execution_count": 8
        }
      ]
    },
    {
      "cell_type": "code",
      "metadata": {
        "id": "dYpRR9iBHEGh",
        "colab_type": "code",
        "outputId": "38625a07-32c3-4a36-88ed-bdaba147d59c",
        "colab": {
          "base_uri": "https://localhost:8080/",
          "height": 34
        }
      },
      "source": [
        "np.mean(orig_kaggle_onehot_labels, axis=0)"
      ],
      "execution_count": 0,
      "outputs": [
        {
          "output_type": "execute_result",
          "data": {
            "text/plain": [
              "array([0.7310757 , 0.07057484, 0.15253273, 0.02447353, 0.0213432 ])"
            ]
          },
          "metadata": {
            "tags": []
          },
          "execution_count": 9
        }
      ]
    },
    {
      "cell_type": "code",
      "metadata": {
        "id": "OgBYs0-nUm-P",
        "colab_type": "code",
        "outputId": "10e8ff30-1698-4d39-d5e7-05182daef3af",
        "colab": {
          "base_uri": "https://localhost:8080/",
          "height": 1000
        }
      },
      "source": [
        "from collections import defaultdict\n",
        "import numpy as np\n",
        "import sys\n",
        "from importlib import reload\n",
        "import abstention\n",
        "reload(abstention)\n",
        "reload(abstention.calibration)\n",
        "reload(abstention.label_shift)\n",
        "reload(abstention.figure_making_utils)\n",
        "from abstention.calibration import (\n",
        "    TempScaling, #CrossValidatedBCTS,\n",
        "    ConfusionMatrix, softmax)\n",
        "from abstention.label_shift import (EMImbalanceAdapter,\n",
        "     BBSEImbalanceAdapter, ShiftWeightFromImbalanceAdapter)\n",
        "import glob\n",
        "import numpy as np\n",
        "from collections import defaultdict, OrderedDict\n",
        "import scipy\n",
        "\n",
        "import labelshiftexperiments\n",
        "reload(labelshiftexperiments)\n",
        "reload(labelshiftexperiments.cifarandmnist)\n",
        "from labelshiftexperiments import cifarandmnist\n",
        "\n",
        "metric_to_adaptname_to_perfs = defaultdict(lambda: defaultdict(list))\n",
        "\n",
        "num_trials = 100\n",
        "tweakone_alphas_and_samplesize = [(0.5,500), (0.9,500),\n",
        "                                  (0.5,1000), (0.9,1000),\n",
        "                                  (0.5,1500), (0.9,1500)]\n",
        "\n",
        "tweakone_alpha_to_samplesize_to_adaptername_to_metric_to_vals = (\n",
        "        defaultdict(\n",
        "            lambda: defaultdict(\n",
        "                     lambda: defaultdict(\n",
        "                              lambda: defaultdict(list)))))\n",
        "tweakone_alpha_to_samplesize_to_baselineperf = defaultdict(lambda: defaultdict(list))\n",
        "metric_to_samplesize_to_calibname_to_unshiftedvals = defaultdict(\n",
        "    lambda: defaultdict(lambda: defaultdict(list)))\n",
        "samplesizesseen = set()\n",
        "\n",
        "orig_class_priors = np.mean(orig_kaggle_onehot_labels, axis=0)\n",
        "\n",
        "for (alpha, samplesize) in tweakone_alphas_and_samplesize:\n",
        "    for trail_num in range(num_trials):\n",
        "        rng = np.random.RandomState(trail_num*10)\n",
        "        #sample a split of pseudovalid/pseudotest indices\n",
        "        indices = rng.choice(np.arange(len(orig_kaggle_onehot_labels)),\n",
        "                             size=len(orig_kaggle_onehot_labels),\n",
        "                             replace=False)\n",
        "        pseudovalid_indices = indices[:samplesize]\n",
        "        pseudotest_indices = indices[samplesize:]\n",
        "        assert ((len(pseudovalid_indices)+len(pseudotest_indices))\n",
        "                ==len(orig_kaggle_onehot_labels))\n",
        "        \n",
        "        pseudovalid_preacts = orig_kaggle_predlogits[pseudovalid_indices]\n",
        "        pseudotest_preacts = orig_kaggle_predlogits[pseudotest_indices]\n",
        "        pseudovalid_labels = orig_kaggle_onehot_labels[pseudovalid_indices]\n",
        "        pseudotest_labels = orig_kaggle_onehot_labels[pseudotest_indices]\n",
        "        \n",
        "        draw_test_indices = cifarandmnist.get_func_to_draw_label_proportions(\n",
        "                              test_labels=pseudotest_labels)\n",
        "        \n",
        "        #perform calibration\n",
        "        (calibname_to_calibfunc,\n",
        "         calibname_to_calibpseudovalidpreds) = (\n",
        "                    cifarandmnist.run_calibmethods(\n",
        "                       valid_preacts=pseudovalid_preacts,\n",
        "                       valid_labels=pseudovalid_labels,\n",
        "                       test_preacts=pseudotest_preacts,\n",
        "                       test_labels=pseudotest_labels,\n",
        "                       calibname_to_calibfactory=\n",
        "                        calibname_to_calibfactory,\n",
        "                       samplesize=samplesize,\n",
        "                       samplesizesseen=samplesizesseen,\n",
        "                       metric_to_samplesize_to_calibname_to_unshiftedvals=\n",
        "                        metric_to_samplesize_to_calibname_to_unshiftedvals))\n",
        "        \n",
        "        #perform the knockout shift\n",
        "        altered_class_priors = np.zeros(5)\n",
        "        altered_class_priors[0] = alpha\n",
        "        altered_class_priors[1:] = (1-alpha)*orig_class_priors[1:]\n",
        "        \n",
        "        pseudotest_indices = draw_test_indices(\n",
        "                          total_to_return=samplesize,                    \n",
        "                          label_proportions=altered_class_priors,        \n",
        "                          rng=rng)\n",
        "        shifted_pseudotest_labels = pseudotest_labels[pseudotest_indices]\n",
        "        shifted_pseudotest_preacts = pseudotest_preacts[pseudotest_indices]\n",
        "        \n",
        "        calibname_to_calibshiftedtestpreds = {}\n",
        "        for (calibname, calibfunc) in calibname_to_calibfunc.items():\n",
        "            calibname_to_calibshiftedtestpreds[calibname] =(\n",
        "                calibfunc(shifted_pseudotest_preacts))\n",
        "        \n",
        "        shifted_pseudotest_baseline_perf = np.mean(\n",
        "            np.argmax(shifted_pseudotest_preacts, axis=-1)\n",
        "            ==np.argmax(shifted_pseudotest_labels, axis=-1))\n",
        "        tweakone_alpha_to_samplesize_to_baselineperf[alpha][samplesize].append(\n",
        "            shifted_pseudotest_baseline_perf)\n",
        "        true_shifted_priors = np.mean(shifted_pseudotest_labels, axis=0)\n",
        "        \n",
        "        for adapter_name,calib_name in adaptncalib_pairs:\n",
        "            calib_shifted_pseudotest_preds =\\\n",
        "              calibname_to_calibshiftedtestpreds[calib_name]\n",
        "            calib_pseudovalid_preds =\\\n",
        "              calibname_to_calibpseudovalidpreds[calib_name]\n",
        "            imbalance_adapter = adaptname_to_adapter[adapter_name]\n",
        "            imbalance_adapter_func = imbalance_adapter(\n",
        "                valid_labels=pseudovalid_labels,                       \n",
        "                tofit_initial_posterior_probs=calib_shifted_pseudotest_preds, \n",
        "                valid_posterior_probs=calib_pseudovalid_preds)\n",
        "            adapted_shifted_pseudotest_preds = imbalance_adapter_func(        \n",
        "                        calib_shifted_pseudotest_preds)\n",
        "            estim_shifted_priors = np.mean(adapted_shifted_pseudotest_preds,  \n",
        "                                           axis=0)\n",
        "            #compute metrics for quality of shift\n",
        "            adapted_shifted_pseudotest_perf = np.mean(\n",
        "              np.argmax(adapted_shifted_pseudotest_preds, axis=-1)\n",
        "              ==np.argmax(shifted_pseudotest_labels, axis=-1))\n",
        "            delta_from_baseline = (adapted_shifted_pseudotest_perf-\n",
        "                                   shifted_pseudotest_baseline_perf)\n",
        "            \n",
        "            tweakone_alpha_to_samplesize_to_adaptername_to_metric_to_vals[\n",
        "                alpha][samplesize][adapter_name+\":\"+calib_name][\n",
        "                'jsdiv'].append(\n",
        "                  scipy.spatial.distance.jensenshannon(\n",
        "                      p=true_shifted_priors, q=estim_shifted_priors))\n",
        "            tweakone_alpha_to_samplesize_to_adaptername_to_metric_to_vals[\n",
        "                alpha][samplesize][adapter_name+\":\"+calib_name][\n",
        "                'delta_perf'].append(delta_from_baseline)\n",
        "        \n",
        "    if (samplesize not in samplesizesseen):\n",
        "        print(\"Calibration stats\")\n",
        "        for metric in ['ece', 'nll', 'jsdiv']:\n",
        "            print(\"Metric\",metric)\n",
        "            for calibname in calibname_to_calibfactory:\n",
        "                print(calibname, np.mean(                     \n",
        "                       metric_to_samplesize_to_calibname_to_unshiftedvals[\n",
        "                        metric][samplesize][calibname]))  \n",
        "        samplesizesseen.add(samplesize)\n",
        "\n",
        "    print(\"On alpha\",alpha,\"sample size\", samplesize)\n",
        "    for metric_name in ['delta_perf', 'jsdiv']: \n",
        "        print(\"Metric\",metric_name)\n",
        "        for adapter_name,calib_name in adaptncalib_pairs:\n",
        "            adaptncalib_name = adapter_name+\":\"+calib_name\n",
        "            n = len(tweakone_alpha_to_samplesize_to_adaptername_to_metric_to_vals[\n",
        "                  alpha][samplesize][adaptncalib_name][metric_name])\n",
        "\n",
        "            print(adaptncalib_name, np.mean(\n",
        "             tweakone_alpha_to_samplesize_to_adaptername_to_metric_to_vals[\n",
        "               alpha][samplesize][adaptncalib_name][metric_name]), \"+/-\",\n",
        "             (1.0/np.sqrt(n))*np.std(\n",
        "             tweakone_alpha_to_samplesize_to_adaptername_to_metric_to_vals[\n",
        "               alpha][samplesize][adaptncalib_name][metric_name],\n",
        "               ddof=1))           \n",
        "            sys.stdout.flush()"
      ],
      "execution_count": 31,
      "outputs": [
        {
          "output_type": "stream",
          "text": [
            "Calibration stats\n",
            "Metric ece\n",
            "None 8.733662753798031\n",
            "TS 3.649580871054098\n",
            "BCTS 2.2547945348797995\n",
            "Metric nll\n",
            "None 0.6402319025011183\n",
            "TS 0.5711691961104738\n",
            "BCTS 0.5144445766964391\n",
            "Metric jsdiv\n",
            "None 0.07661477273081052\n",
            "TS 0.09092214616308848\n",
            "BCTS 0.02565906567873681\n",
            "On alpha 0.5 sample size 500\n",
            "Metric delta_perf\n",
            "bbse-hard:None -0.026600000000000026 +/- 0.01381732187648474\n",
            "bbse-soft:None 0.003419999999999965 +/- 0.007343645366759433\n",
            "bbse-soft:TS 0.003359999999999972 +/- 0.004355595959408558\n",
            "bbse-soft:BCTS 0.015599999999999961 +/- 0.009696859847862652\n",
            "em:None 0.019259999999999965 +/- 0.0012679913328576093\n",
            "em:TS 0.019019999999999967 +/- 0.0019724352993446964\n",
            "em:BCTS 0.03765999999999996 +/- 0.001676469354014409\n",
            "Metric jsdiv\n",
            "bbse-hard:None 0.2041263856630507 +/- 0.012498901488122827\n",
            "bbse-soft:None 0.1660728470328038 +/- 0.0082909609681407\n",
            "bbse-soft:TS 0.1843171877641111 +/- 0.008061539221192763\n",
            "bbse-soft:BCTS 0.15304000011417032 +/- 0.008238813194105615\n",
            "em:None 0.10749938801258889 +/- 0.003293680351738252\n",
            "em:TS 0.12562109990760395 +/- 0.005017390015896639\n",
            "em:BCTS 0.11087147549099846 +/- 0.004411240695509666\n",
            "On alpha 0.9 sample size 500\n",
            "Metric delta_perf\n",
            "bbse-hard:None -0.017180000000000025 +/- 0.013502595186395717\n",
            "bbse-soft:None 0.011919999999999965 +/- 0.001585775150607053\n",
            "bbse-soft:TS 0.016319999999999973 +/- 0.0017133392288543757\n",
            "bbse-soft:BCTS 0.03281999999999997 +/- 0.000982717321172945\n",
            "em:None 0.012959999999999966 +/- 0.0006753854118541889\n",
            "em:TS 0.01625999999999997 +/- 0.0009655291112371819\n",
            "em:BCTS 0.03547999999999997 +/- 0.0009134770955204074\n",
            "Metric jsdiv\n",
            "bbse-hard:None 0.1509755537186364 +/- 0.011374677107700008\n",
            "bbse-soft:None 0.11456339421287813 +/- 0.00436197347848884\n",
            "bbse-soft:TS 0.13231495315752462 +/- 0.0062818729165698\n",
            "bbse-soft:BCTS 0.0960952694265234 +/- 0.0040863834494584686\n",
            "em:None 0.09770553297892265 +/- 0.0028240075789806984\n",
            "em:TS 0.1331108118569637 +/- 0.004717351588764444\n",
            "em:BCTS 0.07842543208589936 +/- 0.003583183054779022\n",
            "Calibration stats\n",
            "Metric ece\n",
            "None 8.737193339190647\n",
            "TS 3.7288968759684713\n",
            "BCTS 2.0973191490148455\n",
            "Metric nll\n",
            "None 0.6391798955046196\n",
            "TS 0.5697636413242341\n",
            "BCTS 0.5114459279715132\n",
            "Metric jsdiv\n",
            "None 0.07701765689233399\n",
            "TS 0.09129775648630786\n",
            "BCTS 0.020253477330599276\n",
            "On alpha 0.5 sample size 1000\n",
            "Metric delta_perf\n",
            "bbse-hard:None -0.010590000000000033 +/- 0.012957756500851278\n",
            "bbse-soft:None 0.018379999999999962 +/- 0.0025102126756049318\n",
            "bbse-soft:TS 0.015529999999999964 +/- 0.0029884104419736195\n",
            "bbse-soft:BCTS 0.03771999999999995 +/- 0.001789367023121399\n",
            "em:None 0.020759999999999952 +/- 0.000981250490574411\n",
            "em:TS 0.022249999999999957 +/- 0.0015323695917292797\n",
            "em:BCTS 0.043559999999999946 +/- 0.0013758611628336402\n",
            "Metric jsdiv\n",
            "bbse-hard:None 0.18578486953775955 +/- 0.011434505590003738\n",
            "bbse-soft:None 0.1388072479472876 +/- 0.005334172882619942\n",
            "bbse-soft:TS 0.14727957736729855 +/- 0.006359726925021643\n",
            "bbse-soft:BCTS 0.11038104451575331 +/- 0.005317907759910559\n",
            "em:None 0.10221097662630926 +/- 0.002526514862329866\n",
            "em:TS 0.10835483686251583 +/- 0.004204380706362534\n",
            "em:BCTS 0.09533456986471905 +/- 0.003744728450141556\n",
            "On alpha 0.9 sample size 1000\n",
            "Metric delta_perf\n",
            "bbse-hard:None -0.014250000000000035 +/- 0.014515476762978392\n",
            "bbse-soft:None 0.017209999999999958 +/- 0.0009736212733082513\n",
            "bbse-soft:TS 0.021799999999999962 +/- 0.0011428300862598088\n",
            "bbse-soft:BCTS 0.034779999999999964 +/- 0.0006207815211245363\n",
            "em:None 0.013749999999999951 +/- 0.0005069965034844461\n",
            "em:TS 0.01922999999999996 +/- 0.0008446928794574147\n",
            "em:BCTS 0.035669999999999966 +/- 0.0005803264494048023\n",
            "Metric jsdiv\n",
            "bbse-hard:None 0.13686551151872656 +/- 0.01153403152846317\n",
            "bbse-soft:None 0.09871741589037945 +/- 0.0033564595369917263\n",
            "bbse-soft:TS 0.11199389483608214 +/- 0.004923381574899571\n",
            "bbse-soft:BCTS 0.07598195806897387 +/- 0.002814607906008064\n",
            "em:None 0.08736516223114882 +/- 0.00223761069826118\n",
            "em:TS 0.12195131748377161 +/- 0.003984246267045392\n",
            "em:BCTS 0.06519607512644515 +/- 0.0030643239105783648\n",
            "Calibration stats\n",
            "Metric ece\n",
            "None 8.76695532413987\n",
            "TS 3.853455539570948\n",
            "BCTS 2.171242051016026\n",
            "Metric nll\n",
            "None 0.6389320684675337\n",
            "TS 0.5694843449772603\n",
            "BCTS 0.5105320711272744\n",
            "Metric jsdiv\n",
            "None 0.07714875337332408\n",
            "TS 0.09140717290480742\n",
            "BCTS 0.01838872835961184\n",
            "On alpha 0.5 sample size 1500\n",
            "Metric delta_perf\n",
            "bbse-hard:None 0.013133333333333339 +/- 0.0036221478581943307\n",
            "bbse-soft:None 0.02332666666666667 +/- 0.001901467210685182\n",
            "bbse-soft:TS 0.022479999999999993 +/- 0.002133187705467209\n",
            "bbse-soft:BCTS 0.04204000000000001 +/- 0.001367141085431474\n",
            "em:None 0.02196 +/- 0.0009928507629477711\n",
            "em:TS 0.024946666666666662 +/- 0.0014916506874226416\n",
            "em:BCTS 0.0458 +/- 0.0010983305360090677\n",
            "Metric jsdiv\n",
            "bbse-hard:None 0.15261571376285007 +/- 0.006657472650516443\n",
            "bbse-soft:None 0.11969008513089556 +/- 0.004451577840329862\n",
            "bbse-soft:TS 0.1311728842370786 +/- 0.004476749902358491\n",
            "bbse-soft:BCTS 0.09165683584844812 +/- 0.004132068867345442\n",
            "em:None 0.09543721918764536 +/- 0.0023911985506458507\n",
            "em:TS 0.1009666528896788 +/- 0.0036193270010677786\n",
            "em:BCTS 0.08198847781700579 +/- 0.003172513287102142\n",
            "On alpha 0.9 sample size 1500\n",
            "Metric delta_perf\n",
            "bbse-hard:None 0.011513333333333335 +/- 0.0022577733039007616\n",
            "bbse-soft:None 0.019053333333333332 +/- 0.0009739677836286871\n",
            "bbse-soft:TS 0.023506666666666672 +/- 0.0010718150166209171\n",
            "bbse-soft:BCTS 0.036400000000000016 +/- 0.0006851314930277947\n",
            "em:None 0.014773333333333334 +/- 0.0004626299677854358\n",
            "em:TS 0.019726666666666667 +/- 0.0007610669455592567\n",
            "em:BCTS 0.03722000000000001 +/- 0.0006478180592843206\n",
            "Metric jsdiv\n",
            "bbse-hard:None 0.1140924076701535 +/- 0.005449491551677524\n",
            "bbse-soft:None 0.09458205098110639 +/- 0.0035056090286395636\n",
            "bbse-soft:TS 0.10850732410432705 +/- 0.004718830095795939\n",
            "bbse-soft:BCTS 0.07436171708274944 +/- 0.0030108080728177273\n",
            "em:None 0.08714494036915138 +/- 0.0023463575902481857\n",
            "em:TS 0.12273290192190572 +/- 0.003820322241624324\n",
            "em:BCTS 0.06284256408963665 +/- 0.0030876814301370905\n"
          ],
          "name": "stdout"
        }
      ]
    },
    {
      "cell_type": "code",
      "metadata": {
        "id": "LuP7ISkdraJM",
        "colab_type": "code",
        "outputId": "e3109526-1180-4bcd-d415-f96efaace520",
        "colab": {
          "base_uri": "https://localhost:8080/",
          "height": 34
        }
      },
      "source": [
        "import json\n",
        "import os\n",
        "file_out = \"label_shift_adaptation_results.json\"\n",
        "dict_to_write = {\n",
        "    \"tweakone_alpha_to_samplesize_to_adaptername_to_metric_to_vals\":\n",
        "     tweakone_alpha_to_samplesize_to_adaptername_to_metric_to_vals,\n",
        "    \"tweakone_alpha_to_samplesize_to_baselineperf\":\n",
        "     tweakone_alpha_to_samplesize_to_baselineperf,\n",
        "    \"metric_to_samplesize_to_calibname_to_unshiftedvals\":\n",
        "     metric_to_samplesize_to_calibname_to_unshiftedvals\n",
        "}\n",
        "open(file_out, 'w').write(\n",
        "    json.dumps(dict_to_write,\n",
        "               sort_keys=True, indent=4, separators=(',', ': ')))\n",
        "os.system(\"gzip -f \"+file_out)"
      ],
      "execution_count": 32,
      "outputs": [
        {
          "output_type": "execute_result",
          "data": {
            "text/plain": [
              "0"
            ]
          },
          "metadata": {
            "tags": []
          },
          "execution_count": 32
        }
      ]
    },
    {
      "cell_type": "code",
      "metadata": {
        "id": "5l3Lsc2PEd-M",
        "colab_type": "code",
        "colab": {}
      },
      "source": [
        "import gzip\n",
        "import json\n",
        "loaded_dicts = json.loads(gzip.open(\"label_shift_adaptation_results.json.gz\").read())\n",
        "tweakone_alpha_to_samplesize_to_adaptername_to_metric_to_vals =\\\n",
        "    loaded_dicts['tweakone_alpha_to_samplesize_to_adaptername_to_metric_to_vals']\n",
        "tweakone_alpha_to_samplesize_to_baselineperf =\\\n",
        "    loaded_dicts['tweakone_alpha_to_samplesize_to_baselineperf']\n",
        "metric_to_samplesize_to_calibname_to_unshiftedvals =\\\n",
        "    loaded_dicts['metric_to_samplesize_to_calibname_to_unshiftedvals']"
      ],
      "execution_count": 0,
      "outputs": []
    },
    {
      "cell_type": "code",
      "metadata": {
        "id": "n_IvEDZzE8U8",
        "colab_type": "code",
        "outputId": "c47ab1d4-6af7-4cd0-86b7-1a0517cdf164",
        "colab": {
          "base_uri": "https://localhost:8080/",
          "height": 326
        }
      },
      "source": [
        "from importlib import reload\n",
        "import labelshiftexperiments\n",
        "reload(labelshiftexperiments)\n",
        "import labelshiftexperiments.maketable\n",
        "reload (labelshiftexperiments.maketable)\n",
        "from labelshiftexperiments.maketable import render_calibration_table\n",
        "\n",
        "metricname_to_nicename = {'nll': 'nll', 'jsdiv': 'jsdiv', 'ece': 'ECE'}\n",
        "calibname_to_nicename = {'None': \"None\", \"TS\": \"TS\", \"BCTS\": \"BCTS\"}\n",
        "  \n",
        "from scipy.stats import norm\n",
        "N = num_trials\n",
        "#Using the normal approximation at N=100;\n",
        "# variance from https://en.wikipedia.org/wiki/Wilcoxon_signed-rank_test\n",
        "#Note that T = ((N+1)*N/2 - W)/2            \n",
        "ustat_threshold = ((N*(N+1))/2 - norm.ppf(0.99)*np.sqrt(N*(N+1)*(2*N+1)/6.0))/2.0\n",
        "  \n",
        "print(render_calibration_table(\n",
        "        metric_to_samplesize_to_calibname_to_unshiftedvals=\n",
        "          metric_to_samplesize_to_calibname_to_unshiftedvals,\n",
        "        #threshold of 8 comes from table https://www.oreilly.com/library/view/nonparametric-statistics-a/9781118840429/bapp02.xhtml\n",
        "        #for one-tailed alpha=0.025 and n=10            \n",
        "        ustat_threshold=ustat_threshold,\n",
        "        metrics_in_table=['nll', 'jsdiv', 'ece'],\n",
        "        samplesizes_in_table=['500', '1000', '1500'],\n",
        "        calibnames_in_table=['None', 'TS', 'BCTS'],\n",
        "        metricname_to_nicename=metricname_to_nicename,\n",
        "        calibname_to_nicename=calibname_to_nicename,\n",
        "        caption=\"KaggleDR Calibration metric differences\", label=\"kaggledrcalibrationcomparison\",\n",
        "        applyunderline=False))"
      ],
      "execution_count": 34,
      "outputs": [
        {
          "output_type": "stream",
          "text": [
            "\n",
            "\\begin{table*}\n",
            "\\adjustbox{max width=\\textwidth}{\n",
            "  \\centering\n",
            "  \\begin{tabular}{ c | c c c | c c c | c c c }\n",
            "    \\multirow{2}{*}{\\begin{tabular}{c}\\textbf{Calibration} \\\\ \\textbf{Method} \\end{tabular}} & \\multicolumn{3}{| c}{nll} & \\multicolumn{3}{| c}{jsdiv} & \\multicolumn{3}{| c}{ECE}\\\\\n",
            "    \\cline{2-10}\n",
            "    & $n$=500 & $n$=1000 & $n$=1500 & $n$=500 & $n$=1000 & $n$=1500 & $n$=500 & $n$=1000 & $n$=1500\\\\\n",
            "    \\hline\n",
            "    None & 0.64; 2.0 & 0.639; 2.0 & 0.639; 2.0 & 0.077; 1.0 & 0.077; 1.0 & 0.077; 1.0 & 8.734; 2.0 & 8.737; 2.0 & 8.767; 2.0\\\\\n",
            "    TS & 0.571; 1.0 & 0.57; 1.0 & 0.569; 1.0 & 0.091; 2.0 & 0.091; 2.0 & 0.091; 2.0 & 3.65; 0.91 & 3.729; 0.95 & 3.853; 0.92\\\\\n",
            "    BCTS & \\textbf{0.514; 0.0} & \\textbf{0.511; 0.0} & \\textbf{0.511; 0.0} & \\textbf{0.026; 0.0} & \\textbf{0.02; 0.0} & \\textbf{0.018; 0.0} & \\textbf{2.255; 0.09} & \\textbf{2.097; 0.05} & \\textbf{2.171; 0.08}\\\\\n",
            "  \\end{tabular}}\n",
            "  \\caption{KaggleDR Calibration metric differences}\n",
            "  \\label{tab:kaggledrcalibrationcomparison}\n",
            "\\end{table*}\n",
            "\n"
          ],
          "name": "stdout"
        }
      ]
    },
    {
      "cell_type": "code",
      "metadata": {
        "id": "d1l9R2gCFPVK",
        "colab_type": "code",
        "outputId": "2a664252-f509-4dab-9621-f4ac157878e6",
        "colab": {
          "base_uri": "https://localhost:8080/",
          "height": 853
        }
      },
      "source": [
        "from labelshiftexperiments.maketable import render_adaptation_table\n",
        "    \n",
        "methodgroups = OrderedDict([\n",
        "  ('em', ['em:None', 'em:TS', 'em:BCTS']),\n",
        "  ('bbse', ['bbse-hard:None', 'bbse-soft:None',\n",
        "           'bbse-soft:TS', 'bbse-soft:BCTS'])])\n",
        "metric_to_largerisbetter = {'perf':True}\n",
        "samplesizes_in_table = ['500', '1000', '1500']\n",
        "adaptname_to_nicename = {'em': 'EM',\n",
        "                           'bbse-soft': 'BBSE-soft',\n",
        "                           'bbse-hard': 'BBSE-hard'}\n",
        "calibname_to_nicename = {'None': 'None',\n",
        "                           'TS': 'TS',\n",
        "                           'BCTS': 'BCTS'}\n",
        "\n",
        "tweakone_alphas_in_table = ['0.5', '0.9']\n",
        "\n",
        "print(render_adaptation_table(\n",
        "    alpha_to_samplesize_to_adaptncalib_to_metric_to_vals=tweakone_alpha_to_samplesize_to_adaptername_to_metric_to_vals,\n",
        "    ustat_threshold=ustat_threshold,\n",
        "    valmultiplier=1.0,\n",
        "    adaptname_to_nicename=adaptname_to_nicename,\n",
        "    calibname_to_nicename=calibname_to_nicename,\n",
        "    methodgroups=methodgroups,\n",
        "    metric='jsdiv',\n",
        "    largerisbetter=False,\n",
        "    alphas_in_table=tweakone_alphas_in_table,\n",
        "    samplesizes_in_table=samplesizes_in_table,\n",
        "    caption=\"KaggleDR Metric: JS Divergence, tweakone shift\",\n",
        "    label=\"kaggledrjsdivtweakoneshift\",\n",
        "    applyunderline=False))\n",
        "\n",
        "print(render_adaptation_table(\n",
        "    alpha_to_samplesize_to_adaptncalib_to_metric_to_vals=tweakone_alpha_to_samplesize_to_adaptername_to_metric_to_vals,\n",
        "    ustat_threshold=ustat_threshold,\n",
        "    valmultiplier=100,\n",
        "    adaptname_to_nicename=adaptname_to_nicename,\n",
        "    calibname_to_nicename=calibname_to_nicename,\n",
        "    methodgroups=methodgroups,\n",
        "    metric='delta_perf',\n",
        "    largerisbetter=True,\n",
        "    alphas_in_table=tweakone_alphas_in_table,\n",
        "    samplesizes_in_table=samplesizes_in_table,\n",
        "    caption=\"KaggleDR Metric: $\\\\Delta$\\\\%Accuracy, tweakone shift\",\n",
        "    label=\"kaggledrdeltaacctweakoneshift\",\n",
        "    applyunderline=False))"
      ],
      "execution_count": 35,
      "outputs": [
        {
          "output_type": "stream",
          "text": [
            "\n",
            "\\begin{table*}\n",
            "\\adjustbox{max width=\\textwidth}{\n",
            "  \\centering\n",
            "  \\begin{tabular}{ c | c | c c c | c c c}\n",
            "    \\multirow{2}{*}{\\begin{tabular}{c}\\textbf{Shift} \\\\ \\textbf{Estimator} \\end{tabular}} & \\multirow{2}{*}{\\begin{tabular}{c}\\textbf{Calibration} \\\\ \\textbf{Method} \\end{tabular}} & \\multicolumn{3}{| c}{$\\alpha=0.5$} & \\multicolumn{3}{| c}{$\\alpha=0.9$}\\\\ \n",
            "    \\cline{3-8}\n",
            "    & & $n$=500 & $n$=1000 & $n$=1500 & $n$=500 & $n$=1000 & $n$=1500\\\\\n",
            "    \\hline\n",
            "    \\hline\n",
            "    EM & None & 0.107; 0.78 & 0.102; 1.03 & 0.095; 1.06 & 0.098; 0.85 & 0.087; 0.84 & 0.087; 0.82\\\\\n",
            "    EM & TS & 0.126; 1.19 & 0.108; 1.05 & 0.101; 1.11 & 0.133; 1.88 & 0.122; 1.94 & 0.123; 1.95\\\\\n",
            "    EM & BCTS & 0.111; 1.03 & 0.095; 0.92 & \\textbf{0.082; 0.83} & \\textbf{0.078; 0.27} & \\textbf{0.065; 0.22} & \\textbf{0.063; 0.23}\\\\\n",
            "    \\hline\n",
            "    \\hline\n",
            "    BBSE-hard & None & 0.204; 1.78 & 0.186; 2.26 & 0.153; 2.09 & 0.151; 2.12 & 0.137; 2.27 & 0.114; 2.19\\\\\n",
            "    BBSE-soft & None & 0.166; 1.13 & 0.139; 1.43 & 0.12; 1.31 & 0.115; 1.32 & 0.099; 1.49 & 0.095; 1.45\\\\\n",
            "    BBSE-soft & TS & 0.184; 2.05 & 0.147; 1.8 & 0.131; 1.95 & 0.132; 2.18 & 0.112; 2.1 & 0.109; 2.15\\\\\n",
            "    BBSE-soft & BCTS & 0.153; 1.04 & \\textbf{0.11; 0.51} & \\textbf{0.092; 0.65} & \\textbf{0.096; 0.38} & \\textbf{0.076; 0.14} & \\textbf{0.074; 0.21}\\\\\n",
            "  \\end{tabular}}\n",
            "  \\caption{KaggleDR Metric: JS Divergence, tweakone shift}\n",
            "  \\label{tab:kaggledrjsdivtweakoneshift}\n",
            "\\end{table*}\n",
            "\n",
            "\n",
            "\\begin{table*}\n",
            "\\adjustbox{max width=\\textwidth}{\n",
            "  \\centering\n",
            "  \\begin{tabular}{ c | c | c c c | c c c}\n",
            "    \\multirow{2}{*}{\\begin{tabular}{c}\\textbf{Shift} \\\\ \\textbf{Estimator} \\end{tabular}} & \\multirow{2}{*}{\\begin{tabular}{c}\\textbf{Calibration} \\\\ \\textbf{Method} \\end{tabular}} & \\multicolumn{3}{| c}{$\\alpha=0.5$} & \\multicolumn{3}{| c}{$\\alpha=0.9$}\\\\ \n",
            "    \\cline{3-8}\n",
            "    & & $n$=500 & $n$=1000 & $n$=1500 & $n$=500 & $n$=1000 & $n$=1500\\\\\n",
            "    \\hline\n",
            "    \\hline\n",
            "    EM & None & 1.926; 1.41 & 2.076; 1.62 & 2.196; 1.67 & 1.296; 1.65 & 1.375; 1.89 & 1.477; 1.86\\\\\n",
            "    EM & TS & 1.902; 1.34 & 2.225; 1.29 & 2.495; 1.26 & 1.626; 1.33 & 1.923; 1.11 & 1.973; 1.13\\\\\n",
            "    EM & BCTS & \\textbf{3.766; 0.25} & \\textbf{4.356; 0.09} & \\textbf{4.58; 0.07} & \\textbf{3.548; 0.02} & \\textbf{3.567; 0.0} & \\textbf{3.722; 0.01}\\\\\n",
            "    \\hline\n",
            "    \\hline\n",
            "    BBSE-hard & None & -2.66; 1.81 & -1.059; 1.96 & 1.313; 2.09 & -1.718; 2.38 & -1.425; 2.49 & 1.151; 2.48\\\\\n",
            "    BBSE-soft & None & 0.342; 1.56 & 1.838; 1.68 & 2.333; 1.75 & 1.192; 2.03 & 1.721; 2.11 & 1.905; 2.24\\\\\n",
            "    BBSE-soft & TS & 0.336; 1.91 & 1.553; 1.96 & 2.248; 1.86 & 1.632; 1.47 & 2.18; 1.36 & 2.351; 1.25\\\\\n",
            "    BBSE-soft & BCTS & \\textbf{1.56; 0.72} & \\textbf{3.772; 0.4} & \\textbf{4.204; 0.3} & \\textbf{3.282; 0.12} & \\textbf{3.478; 0.04} & \\textbf{3.64; 0.03}\\\\\n",
            "  \\end{tabular}}\n",
            "  \\caption{KaggleDR Metric: $\\Delta$\\%Accuracy, tweakone shift}\n",
            "  \\label{tab:kaggledrdeltaacctweakoneshift}\n",
            "\\end{table*}\n",
            "\n"
          ],
          "name": "stdout"
        }
      ]
    },
    {
      "cell_type": "code",
      "metadata": {
        "id": "th1Qj44DFx_m",
        "colab_type": "code",
        "colab": {}
      },
      "source": [
        ""
      ],
      "execution_count": 0,
      "outputs": []
    }
  ]
}