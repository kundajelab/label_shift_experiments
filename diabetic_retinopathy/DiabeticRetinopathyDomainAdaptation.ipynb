{
  "nbformat": 4,
  "nbformat_minor": 0,
  "metadata": {
    "colab": {
      "name": "DiabeticRetinopathyDomainAdaptation.ipynb",
      "version": "0.3.2",
      "provenance": [],
      "collapsed_sections": [],
      "include_colab_link": true
    },
    "kernelspec": {
      "name": "python3",
      "display_name": "Python 3"
    }
  },
  "cells": [
    {
      "cell_type": "markdown",
      "metadata": {
        "id": "view-in-github",
        "colab_type": "text"
      },
      "source": [
        "<a href=\"https://colab.research.google.com/github/kundajelab/label_shift_experiments/blob/master/diabetic_retinopathy/DiabeticRetinopathyDomainAdaptation.ipynb\" target=\"_parent\"><img src=\"https://colab.research.google.com/assets/colab-badge.svg\" alt=\"Open In Colab\"/></a>"
      ]
    },
    {
      "cell_type": "code",
      "metadata": {
        "id": "E_HP7qGd0xEM",
        "colab_type": "code",
        "colab": {
          "base_uri": "https://localhost:8080/",
          "height": 391
        },
        "outputId": "3d53c2f6-1944-433d-d500-51cc8bfe715e"
      },
      "source": [
        "!wget https://zenodo.org/record/3412990/files/kaggle_dr.txt.gz?download=1 -O kaggle_dr.txt.gz\n",
        "!wget https://zenodo.org/record/3412990/files/messidor_dr.txt.gz?download=1 -O messidor_dr.txt.gz"
      ],
      "execution_count": 1,
      "outputs": [
        {
          "output_type": "stream",
          "text": [
            "--2019-09-16 20:14:44--  https://zenodo.org/record/3412990/files/kaggle_dr.txt.gz?download=1\n",
            "Resolving zenodo.org (zenodo.org)... 188.184.65.20\n",
            "Connecting to zenodo.org (zenodo.org)|188.184.65.20|:443... connected.\n",
            "HTTP request sent, awaiting response... 200 OK\n",
            "Length: 106643 (104K) [application/octet-stream]\n",
            "Saving to: ‘kaggle_dr.txt.gz’\n",
            "\n",
            "kaggle_dr.txt.gz    100%[===================>] 104.14K   315KB/s    in 0.3s    \n",
            "\n",
            "2019-09-16 20:14:46 (315 KB/s) - ‘kaggle_dr.txt.gz’ saved [106643/106643]\n",
            "\n",
            "--2019-09-16 20:14:46--  https://zenodo.org/record/3412990/files/messidor_dr.txt.gz?download=1\n",
            "Resolving zenodo.org (zenodo.org)... 188.184.65.20\n",
            "Connecting to zenodo.org (zenodo.org)|188.184.65.20|:443... connected.\n",
            "HTTP request sent, awaiting response... 200 OK\n",
            "Length: 38723 (38K) [application/octet-stream]\n",
            "Saving to: ‘messidor_dr.txt.gz’\n",
            "\n",
            "messidor_dr.txt.gz  100%[===================>]  37.82K  --.-KB/s    in 0.1s    \n",
            "\n",
            "2019-09-16 20:14:47 (344 KB/s) - ‘messidor_dr.txt.gz’ saved [38723/38723]\n",
            "\n"
          ],
          "name": "stdout"
        }
      ]
    },
    {
      "cell_type": "code",
      "metadata": {
        "id": "MJQTCzqU1sjV",
        "colab_type": "code",
        "colab": {}
      },
      "source": [
        "import gzip\n",
        "import numpy as np\n",
        "\n",
        "kaggle_onehot_labels = [] #5 classes\n",
        "kaggle_predlogits = []\n",
        "for row in gzip.open(\"kaggle_dr.txt.gz\"):\n",
        "    _, kaggle_label, logits = row.decode(\"utf-8\").rstrip().split(\"\\t\")\n",
        "    kaggle_label = int(kaggle_label)\n",
        "    logits = [float(x) for x in logits.split(\",\")]\n",
        "    labelsvec = np.zeros(5)\n",
        "    labelsvec[kaggle_label] = 1.0\n",
        "    kaggle_onehot_labels.append(labelsvec)\n",
        "    kaggle_predlogits.append(logits)\n",
        "kaggle_onehot_labels = np.array(kaggle_onehot_labels)\n",
        "kaggle_predlogits = np.array(kaggle_predlogits)\n",
        "\n",
        "messidor_onehot_labels = [] #4 classes\n",
        "messidor_predlogits = []\n",
        "for row in gzip.open(\"messidor_dr.txt.gz\"):\n",
        "    _, messidor_label, logits = row.decode(\"utf-8\").rstrip().split(\"\\t\")\n",
        "    messidor_label = int(messidor_label)\n",
        "    logits = [float(x) for x in logits.split(\",\")]\n",
        "    labelsvec = np.zeros(4)\n",
        "    labelsvec[messidor_label] = 1.0\n",
        "    messidor_onehot_labels.append(labelsvec)\n",
        "    messidor_predlogits.append(logits)\n",
        "messidor_onehot_labels = np.array(messidor_onehot_labels)\n",
        "messidor_predlogits = np.array(messidor_predlogits)"
      ],
      "execution_count": 0,
      "outputs": []
    },
    {
      "cell_type": "code",
      "metadata": {
        "id": "NXIVSR4V1u7p",
        "colab_type": "code",
        "colab": {
          "base_uri": "https://localhost:8080/",
          "height": 51
        },
        "outputId": "aa757f55-f531-4533-dcef-150a35745f30"
      },
      "source": [
        "from sklearn.metrics import roc_auc_score\n",
        "from scipy.special import softmax\n",
        "\n",
        "print(roc_auc_score(y_true=1-kaggle_onehot_labels[:,0],\n",
        "                    y_score=1-softmax(kaggle_predlogits, axis=-1)[:,0]))\n",
        "print(roc_auc_score(y_true=1-messidor_onehot_labels[:,0],\n",
        "                    y_score=1-softmax(messidor_predlogits, axis=-1)[:,0]))"
      ],
      "execution_count": 3,
      "outputs": [
        {
          "output_type": "stream",
          "text": [
            "0.8945151902722942\n",
            "0.8920633498604387\n"
          ],
          "name": "stdout"
        }
      ]
    },
    {
      "cell_type": "code",
      "metadata": {
        "id": "y9yE4dRYPaYV",
        "colab_type": "code",
        "colab": {
          "base_uri": "https://localhost:8080/",
          "height": 462
        },
        "outputId": "dfa027d3-afcd-4fc9-a92d-0833d2ab3efa"
      },
      "source": [
        "![[ -e abstention ]] || git clone https://github.com/blindauth/abstention\n",
        "%cd /content/abstention\n",
        "!git checkout iterativebias\n",
        "!git pull\n",
        "!pip uninstall abstention\n",
        "!pip install .\n",
        "%cd .."
      ],
      "execution_count": 4,
      "outputs": [
        {
          "output_type": "stream",
          "text": [
            "Cloning into 'abstention'...\n",
            "remote: Enumerating objects: 56, done.\u001b[K\n",
            "remote: Counting objects: 100% (56/56), done.\u001b[K\n",
            "remote: Compressing objects: 100% (35/35), done.\u001b[K\n",
            "remote: Total 278 (delta 39), reused 38 (delta 21), pack-reused 222\u001b[K\n",
            "Receiving objects: 100% (278/278), 86.26 KiB | 5.75 MiB/s, done.\n",
            "Resolving deltas: 100% (181/181), done.\n",
            "/content/abstention\n",
            "Branch 'iterativebias' set up to track remote branch 'iterativebias' from 'origin'.\n",
            "Switched to a new branch 'iterativebias'\n",
            "Already up to date.\n",
            "\u001b[33mWARNING: Skipping abstention as it is not installed.\u001b[0m\n",
            "Processing /content/abstention\n",
            "Requirement already satisfied: numpy>=1.9 in /usr/local/lib/python3.6/dist-packages (from abstention==0.1.2.1) (1.16.5)\n",
            "Requirement already satisfied: scikit-learn>=0.20.0 in /usr/local/lib/python3.6/dist-packages (from abstention==0.1.2.1) (0.21.3)\n",
            "Requirement already satisfied: scipy>=1.1.0 in /usr/local/lib/python3.6/dist-packages (from abstention==0.1.2.1) (1.3.1)\n",
            "Requirement already satisfied: joblib>=0.11 in /usr/local/lib/python3.6/dist-packages (from scikit-learn>=0.20.0->abstention==0.1.2.1) (0.13.2)\n",
            "Building wheels for collected packages: abstention\n",
            "  Building wheel for abstention (setup.py) ... \u001b[?25l\u001b[?25hdone\n",
            "  Created wheel for abstention: filename=abstention-0.1.2.1-cp36-none-any.whl size=45664 sha256=2ec92924d52d98f7b6b92dba046263f15d6c3686687555ea3be90850dc594e83\n",
            "  Stored in directory: /tmp/pip-ephem-wheel-cache-dbqwk986/wheels/60/8e/d2/9e9ca02e7b5f76bfda2e2daa6dcbe42c19095c502ccb653729\n",
            "Successfully built abstention\n",
            "Installing collected packages: abstention\n",
            "Successfully installed abstention-0.1.2.1\n",
            "/content\n"
          ],
          "name": "stdout"
        }
      ]
    },
    {
      "cell_type": "code",
      "metadata": {
        "id": "0wfr8G-HOEN4",
        "colab_type": "code",
        "colab": {}
      },
      "source": [
        "#do calibration and domain adaptation\n",
        "from collections import OrderedDict\n",
        "from importlib import reload\n",
        "import abstention\n",
        "reload(abstention)\n",
        "reload(abstention.calibration)\n",
        "reload(abstention.label_shift)\n",
        "from abstention.calibration import (\n",
        "    TempScaling, CrossValidatedBCTS, ConfusionMatrix, softmax)\n",
        "from abstention.label_shift import (EMImbalanceAdapter, BBSEImbalanceAdapter)\n",
        "\n",
        "calibname_to_calibfactory = OrderedDict([\n",
        "    ('None', abstention.calibration.Softmax()),\n",
        "    ('TS', TempScaling(verbose=False)),\n",
        "    ('BCTS', TempScaling(verbose=False,\n",
        "                         bias_positions=[0,1,2,3,4])),\n",
        "    #('CVBCTS', CrossValidatedBCTS(verbose=True,\n",
        "    #                              num_crossvalidation_splits=5,\n",
        "    #                              betas_to_try=[0.0, 1e-7, 1e-6, 1e-5, 1e-4, 1e-3, 1e-2, 1e-1, 1.0, 10]\n",
        "    #                             ))\n",
        "])\n",
        "\n",
        "adaptname_to_adapter = OrderedDict([\n",
        "    ('em', EMImbalanceAdapter()),\n",
        "    ('bbse-hard', BBSEImbalanceAdapter(soft=False)),\n",
        "    ('bbse-soft', BBSEImbalanceAdapter(soft=True))\n",
        "])\n",
        "\n",
        "calibname_to_calibfunc = OrderedDict()\n",
        "calibname_to_calibkaggle = OrderedDict()\n",
        "calibname_to_calibmessidor = OrderedDict()\n",
        "for calibname in calibname_to_calibfactory:\n",
        "    calibfactory = calibname_to_calibfactory[calibname]\n",
        "    calibfunc = calibfactory(valid_preacts=kaggle_predlogits,\n",
        "                             valid_labels=kaggle_onehot_labels)\n",
        "    calibname_to_calibfunc[calibname] = calibfunc\n",
        "    calibname_to_calibkaggle[calibname] = calibfunc(kaggle_predlogits)\n",
        "    calibname_to_calibmessidor[calibname] = calibfunc(messidor_predlogits)\n",
        "    \n",
        "adaptncalib_pairs = [\n",
        "    ('bbse-hard', 'None'),\n",
        "    ('bbse-soft', 'None'),\n",
        "    ('bbse-soft', 'TS'),\n",
        "    ('bbse-soft', 'BCTS'),\n",
        "    #('bbse-soft', 'CVBCTS'),\n",
        "    ('em', 'None'),\n",
        "    ('em', 'TS'),\n",
        "    ('em', 'BCTS'),\n",
        "    #('em', 'CVBCTS'),\n",
        "]\n",
        "\n",
        "adaptncalib_to_preds = OrderedDict()\n",
        "for (adaptname, calibname) in adaptncalib_pairs:\n",
        "    calibkaggle_preds = calibname_to_calibkaggle[calibname]\n",
        "    calibmessidor_preds = calibname_to_calibmessidor[calibname]\n",
        "    adapter = adaptname_to_adapter[adaptname]\n",
        "    adapter_func = adapter(valid_labels=kaggle_onehot_labels,\n",
        "                           tofit_initial_posterior_probs=calibmessidor_preds,\n",
        "                           valid_posterior_probs=calibkaggle_preds)\n",
        "    adapted_messidor_preds = adapter_func(calibmessidor_preds)\n",
        "    adaptncalib_to_preds[adaptname+\":\"+calibname] = adapted_messidor_preds\n",
        "    "
      ],
      "execution_count": 0,
      "outputs": []
    },
    {
      "cell_type": "code",
      "metadata": {
        "id": "0P16NZASyVbr",
        "colab_type": "code",
        "colab": {
          "base_uri": "https://localhost:8080/",
          "height": 272
        },
        "outputId": "5f373ca1-aacd-4250-c862-29928bac94ea"
      },
      "source": [
        "def get_diseased_v_not_accuracy(preds, onehot_labels):\n",
        "    return np.mean((np.argmax(preds,axis=-1) > 0.0)\n",
        "                   ==(1-onehot_labels[:,0]))\n",
        "\n",
        "def get_frac_compatible_preds_messidor(kaggletype_preds,\n",
        "                                       messidortype_onehot_labels):\n",
        "    total_compatible_preds = 0\n",
        "    argmax_kaggle_preds = np.argmax(kaggletype_preds, axis=-1)\n",
        "    argmax_messidor_labels = np.argmax(messidortype_onehot_labels, axis=-1)\n",
        "    for the_kaggle_pred, the_messidor_label in zip(argmax_kaggle_preds,\n",
        "                                                   argmax_messidor_labels):\n",
        "        if (the_kaggle_pred==0 and the_messidor_label==0):\n",
        "            compatible=True\n",
        "        elif (the_kaggle_pred==1 and the_messidor_label==1):\n",
        "            compatible=True\n",
        "        elif ((the_kaggle_pred==1 or the_kaggle_pred==2)\n",
        "              and the_messidor_label==2):\n",
        "            compatible=True\n",
        "        elif ( (the_kaggle_pred >= 2) and the_messidor_label==3 ):\n",
        "            compatible=True\n",
        "        else:\n",
        "            compatible=False\n",
        "        if (compatible):\n",
        "            total_compatible_preds += 1\n",
        "    return total_compatible_preds/len(kaggletype_preds)\n",
        "  \n",
        "  \n",
        "def get_cohens_quadratic_kappa_dropping_class2(kaggletype_preds,\n",
        "                                               messidortype_onehot_labels):\n",
        "    filtered_kaggletype_preds =\\\n",
        "      kaggletype_preds[messidortype_onehot_labels[:,2]==0]\n",
        "    filtered_messidortype_onehot_labels =\\\n",
        "      messidortype_onehot_labels[messidortype_onehot_labels[:,2]==0][:,[0,1,3]]\n",
        "    kaggle_pred_in_messidor_format = np.concatenate(\n",
        "      [filtered_kaggletype_preds[:,0:1],\n",
        "       filtered_kaggletype_preds[:,1:2], \n",
        "       (filtered_kaggletype_preds[:,2:3]\n",
        "        +filtered_kaggletype_preds[:,3:4]\n",
        "        +filtered_kaggletype_preds[:,4:5])], axis=1)\n",
        "    return abstention.abstention.weighted_kappa_metric(\n",
        "            predprobs=kaggle_pred_in_messidor_format,\n",
        "            true_labels=filtered_messidortype_onehot_labels,\n",
        "            weights=np.array([[0,1,4], [1,0,1], [4,1,0]]),\n",
        "            mode='argmax')\n",
        "    \n",
        "\n",
        "\n",
        "for calibname in calibname_to_calibmessidor:\n",
        "    print(\"Calibname\", calibname)\n",
        "    calibkagglepreds = calibname_to_calibkaggle[calibname]\n",
        "    calibmessidorpreds = calibname_to_calibmessidor[calibname]\n",
        "    print(\"kaggle accuracy for diseased v not\",\n",
        "          get_diseased_v_not_accuracy(preds=calibkagglepreds,\n",
        "                                      onehot_labels=kaggle_onehot_labels))\n",
        "    print(\"messidor accuracy for diseased v not\",\n",
        "          get_diseased_v_not_accuracy(preds=calibmessidorpreds,\n",
        "                                      onehot_labels=messidor_onehot_labels))\n",
        "    print(\"messidor total compatible preds\",\n",
        "          get_frac_compatible_preds_messidor(\n",
        "              kaggletype_preds=calibmessidorpreds,\n",
        "              messidortype_onehot_labels=messidor_onehot_labels))\n",
        "    print(\"quadratic kappa:\", get_cohens_quadratic_kappa_dropping_class2(\n",
        "            kaggletype_preds=calibmessidorpreds,\n",
        "            messidortype_onehot_labels=messidor_onehot_labels))"
      ],
      "execution_count": 29,
      "outputs": [
        {
          "output_type": "stream",
          "text": [
            "Calibname None\n",
            "kaggle accuracy for diseased v not 0.8847467273762094\n",
            "messidor accuracy for diseased v not 0.7991666666666667\n",
            "messidor total compatible preds 0.7566666666666667\n",
            "quadratic kappa: 0.8189883216936649\n",
            "Calibname TS\n",
            "kaggle accuracy for diseased v not 0.8847467273762094\n",
            "messidor accuracy for diseased v not 0.7991666666666667\n",
            "messidor total compatible preds 0.7566666666666667\n",
            "quadratic kappa: 0.8192805941731682\n",
            "Calibname BCTS\n",
            "kaggle accuracy for diseased v not 0.885885031303358\n",
            "messidor accuracy for diseased v not 0.7766666666666666\n",
            "messidor total compatible preds 0.7558333333333334\n",
            "quadratic kappa: 0.8131604698704631\n"
          ],
          "name": "stdout"
        }
      ]
    },
    {
      "cell_type": "code",
      "metadata": {
        "id": "OgBYs0-nUm-P",
        "colab_type": "code",
        "colab": {
          "base_uri": "https://localhost:8080/",
          "height": 374
        },
        "outputId": "33f9600d-4c41-484c-a400-6b030cd0c5bf"
      },
      "source": [
        "for adaptncalib in adaptncalib_to_preds:\n",
        "    messidor_preds = adaptncalib_to_preds[adaptncalib]\n",
        "    print(adaptncalib,\"Accuracy for diseased v not\",\n",
        "          get_diseased_v_not_accuracy(preds=messidor_preds,\n",
        "                                      onehot_labels=messidor_onehot_labels))\n",
        "    print(adaptncalib,\"messidor total compatible preds:\",\n",
        "            get_frac_compatible_preds_messidor(\n",
        "                kaggletype_preds=messidor_preds,\n",
        "                messidortype_onehot_labels=messidor_onehot_labels))\n",
        "    print(adaptncalib, \"quadratic kappa:\",\n",
        "          get_cohens_quadratic_kappa_dropping_class2(\n",
        "              kaggletype_preds=messidor_preds,\n",
        "              messidortype_onehot_labels=messidor_onehot_labels))"
      ],
      "execution_count": 30,
      "outputs": [
        {
          "output_type": "stream",
          "text": [
            "bbse-hard:None Accuracy for diseased v not 0.81\n",
            "bbse-hard:None messidor total compatible preds: 0.7566666666666667\n",
            "bbse-hard:None quadratic kappa: 0.8047529769853167\n",
            "bbse-soft:None Accuracy for diseased v not 0.8108333333333333\n",
            "bbse-soft:None messidor total compatible preds: 0.7516666666666667\n",
            "bbse-soft:None quadratic kappa: 0.8207403386433388\n",
            "bbse-soft:TS Accuracy for diseased v not 0.8133333333333334\n",
            "bbse-soft:TS messidor total compatible preds: 0.74\n",
            "bbse-soft:TS quadratic kappa: 0.80614891765428\n",
            "bbse-soft:BCTS Accuracy for diseased v not 0.8016666666666666\n",
            "bbse-soft:BCTS messidor total compatible preds: 0.7691666666666667\n",
            "bbse-soft:BCTS quadratic kappa: 0.8181710202294614\n",
            "em:None Accuracy for diseased v not 0.8091666666666667\n",
            "em:None messidor total compatible preds: 0.755\n",
            "em:None quadratic kappa: 0.8205445011932048\n",
            "em:TS Accuracy for diseased v not 0.8133333333333334\n",
            "em:TS messidor total compatible preds: 0.7491666666666666\n",
            "em:TS quadratic kappa: 0.8134041783752827\n",
            "em:BCTS Accuracy for diseased v not 0.815\n",
            "em:BCTS messidor total compatible preds: 0.7666666666666667\n",
            "em:BCTS quadratic kappa: 0.8436290159979924\n"
          ],
          "name": "stdout"
        }
      ]
    },
    {
      "cell_type": "code",
      "metadata": {
        "id": "6cRau5JA2mFQ",
        "colab_type": "code",
        "colab": {}
      },
      "source": [
        ""
      ],
      "execution_count": 0,
      "outputs": []
    }
  ]
}