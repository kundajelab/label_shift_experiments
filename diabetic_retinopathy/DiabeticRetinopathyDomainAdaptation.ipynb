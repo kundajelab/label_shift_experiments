{
  "nbformat": 4,
  "nbformat_minor": 0,
  "metadata": {
    "colab": {
      "name": "DiabeticRetinopathyDomainAdaptation.ipynb",
      "version": "0.3.2",
      "provenance": [],
      "collapsed_sections": [],
      "include_colab_link": true
    },
    "kernelspec": {
      "name": "python3",
      "display_name": "Python 3"
    }
  },
  "cells": [
    {
      "cell_type": "markdown",
      "metadata": {
        "id": "view-in-github",
        "colab_type": "text"
      },
      "source": [
        "<a href=\"https://colab.research.google.com/github/kundajelab/label_shift_experiments/blob/master/diabetic_retinopathy/DiabeticRetinopathyDomainAdaptation.ipynb\" target=\"_parent\"><img src=\"https://colab.research.google.com/assets/colab-badge.svg\" alt=\"Open In Colab\"/></a>"
      ]
    },
    {
      "cell_type": "code",
      "metadata": {
        "id": "E_HP7qGd0xEM",
        "colab_type": "code",
        "colab": {
          "base_uri": "https://localhost:8080/",
          "height": 391
        },
        "outputId": "5f96d8fe-0846-4b00-d9b4-2f8efa6451fb"
      },
      "source": [
        "!wget https://zenodo.org/record/3412990/files/kaggle_dr.txt.gz?download=1 -O kaggle_dr.txt.gz\n",
        "!wget https://zenodo.org/record/3412990/files/messidor_dr.txt.gz?download=1 -O messidor_dr.txt.gz"
      ],
      "execution_count": 1,
      "outputs": [
        {
          "output_type": "stream",
          "text": [
            "--2019-09-17 00:48:24--  https://zenodo.org/record/3412990/files/kaggle_dr.txt.gz?download=1\n",
            "Resolving zenodo.org (zenodo.org)... 188.184.65.20\n",
            "Connecting to zenodo.org (zenodo.org)|188.184.65.20|:443... connected.\n",
            "HTTP request sent, awaiting response... 200 OK\n",
            "Length: 106643 (104K) [application/octet-stream]\n",
            "Saving to: ‘kaggle_dr.txt.gz’\n",
            "\n",
            "kaggle_dr.txt.gz    100%[===================>] 104.14K   297KB/s    in 0.4s    \n",
            "\n",
            "2019-09-17 00:48:26 (297 KB/s) - ‘kaggle_dr.txt.gz’ saved [106643/106643]\n",
            "\n",
            "--2019-09-17 00:48:26--  https://zenodo.org/record/3412990/files/messidor_dr.txt.gz?download=1\n",
            "Resolving zenodo.org (zenodo.org)... 188.184.65.20\n",
            "Connecting to zenodo.org (zenodo.org)|188.184.65.20|:443... connected.\n",
            "HTTP request sent, awaiting response... 200 OK\n",
            "Length: 38723 (38K) [application/octet-stream]\n",
            "Saving to: ‘messidor_dr.txt.gz’\n",
            "\n",
            "messidor_dr.txt.gz  100%[===================>]  37.82K  --.-KB/s    in 0.1s    \n",
            "\n",
            "2019-09-17 00:48:27 (321 KB/s) - ‘messidor_dr.txt.gz’ saved [38723/38723]\n",
            "\n"
          ],
          "name": "stdout"
        }
      ]
    },
    {
      "cell_type": "code",
      "metadata": {
        "id": "MJQTCzqU1sjV",
        "colab_type": "code",
        "colab": {}
      },
      "source": [
        "import gzip\n",
        "import numpy as np\n",
        "\n",
        "orig_kaggle_onehot_labels = [] #5 classes\n",
        "orig_kaggle_predlogits = []\n",
        "for row in gzip.open(\"kaggle_dr.txt.gz\"):\n",
        "    _, kaggle_label, logits = row.decode(\"utf-8\").rstrip().split(\"\\t\")\n",
        "    kaggle_label = int(kaggle_label)\n",
        "    logits = [float(x) for x in logits.split(\",\")]\n",
        "    labelsvec = np.zeros(5)\n",
        "    labelsvec[kaggle_label] = 1.0\n",
        "    orig_kaggle_onehot_labels.append(labelsvec)\n",
        "    orig_kaggle_predlogits.append(logits)\n",
        "orig_kaggle_onehot_labels = np.array(orig_kaggle_onehot_labels)\n",
        "orig_kaggle_predlogits = np.array(orig_kaggle_predlogits)\n",
        "\n",
        "orig_messidor_onehot_labels = [] #4 classes\n",
        "orig_messidor_predlogits = []\n",
        "for row in gzip.open(\"messidor_dr.txt.gz\"):\n",
        "    _, messidor_label, logits = row.decode(\"utf-8\").rstrip().split(\"\\t\")\n",
        "    messidor_label = int(messidor_label)\n",
        "    logits = [float(x) for x in logits.split(\",\")]\n",
        "    labelsvec = np.zeros(4)\n",
        "    labelsvec[messidor_label] = 1.0\n",
        "    orig_messidor_onehot_labels.append(labelsvec)\n",
        "    orig_messidor_predlogits.append(logits)\n",
        "orig_messidor_onehot_labels = np.array(orig_messidor_onehot_labels)\n",
        "orig_messidor_predlogits = np.array(orig_messidor_predlogits)"
      ],
      "execution_count": 0,
      "outputs": []
    },
    {
      "cell_type": "code",
      "metadata": {
        "id": "NXIVSR4V1u7p",
        "colab_type": "code",
        "colab": {
          "base_uri": "https://localhost:8080/",
          "height": 51
        },
        "outputId": "6cf94fc5-9ddb-4ded-b264-aad796995551"
      },
      "source": [
        "from sklearn.metrics import roc_auc_score\n",
        "from scipy.special import softmax\n",
        "\n",
        "print(roc_auc_score(y_true=1-orig_kaggle_onehot_labels[:,0],\n",
        "                    y_score=1-softmax(orig_kaggle_predlogits, axis=-1)[:,0]))\n",
        "print(roc_auc_score(y_true=1-orig_messidor_onehot_labels[:,0],\n",
        "                    y_score=1-softmax(orig_messidor_predlogits, axis=-1)[:,0]))"
      ],
      "execution_count": 4,
      "outputs": [
        {
          "output_type": "stream",
          "text": [
            "0.8945151902722942\n",
            "0.8920633498604387\n"
          ],
          "name": "stdout"
        }
      ]
    },
    {
      "cell_type": "code",
      "metadata": {
        "id": "y9yE4dRYPaYV",
        "colab_type": "code",
        "colab": {
          "base_uri": "https://localhost:8080/",
          "height": 462
        },
        "outputId": "b857155f-19df-43bd-ed09-9ad38f0b13d5"
      },
      "source": [
        "![[ -e abstention ]] || git clone https://github.com/blindauth/abstention\n",
        "%cd /content/abstention\n",
        "!git checkout iterativebias\n",
        "!git pull\n",
        "!pip uninstall abstention\n",
        "!pip install .\n",
        "%cd .."
      ],
      "execution_count": 5,
      "outputs": [
        {
          "output_type": "stream",
          "text": [
            "Cloning into 'abstention'...\n",
            "remote: Enumerating objects: 56, done.\u001b[K\n",
            "remote: Counting objects: 100% (56/56), done.\u001b[K\n",
            "remote: Compressing objects: 100% (35/35), done.\u001b[K\n",
            "remote: Total 278 (delta 39), reused 38 (delta 21), pack-reused 222\u001b[K\n",
            "Receiving objects: 100% (278/278), 86.26 KiB | 3.92 MiB/s, done.\n",
            "Resolving deltas: 100% (181/181), done.\n",
            "/content/abstention\n",
            "Branch 'iterativebias' set up to track remote branch 'iterativebias' from 'origin'.\n",
            "Switched to a new branch 'iterativebias'\n",
            "Already up to date.\n",
            "\u001b[33mWARNING: Skipping abstention as it is not installed.\u001b[0m\n",
            "Processing /content/abstention\n",
            "Requirement already satisfied: numpy>=1.9 in /usr/local/lib/python3.6/dist-packages (from abstention==0.1.2.1) (1.16.5)\n",
            "Requirement already satisfied: scikit-learn>=0.20.0 in /usr/local/lib/python3.6/dist-packages (from abstention==0.1.2.1) (0.21.3)\n",
            "Requirement already satisfied: scipy>=1.1.0 in /usr/local/lib/python3.6/dist-packages (from abstention==0.1.2.1) (1.3.1)\n",
            "Requirement already satisfied: joblib>=0.11 in /usr/local/lib/python3.6/dist-packages (from scikit-learn>=0.20.0->abstention==0.1.2.1) (0.13.2)\n",
            "Building wheels for collected packages: abstention\n",
            "  Building wheel for abstention (setup.py) ... \u001b[?25l\u001b[?25hdone\n",
            "  Created wheel for abstention: filename=abstention-0.1.2.1-cp36-none-any.whl size=45664 sha256=80d137cc6ad8c994d780b085928fc61716869d97733c2b18d44370b9b8abd2e3\n",
            "  Stored in directory: /tmp/pip-ephem-wheel-cache-xrzij5wa/wheels/60/8e/d2/9e9ca02e7b5f76bfda2e2daa6dcbe42c19095c502ccb653729\n",
            "Successfully built abstention\n",
            "Installing collected packages: abstention\n",
            "Successfully installed abstention-0.1.2.1\n",
            "/content\n"
          ],
          "name": "stdout"
        }
      ]
    },
    {
      "cell_type": "code",
      "metadata": {
        "id": "0wfr8G-HOEN4",
        "colab_type": "code",
        "colab": {}
      },
      "source": [
        "#do calibration and domain adaptation\n",
        "from collections import OrderedDict\n",
        "from importlib import reload\n",
        "import abstention\n",
        "reload(abstention)\n",
        "reload(abstention.calibration)\n",
        "reload(abstention.label_shift)\n",
        "from abstention.calibration import (\n",
        "    TempScaling, CrossValidatedBCTS, ConfusionMatrix, softmax)\n",
        "from abstention.label_shift import (EMImbalanceAdapter, BBSEImbalanceAdapter)\n",
        "\n",
        "calibname_to_calibfactory = OrderedDict([\n",
        "    ('None', abstention.calibration.Softmax()),\n",
        "    ('TS', TempScaling(verbose=False)),\n",
        "    ('BCTS', TempScaling(verbose=False,\n",
        "                         bias_positions=[0,1,2,3,4])),\n",
        "    #('CVBCTS', CrossValidatedBCTS(verbose=True,\n",
        "    #                              num_crossvalidation_splits=5,\n",
        "    #                              betas_to_try=[0.0, 1e-7, 1e-6, 1e-5, 1e-4, 1e-3, 1e-2, 1e-1, 1.0, 10]\n",
        "    #                             ))\n",
        "])\n",
        "\n",
        "adaptname_to_adapter = OrderedDict([\n",
        "    ('em', EMImbalanceAdapter()),\n",
        "    ('bbse-hard', BBSEImbalanceAdapter(soft=False)),\n",
        "    ('bbse-soft', BBSEImbalanceAdapter(soft=True))\n",
        "])\n",
        "    \n",
        "adaptncalib_pairs = [\n",
        "    ('bbse-hard', 'None'),\n",
        "    ('bbse-soft', 'None'),\n",
        "    ('bbse-soft', 'TS'),\n",
        "    ('bbse-soft', 'BCTS'),\n",
        "    #('bbse-soft', 'CVBCTS'),\n",
        "    ('em', 'None'),\n",
        "    ('em', 'TS'),\n",
        "    ('em', 'BCTS'),\n",
        "    #('em', 'CVBCTS'),\n",
        "]\n",
        "    "
      ],
      "execution_count": 0,
      "outputs": []
    },
    {
      "cell_type": "code",
      "metadata": {
        "id": "0P16NZASyVbr",
        "colab_type": "code",
        "colab": {}
      },
      "source": [
        "def get_diseased_v_not_accuracy(preds, onehot_labels):\n",
        "    return np.mean((np.argmax(preds,axis=-1) > 0.0)\n",
        "                   ==(1-onehot_labels[:,0]))\n",
        "\n",
        "def get_frac_compatible_preds_messidor(kaggletype_preds,\n",
        "                                       messidortype_onehot_labels):\n",
        "    total_compatible_preds = 0\n",
        "    argmax_kaggle_preds = np.argmax(kaggletype_preds, axis=-1)\n",
        "    argmax_messidor_labels = np.argmax(messidortype_onehot_labels, axis=-1)\n",
        "    for the_kaggle_pred, the_messidor_label in zip(argmax_kaggle_preds,\n",
        "                                                   argmax_messidor_labels):\n",
        "        if (the_kaggle_pred==0 and the_messidor_label==0):\n",
        "            compatible=True\n",
        "        elif (the_kaggle_pred==1 and the_messidor_label==1):\n",
        "            compatible=True\n",
        "        elif ((the_kaggle_pred==1 or the_kaggle_pred==2)\n",
        "              and the_messidor_label==2):\n",
        "            compatible=True\n",
        "        elif ( (the_kaggle_pred >= 2) and the_messidor_label==3 ):\n",
        "            compatible=True\n",
        "        else:\n",
        "            compatible=False\n",
        "        if (compatible):\n",
        "            total_compatible_preds += 1\n",
        "    return total_compatible_preds/len(kaggletype_preds)\n",
        "  \n",
        "  \n",
        "def convert_kagglepreds_to_messidortype(kaggletype_preds):\n",
        "  to_return = np.concatenate(\n",
        "          [kaggletype_preds[:,0:1],\n",
        "           kaggletype_preds[:,1:2], \n",
        "           (kaggletype_preds[:,2:3]\n",
        "            +kaggletype_preds[:,3:4]\n",
        "            +kaggletype_preds[:,4:5])], axis=1)\n",
        "  #normalize to sum to 1\n",
        "  return to_return/np.sum(to_return, axis=-1)[:,None]\n",
        "  \n",
        "  \n",
        "def get_cohens_quadratic_kappa_dropping_class2(kaggletype_preds,\n",
        "                                               messidortype_onehot_labels):\n",
        "    filtered_kaggletype_preds =\\\n",
        "      convert_kagglepreds_to_messidortype(kaggletype_preds)[\n",
        "        messidortype_onehot_labels[:,2]==0]\n",
        "    filtered_messidortype_onehot_labels =\\\n",
        "      messidortype_onehot_labels[messidortype_onehot_labels[:,2]==0][:,[0,1,3]]\n",
        "    return abstention.abstention.weighted_kappa_metric(\n",
        "            predprobs=filtered_kaggletype_preds,\n",
        "            true_labels=filtered_messidortype_onehot_labels,\n",
        "            weights=np.array([[0,1,4], [1,0,1], [4,1,0]]),\n",
        "            mode='argmax')"
      ],
      "execution_count": 0,
      "outputs": []
    },
    {
      "cell_type": "code",
      "metadata": {
        "id": "OgBYs0-nUm-P",
        "colab_type": "code",
        "colab": {}
      },
      "source": [
        "from collections import defaultdict\n",
        "\n",
        "metric_to_adaptname_to_perfs = defaultdict(lambda: defaultdict(list))\n",
        "\n",
        "for seed in [10,20,30,40,50,60,70,80,100]:\n",
        "  \n",
        "  bootstrap_messidor_indices = np.random.RandomState(seed).choice(\n",
        "      a=np.arange(len(orig_messidor_onehot_labels)),\n",
        "      size=len(orig_messidor_onehot_labels))  \n",
        "  bootstrap_kaggle_indices = np.random.RandomState(seed).choice(\n",
        "      a=np.arange(len(orig_kaggle_onehot_labels)),\n",
        "      size=len(orig_kaggle_onehot_labels))\n",
        "  \n",
        "  messidor_onehot_labels = orig_messidor_onehot_labels[bootstrap_messidor_indices]\n",
        "  kaggle_onehot_labels = orig_kaggle_onehot_labels[bootstrap_kaggle_indices]\n",
        "  messidor_predlogits = orig_messidor_predlogits[bootstrap_messidor_indices]\n",
        "  kaggle_predlogits = orig_kaggle_predlogits[bootstrap_kaggle_indices]\n",
        "  \n",
        "  calibname_to_calibfunc = OrderedDict()\n",
        "  calibname_to_calibkaggle = OrderedDict()\n",
        "  calibname_to_calibmessidor = OrderedDict()\n",
        "  for calibname in calibname_to_calibfactory:\n",
        "      calibfactory = calibname_to_calibfactory[calibname]\n",
        "      calibfunc = calibfactory(valid_preacts=kaggle_predlogits,\n",
        "                               valid_labels=kaggle_onehot_labels)\n",
        "      calibname_to_calibfunc[calibname] = calibfunc\n",
        "      calibname_to_calibkaggle[calibname] = calibfunc(kaggle_predlogits)\n",
        "      calibname_to_calibmessidor[calibname] = calibfunc(messidor_predlogits)\n",
        "\n",
        "  adaptncalib_to_preds = OrderedDict()\n",
        "  for (adaptname, calibname) in adaptncalib_pairs:\n",
        "      calibkaggle_preds = calibname_to_calibkaggle[calibname]\n",
        "      calibmessidor_preds = calibname_to_calibmessidor[calibname]\n",
        "      adapter = adaptname_to_adapter[adaptname]\n",
        "      adapter_func = adapter(valid_labels=kaggle_onehot_labels,\n",
        "                             tofit_initial_posterior_probs=calibmessidor_preds,\n",
        "                             valid_posterior_probs=calibkaggle_preds)\n",
        "      adapted_messidor_preds = adapter_func(calibmessidor_preds)\n",
        "      adaptncalib_to_preds[adaptname+\":\"+calibname] = adapted_messidor_preds\n",
        "  \n",
        "  for calibname in calibname_to_calibmessidor:\n",
        "    #print(\"Calibname\", calibname)\n",
        "    calibkagglepreds = calibname_to_calibkaggle[calibname]\n",
        "    calibmessidorpreds = calibname_to_calibmessidor[calibname]\n",
        "    #print(\"kaggle class proportion diff\",\n",
        "    #      (np.mean(calibkagglepreds, axis=0)-\n",
        "    #       np.mean(kaggle_onehot_labels, axis=0)) )\n",
        "    #print(\"kaggle accuracy for diseased v not\",\n",
        "    #      get_diseased_v_not_accuracy(preds=calibkagglepreds,\n",
        "    #                                  onehot_labels=kaggle_onehot_labels))\n",
        "    \n",
        "    #print(\"Messidor diseased v not class proportion diff\",\n",
        "    #      (np.mean(calibmessidorpreds[:,0], axis=0)-\n",
        "    #       np.mean(messidor_onehot_labels[:,0], axis=0))) \n",
        "    messidorformat_calibmessidorpreds_noclass2 =\\\n",
        "      convert_kagglepreds_to_messidortype(kaggletype_preds=calibmessidorpreds)[\n",
        "        messidor_onehot_labels[:,2]==0]\n",
        "    messidor_onehot_labels_noclass2 = messidor_onehot_labels[:,[0,1,3]][\n",
        "        messidor_onehot_labels[:,2]==0]\n",
        "    #print(\"Messidor no class 2 proportion diff\",\n",
        "    #      (np.mean(messidorformat_calibmessidorpreds_noclass2, axis=0)-\n",
        "    #       np.mean(messidor_onehot_labels_noclass2, axis=0)))\n",
        "    \n",
        "    #print(\"messidor accuracy for diseased v not\",\n",
        "    #      get_diseased_v_not_accuracy(preds=calibmessidorpreds,\n",
        "    #                                  onehot_labels=messidor_onehot_labels))\n",
        "    #print(\"messidor total compatible preds\",\n",
        "    #      get_frac_compatible_preds_messidor(\n",
        "    #          kaggletype_preds=calibmessidorpreds,\n",
        "    #          messidortype_onehot_labels=messidor_onehot_labels))\n",
        "    #print(\"quadratic kappa:\", get_cohens_quadratic_kappa_dropping_class2(\n",
        "    #        kaggletype_preds=calibmessidorpreds,\n",
        "    #        messidortype_onehot_labels=messidor_onehot_labels))\n",
        "  \n",
        "  for adaptncalib in adaptncalib_to_preds:\n",
        "      #print(adaptncalib,\"Accuracy for diseased v not\",\n",
        "      #      get_diseased_v_not_accuracy(preds=messidor_preds,\n",
        "      #                                  onehot_labels=messidor_onehot_labels))\n",
        "      messidor_preds = adaptncalib_to_preds[adaptncalib]\n",
        "      metric_to_adaptname_to_perfs[\"totalcompatiblepreds\"][adaptncalib].append(\n",
        "          get_frac_compatible_preds_messidor(\n",
        "                  kaggletype_preds=messidor_preds,\n",
        "                  messidortype_onehot_labels=messidor_onehot_labels))\n",
        "\n",
        "      metric_to_adaptname_to_perfs[\"quadratickappa\"][adaptncalib].append(\n",
        "          get_cohens_quadratic_kappa_dropping_class2(\n",
        "                kaggletype_preds=messidor_preds,\n",
        "                messidortype_onehot_labels=messidor_onehot_labels))\n",
        "      #print(adaptncalib,\"Messidor diseased v not class proportion diff\",\n",
        "      #      (np.mean(messidor_preds[:,0], axis=0)-\n",
        "      #       np.mean(messidor_onehot_labels[:,0], axis=0))) \n",
        "      #messidorformat_messidorpreds_noclass2 =\\\n",
        "      #  convert_kagglepreds_to_messidortype(kaggletype_preds=messidor_preds)[\n",
        "      #    messidor_onehot_labels[:,2]==0]\n",
        "      #messidor_onehot_labels_noclass2 = messidor_onehot_labels[:,[0,1,3]][\n",
        "      #    messidor_onehot_labels[:,2]==0]\n",
        "      #print(adaptncalib,\"Messidor no class 2 proportion diff\",\n",
        "      #      (np.mean(messidorformat_messidorpreds_noclass2, axis=0)-\n",
        "      #       np.mean(messidor_onehot_labels_noclass2, axis=0)))\n"
      ],
      "execution_count": 0,
      "outputs": []
    },
    {
      "cell_type": "code",
      "metadata": {
        "id": "6cRau5JA2mFQ",
        "colab_type": "code",
        "colab": {
          "base_uri": "https://localhost:8080/",
          "height": 289
        },
        "outputId": "e63cb517-cfd5-4361-ae0d-ccf519139804"
      },
      "source": [
        "for metric in [\"quadratickappa\", \"totalcompatiblepreds\"]:\n",
        "  print(\"Metric\",metric)\n",
        "  for adaptncalib in adaptncalib_to_preds:\n",
        "    print(adaptncalib, np.mean(metric_to_adaptname_to_perfs[metric][adaptncalib]))"
      ],
      "execution_count": 10,
      "outputs": [
        {
          "output_type": "stream",
          "text": [
            "Metric quadratickappa\n",
            "bbse-hard:None 0.8118530204222877\n",
            "bbse-soft:None 0.8252134605260347\n",
            "bbse-soft:TS 0.8122614069014431\n",
            "bbse-soft:BCTS 0.821721245227683\n",
            "em:None 0.8256087128465137\n",
            "em:TS 0.8183388709140387\n",
            "em:BCTS 0.8393002114503503\n",
            "Metric totalcompatiblepreds\n",
            "bbse-hard:None 0.765\n",
            "bbse-soft:None 0.7573148148148149\n",
            "bbse-soft:TS 0.7472222222222222\n",
            "bbse-soft:BCTS 0.7737037037037038\n",
            "em:None 0.7591666666666667\n",
            "em:TS 0.7519444444444444\n",
            "em:BCTS 0.7664814814814815\n"
          ],
          "name": "stdout"
        }
      ]
    },
    {
      "cell_type": "code",
      "metadata": {
        "id": "LuP7ISkdraJM",
        "colab_type": "code",
        "colab": {}
      },
      "source": [
        ""
      ],
      "execution_count": 0,
      "outputs": []
    }
  ]
}