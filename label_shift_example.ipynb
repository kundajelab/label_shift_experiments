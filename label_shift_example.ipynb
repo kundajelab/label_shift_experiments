{
 "cells": [
  {
   "cell_type": "code",
   "execution_count": 1,
   "metadata": {},
   "outputs": [],
   "source": [
    "import scipy.stats\n",
    "import numpy as np\n",
    "import seaborn as sns\n",
    "import matplotlib\n",
    "import matplotlib.pyplot as plt\n",
    "%matplotlib inline"
   ]
  },
  {
   "cell_type": "code",
   "execution_count": 2,
   "metadata": {},
   "outputs": [],
   "source": [
    "negdist = scipy.stats.norm(0.4, 0.1)\n",
    "posdist = scipy.stats.norm(0.7, 0.1)\n",
    "buckets = np.arange(0, 1.11, 0.01)\n",
    "midpoints = np.arange(0, 1.11, 0.01)-0.025\n",
    "negcdfs = []\n",
    "poscdfs = []\n",
    "for endpoint in buckets:\n",
    "    negcdfs.append(negdist.cdf(endpoint))\n",
    "    poscdfs.append(posdist.cdf(endpoint))\n",
    "negprobs = []\n",
    "posprobs = []\n",
    "negprobs.append(negcdfs[0])\n",
    "posprobs.append(poscdfs[0])\n",
    "for idx, midpoint in enumerate(midpoints):\n",
    "    if idx == 0: continue\n",
    "    negprobs.append(negcdfs[idx]-negcdfs[idx-1])\n",
    "    posprobs.append(poscdfs[idx]-poscdfs[idx-1])\n",
    "midpoints = np.append(midpoints, 1.125)\n",
    "negprobs.append(1-negcdfs[-1])\n",
    "posprobs.append(1-poscdfs[-1])"
   ]
  },
  {
   "cell_type": "code",
   "execution_count": 3,
   "metadata": {},
   "outputs": [],
   "source": [
    "def generateData(ratio, total):\n",
    "    p = int(ratio*total)\n",
    "    n = total-p\n",
    "    E_neg = []\n",
    "    E_pos = []\n",
    "    E_por_pos = []\n",
    "    for idx, point in enumerate(midpoints):\n",
    "        E_neg.append(negprobs[idx]*n)\n",
    "        E_pos.append(posprobs[idx]*p)\n",
    "        E_por_pos.append(E_pos[-1]/(E_neg[-1]+E_pos[-1]))\n",
    "    return E_neg, E_pos, E_por_pos"
   ]
  },
  {
   "cell_type": "code",
   "execution_count": 4,
   "metadata": {},
   "outputs": [],
   "source": [
    "font = {'weight' : 'bold', 'size'   : 22}\n",
    "matplotlib.rc('font', **font)\n",
    "_, _, E_por_const = generateData(ratio=0.2, total=10000)\n",
    "for idx, ratio in enumerate(np.arange(0.2, 0.91, 0.01)):\n",
    "    E_neg, E_pos, E_por_pos = generateData(ratio=ratio, total=10000)\n",
    "    \n",
    "    fig, ax1 = plt.subplots(figsize=(10,6))\n",
    "    ax2 = ax1.twinx()\n",
    "    ax1.set_title(\"Fraction of Positives: \"+\"{:.2f}\".format(round(ratio, 2)))\n",
    "    \n",
    "    ax1.plot(midpoints, E_pos, '-', color='darkred', linewidth=4, label='expected num of positives')\n",
    "    ax1.plot(midpoints, E_neg, '-', color='darkgreen', linewidth=4, label='expected num of negatives')\n",
    "    ax2.plot(midpoints, E_por_pos, '-', color='black', linewidth=4, label='proportion of positives')\n",
    "    ax2.plot(midpoints, E_por_const, '.', color='black', linewidth=4, label='original proportion')\n",
    "    \n",
    "    ax1.set_xlabel('input features')\n",
    "    ax1.set_ylabel('expectation', color='darkred')\n",
    "    ax2.set_ylabel('proportion', color='black')\n",
    "    ax1.set_xlim(-0.1, 1.19)\n",
    "    ax1.set_ylim(-18, 378)\n",
    "    ax2.set_ylim(-0.05, 1.05)\n",
    "    lgd = fig.legend(bbox_to_anchor=(1, 0.75), loc='center left', borderaxespad=0., prop={'size': 12})\n",
    "    fig.savefig('example_figs/'+str(format(idx, '03'))+'.png', bbox_extra_artists=(lgd,), bbox_inches='tight')\n",
    "    plt.close()"
   ]
  }
 ],
 "metadata": {
  "kernelspec": {
   "display_name": "Python [conda env:basepair]",
   "language": "python",
   "name": "conda-env-basepair-py"
  },
  "language_info": {
   "codemirror_mode": {
    "name": "ipython",
    "version": 3
   },
   "file_extension": ".py",
   "mimetype": "text/x-python",
   "name": "python",
   "nbconvert_exporter": "python",
   "pygments_lexer": "ipython3",
   "version": "3.6.8"
  }
 },
 "nbformat": 4,
 "nbformat_minor": 4
}
